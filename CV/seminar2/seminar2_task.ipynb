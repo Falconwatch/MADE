{
 "cells": [
  {
   "cell_type": "code",
   "execution_count": 2,
   "metadata": {},
   "outputs": [],
   "source": [
    "import numpy as np \n",
    "import _pickle as cPickle\n",
    "import gzip\n",
    "import os\n",
    "from sklearn.utils import shuffle\n",
    "from tqdm import tqdm"
   ]
  },
  {
   "cell_type": "code",
   "execution_count": 7,
   "metadata": {},
   "outputs": [],
   "source": [
    "# utility functions\n",
    "\n",
    "def one_hot_encoded(y, num_class):\n",
    "    n = y.shape[0]\n",
    "    onehot = np.zeros((n, num_class), dtype=\"int32\")\n",
    "    for i in range(n):\n",
    "        idx = y[i]\n",
    "        onehot[i][idx] = 1\n",
    "    return onehot\n",
    "\n",
    "\n",
    "def check_accuracy(y_true, y_pred):\n",
    "    return np.mean(y_pred == y_true)  # both are not one hot encoded\n",
    "\n",
    "\n",
    "def softmax(x):\n",
    "    max_x = np.max(x, axis=1, keepdims=True)\n",
    "    exp_x = np.exp(x-max_x)\n",
    "    return exp_x / np.sum(exp_x, axis=1, keepdims=True)\n",
    "    # YOUR CODE HERE\n",
    "    \n",
    "# l2 regularization\n",
    "def l2_reg(layers, lam=0.001):\n",
    "    reg_loss = 0.0\n",
    "    for layer in layers:\n",
    "        if hasattr(layer, 'W'):\n",
    "            reg_loss += 0.5 * lam * np.sum(layer.W * layer.W)\n",
    "    return reg_loss\n",
    "\n",
    "\n",
    "# l2 regularization grad\n",
    "def delta_l2_reg(layers, grads, lam=0.001):\n",
    "    for layer, grad in zip(layers, reversed(grads)):\n",
    "        if hasattr(layer, 'W'):\n",
    "            grad[0] += lam * layer.W\n",
    "    return grads\n"
   ]
  },
  {
   "cell_type": "code",
   "execution_count": 8,
   "metadata": {},
   "outputs": [
    {
     "data": {
      "text/plain": [
       "array([[0.21194156, 0.57611688, 0.21194156]])"
      ]
     },
     "execution_count": 8,
     "metadata": {},
     "output_type": "execute_result"
    }
   ],
   "source": [
    "softmax([[1,2,1]])"
   ]
  },
  {
   "cell_type": "code",
   "execution_count": 11,
   "metadata": {},
   "outputs": [],
   "source": [
    "def eval_numerical_gradient(f, x, verbose=False, h=0.00001):\n",
    "    \"\"\"Evaluates gradient df/dx via finite differences:\n",
    "    df/dx ~ (f(x+h) - f(x-h)) / 2h\n",
    "    Adopted from https://github.com/ddtm/dl-course/\n",
    "    \"\"\"\n",
    "    fx = f(x) # evaluate function value at original point\n",
    "    grad = np.zeros_like(x)\n",
    "    # iterate over all indexes in x\n",
    "    it = np.nditer(x, flags=['multi_index'], op_flags=['readwrite'])\n",
    "    while not it.finished:\n",
    "\n",
    "        # evaluate function at x+h\n",
    "        ix = it.multi_index\n",
    "        oldval = x[ix]\n",
    "        x[ix] = oldval + h # increment by h\n",
    "        fxph = f(x) # evalute f(x + h)\n",
    "        x[ix] = oldval - h\n",
    "        fxmh = f(x) # evaluate f(x - h)\n",
    "        x[ix] = oldval # restore\n",
    "\n",
    "        # compute the partial derivative with centered formula\n",
    "        grad[ix] = (fxph - fxmh) / (2 * h) # the slope\n",
    "        if verbose:\n",
    "            print (ix, grad[ix])\n",
    "        it.iternext() # step to next dimension\n",
    "\n",
    "    return grad"
   ]
  },
  {
   "cell_type": "code",
   "execution_count": 12,
   "metadata": {},
   "outputs": [],
   "source": [
    "class ReLU():\n",
    "    def __init__(self):\n",
    "        self.params = []\n",
    "        self.gradInput = None\n",
    "\n",
    "    def forward(self, X, mode):\n",
    "        self.X = X\n",
    "        return np.maximum(X,0)\n",
    "        # YOUR CODE HERE\n",
    "    \n",
    "    def backward(self, dout, mode):\n",
    "        self.gradInput = dout.copy()\n",
    "        self.gradInput[self.X<=0] = 0\n",
    "        return self.gradInput, []\n",
    "        # YOUR CODE HERE\n"
   ]
  },
  {
   "cell_type": "code",
   "execution_count": 13,
   "metadata": {},
   "outputs": [
    {
     "name": "stdout",
     "output_type": "stream",
     "text": [
      "[[0. 0. 0. 0. 0. 0. 0. 0. 0. 0. 0. 0.]\n",
      " [0. 0. 0. 0. 0. 0. 0. 0. 0. 0. 0. 0.]\n",
      " [0. 0. 0. 0. 0. 0. 0. 0. 0. 0. 0. 0.]\n",
      " [0. 0. 0. 0. 0. 0. 0. 0. 0. 0. 0. 0.]\n",
      " [0. 0. 0. 0. 0. 0. 0. 0. 0. 0. 0. 0.]\n",
      " [1. 1. 1. 1. 1. 1. 1. 1. 1. 1. 1. 1.]\n",
      " [1. 1. 1. 1. 1. 1. 1. 1. 1. 1. 1. 1.]\n",
      " [1. 1. 1. 1. 1. 1. 1. 1. 1. 1. 1. 1.]\n",
      " [1. 1. 1. 1. 1. 1. 1. 1. 1. 1. 1. 1.]\n",
      " [1. 1. 1. 1. 1. 1. 1. 1. 1. 1. 1. 1.]]\n"
     ]
    }
   ],
   "source": [
    "points = np.linspace(-1, 1, 10*12).reshape([10, 12])\n",
    "relu = ReLU()\n",
    "f = lambda x: relu.forward(x, mode='train').sum(axis=1).sum()\n",
    "res = f(points)\n",
    "numeric_grads = eval_numerical_gradient(f, points)\n",
    "print(numeric_grads)\n",
    "inp_grad = np.ones(shape=(10, 12))\n",
    "grads = relu.backward(inp_grad, mode='train')[0]\n",
    "assert np.allclose(grads, numeric_grads, rtol=1e-3, atol=0)"
   ]
  },
  {
   "cell_type": "code",
   "execution_count": 16,
   "metadata": {},
   "outputs": [],
   "source": [
    "class Linear():\n",
    "\n",
    "    def __init__(self, in_size, out_size):\n",
    "\n",
    "        # Xavier init\n",
    "        self.W = np.random.randn(in_size, out_size) / np.sqrt(in_size + out_size/ 2.)\n",
    "        self.b = np.zeros((1, out_size))\n",
    "        self.params = [self.W, self.b]\n",
    "        self.gradW = None\n",
    "        self.gradB = None\n",
    "        self.gradInput = None\n",
    "\n",
    "    def forward(self, X, mode):\n",
    "        self.X = X\n",
    "        return X.dot(self.W) + self.b\n",
    "        # YOUR CODE HERE\n",
    "        pass\n",
    "    \n",
    "    def backward(self, dout, mode):\n",
    "        self.gradW = self.X.T.dot(dout)\n",
    "        self.gradInput = dout.dot(self.W.T)\n",
    "        self.gradB = dout.sum(axis=0)\n",
    "        return self.gradInput, [self.gradW, self.gradB]\n",
    "        # YOUR CODE HERE\n",
    "        pass"
   ]
  },
  {
   "cell_type": "code",
   "execution_count": 17,
   "metadata": {},
   "outputs": [
    {
     "name": "stdout",
     "output_type": "stream",
     "text": [
      "[[-1.0773238   1.45328929 -0.94217697  0.18629766 -0.39587126  0.27521949\n",
      "   0.3379231  -0.54677066 -1.32830072 -0.64419137 -0.21888084  0.41351198]\n",
      " [-1.0773238   1.45328929 -0.94217697  0.18629766 -0.39587126  0.27521949\n",
      "   0.3379231  -0.54677066 -1.32830072 -0.64419137 -0.21888084  0.41351198]\n",
      " [-1.0773238   1.45328929 -0.94217697  0.18629766 -0.39587126  0.27521949\n",
      "   0.3379231  -0.54677066 -1.32830072 -0.64419137 -0.21888084  0.41351198]\n",
      " [-1.0773238   1.45328929 -0.94217697  0.18629766 -0.39587126  0.27521949\n",
      "   0.3379231  -0.54677066 -1.32830072 -0.64419137 -0.21888084  0.41351198]\n",
      " [-1.0773238   1.45328929 -0.94217697  0.18629766 -0.39587126  0.27521949\n",
      "   0.3379231  -0.54677066 -1.32830072 -0.64419137 -0.21888084  0.41351198]\n",
      " [-1.0773238   1.45328929 -0.94217697  0.18629766 -0.39587126  0.27521949\n",
      "   0.3379231  -0.54677066 -1.32830072 -0.64419137 -0.21888084  0.41351198]\n",
      " [-1.0773238   1.45328929 -0.94217697  0.18629766 -0.39587126  0.27521949\n",
      "   0.3379231  -0.54677066 -1.32830072 -0.64419137 -0.21888084  0.41351198]\n",
      " [-1.0773238   1.45328929 -0.94217697  0.18629766 -0.39587126  0.27521949\n",
      "   0.3379231  -0.54677066 -1.32830072 -0.64419137 -0.21888084  0.41351198]\n",
      " [-1.0773238   1.45328929 -0.94217697  0.18629766 -0.39587126  0.27521949\n",
      "   0.3379231  -0.54677066 -1.32830072 -0.64419137 -0.21888084  0.41351198]\n",
      " [-1.0773238   1.45328929 -0.94217697  0.18629766 -0.39587126  0.27521949\n",
      "   0.3379231  -0.54677066 -1.32830072 -0.64419137 -0.21888084  0.41351198]]\n"
     ]
    }
   ],
   "source": [
    "points = np.linspace(-1, 1, 10*12).reshape([10, 12])\n",
    "relu = Linear(12, 5)\n",
    "f = lambda x: relu.forward(x, mode='train').sum(axis=1).sum()\n",
    "res = f(points)\n",
    "numeric_grads = eval_numerical_gradient(f, points)\n",
    "print(numeric_grads)\n",
    "inp_grad = np.ones(shape=(10, 5))\n",
    "grads = relu.backward(inp_grad, mode='train')[0]\n",
    "assert np.allclose(grads, numeric_grads, rtol=1e-3, atol=0)"
   ]
  },
  {
   "cell_type": "code",
   "execution_count": 25,
   "metadata": {},
   "outputs": [],
   "source": [
    "class CrossEntropyLoss(object):\n",
    "\n",
    "    def forward(self, X, y):\n",
    "        self.m = y.shape[0] # self.m ==X.shape[0]\n",
    "        self.p = softmax(X)\n",
    "        cross_entropy = -np.log(self.p[range(self.m), y])\n",
    "        loss = np.sum(cross_entropy) / self.m\n",
    "        return loss\n",
    "        # YOUR CODE HERE\n",
    "        pass\n",
    "    \n",
    "    def backward(self, X, y):\n",
    "        dx = self.p.copy()\n",
    "        dx[range(self.m), y] -=1\n",
    "        dx /= self.m\n",
    "        return dx\n",
    "        # YOUR CODE HERE\n",
    "        pass"
   ]
  },
  {
   "cell_type": "code",
   "execution_count": null,
   "metadata": {},
   "outputs": [],
   "source": []
  },
  {
   "cell_type": "markdown",
   "metadata": {},
   "source": [
    "## NN implementation"
   ]
  },
  {
   "cell_type": "code",
   "execution_count": 26,
   "metadata": {},
   "outputs": [],
   "source": [
    "class NN:\n",
    "\n",
    "    def __init__(self, loss_func=CrossEntropyLoss(), mode = 'train'):\n",
    "    \n",
    "        self.layers = []\n",
    "        self.params = []\n",
    "        self.loss_func = loss_func\n",
    "        self.grads = []\n",
    "        self.mode = mode\n",
    "\n",
    "    def add_layer(self,layer):\n",
    "        self.layers.append(layer)\n",
    "        self.params.append(layer.params)\n",
    "\n",
    "    def forward(self, X):\n",
    "        for layer in self.layers:\n",
    "            X = layer.forward(X, self.mode)\n",
    "        return X\n",
    "\n",
    "    def backward(self, dout):\n",
    "        self.clear_grad_param()\n",
    "        for layer in reversed(self.layers):\n",
    "            dout, grad = layer.backward(dout, self.mode)\n",
    "            self.grads.append(grad)\n",
    "        return self.grads\n",
    "\n",
    "    def train_step(self, X, y):\n",
    "        out = self.forward(X)\n",
    "        loss = self.loss_func.forward(out,y)\n",
    "        dout = self.loss_func.backward(out,y)\n",
    "        loss += l2_reg(self.layers)\n",
    "        grads = self.backward(dout)\n",
    "        grads = delta_l2_reg(self.layers, grads)\n",
    "        return loss, grads\n",
    "\n",
    "    def predict(self, X):\n",
    "        X = self.forward(X)\n",
    "        return np.argmax(softmax(X), axis=1)\n",
    "\n",
    "\n",
    "    def dispGradParam():\n",
    "        print(self.grads)\n",
    "    \n",
    "\n",
    "    def clear_grad_param(self):\n",
    "        self.grads = []"
   ]
  },
  {
   "cell_type": "code",
   "execution_count": 27,
   "metadata": {},
   "outputs": [],
   "source": [
    "# SGD with momentum\n",
    "def update(velocity, params, grads, learning_rate=0.001, mu=0.9):\n",
    "    for v, p, g, in zip(velocity, params, reversed(grads)):\n",
    "        for i in range(len(g)):\n",
    "            v[i] = mu * v[i] + learning_rate * g[i]\n",
    "            p[i] -= v[i]\n",
    "\n",
    "\n",
    "# get minibatches\n",
    "def minibatch(X, y, minibatch_size):\n",
    "    n = X.shape[0]\n",
    "    minibatches = []\n",
    "    X, y = shuffle(X, y)\n",
    "\n",
    "    for i in range(0, n , minibatch_size):\n",
    "        X_batch = X[i:i + minibatch_size, ...]\n",
    "        y_batch = y[i:i + minibatch_size, ...]\n",
    "\n",
    "        minibatches.append((X_batch, y_batch))\n",
    "    return minibatches\n"
   ]
  },
  {
   "cell_type": "code",
   "execution_count": 28,
   "metadata": {},
   "outputs": [],
   "source": [
    "def train(net, X_train, y_train, minibatch_size, epoch, learning_rate, mu=0.9,\n",
    "                 verbose=True, X_val=None, y_val=None, nesterov=True):\n",
    "    val_loss_epoch = []\n",
    "    minibatches = minibatch(X_train, y_train, minibatch_size)\n",
    "    minibatches_val = minibatch(X_val, y_val, minibatch_size)\n",
    "\n",
    "    c = 0 \n",
    "    for i in range(epoch):\n",
    "        loss_batch = []\n",
    "        val_loss_batch = []\n",
    "        velocity = []\n",
    "        for param_layer in net.params:\n",
    "            p = [np.zeros_like(param) for param in list(param_layer)]\n",
    "            velocity.append(p)\n",
    "\n",
    "        if verbose:\n",
    "            print(\"Epoch {0}\".format(i + 1))\n",
    "\n",
    "        # iterate over mini batches\n",
    "        for X_mini, y_mini in tqdm(minibatches):\n",
    "\n",
    "            loss, grads = net.train_step(X_mini, y_mini)\n",
    "            loss_batch.append(loss)\n",
    "            update(velocity, net.params, grads,\n",
    "                            learning_rate=learning_rate, mu=mu)\n",
    "\n",
    "        for X_mini_val, y_mini_val in tqdm(minibatches_val):\n",
    "            val_loss, _ = net.train_step(X_mini, y_mini)\n",
    "            val_loss_batch.append(val_loss)\n",
    "\n",
    "\n",
    "        # accuracy of model at end of epoch after all mini batch updates   \n",
    "\n",
    "        if verbose:\n",
    "            m_train = X_train.shape[0]\n",
    "            m_val = X_val.shape[0]\n",
    "            y_train_pred = np.array([], dtype=\"int64\")\n",
    "            y_val_pred = np.array([], dtype=\"int64\")\n",
    "\n",
    "            for i in range(0, m_train, minibatch_size):\n",
    "                X_tr = X_train[i:i + minibatch_size, : ]\n",
    "                y_tr = y_train[i:i + minibatch_size, ]\n",
    "                y_train_pred = np.append(y_train_pred, net.predict(X_tr))\n",
    "\n",
    "            for i in range(0, m_val, minibatch_size):\n",
    "                X_va = X_val[i:i + minibatch_size, : ]\n",
    "                y_va = y_val[i:i + minibatch_size, ]\n",
    "                y_val_pred = np.append(y_val_pred, net.predict(X_va))\n",
    "\n",
    "            train_acc = check_accuracy(y_train, y_train_pred)\n",
    "            val_acc = check_accuracy(y_val, y_val_pred)\n",
    "\n",
    "            mean_train_loss = sum(loss_batch) / float(len(loss_batch))\n",
    "            mean_val_loss = sum(val_loss_batch) / float(len(val_loss_batch))\n",
    "\n",
    "\n",
    "            # early stopping with patience = 5 on val loss\n",
    "\n",
    "            if len(val_loss_epoch) == 0:\n",
    "                val_loss_epoch.append(mean_val_loss)\n",
    "            else:\n",
    "                for j in val_loss_epoch[-5:]:\n",
    "                    if mean_val_loss > j:\n",
    "                        c += 1\n",
    "                    else:\n",
    "                        c = 0\n",
    "                if c > 5:\n",
    "                    print('Early stopping')\n",
    "                    return net\n",
    "                else:\n",
    "                    c = 0\n",
    "                    val_loss_epoch.append(mean_val_loss)    \n",
    "\n",
    "\n",
    "            print(\"Loss = {0} | Training Accuracy = {1} | Val Loss = {2} | Val Accuracy = {3}\".format(\n",
    "                mean_train_loss, train_acc, mean_val_loss, val_acc))\n",
    "    return net\n"
   ]
  },
  {
   "cell_type": "code",
   "execution_count": 39,
   "metadata": {},
   "outputs": [
    {
     "name": "stdout",
     "output_type": "stream",
     "text": [
      "(4, 4)\n",
      "(4, 4)\n",
      "Epoch 1\n"
     ]
    },
    {
     "name": "stderr",
     "output_type": "stream",
     "text": [
      "100%|██████████████████████████████████████████████████████████████████████████████████| 1/1 [00:00<00:00, 1322.71it/s]\n",
      "100%|██████████████████████████████████████████████████████████████████████████████████| 1/1 [00:00<00:00, 1003.42it/s]\n"
     ]
    },
    {
     "name": "stdout",
     "output_type": "stream",
     "text": [
      "Loss = 0.7259230183107142 | Training Accuracy = 0.5 | Val Loss = 0.6812951211473081 | Val Accuracy = 0.5\n",
      "Epoch 2\n"
     ]
    },
    {
     "name": "stderr",
     "output_type": "stream",
     "text": [
      "100%|███████████████████████████████████████████████████████████████████████████████████| 1/1 [00:00<00:00, 766.08it/s]\n",
      "100%|███████████████████████████████████████████████████████████████████████████████████| 1/1 [00:00<00:00, 886.56it/s]\n"
     ]
    },
    {
     "name": "stdout",
     "output_type": "stream",
     "text": [
      "Loss = 0.6812951211473081 | Training Accuracy = 0.5 | Val Loss = 0.6748872105230693 | Val Accuracy = 0.5\n",
      "Epoch 3\n"
     ]
    },
    {
     "name": "stderr",
     "output_type": "stream",
     "text": [
      "100%|███████████████████████████████████████████████████████████████████████████████████| 1/1 [00:00<00:00, 998.17it/s]\n",
      "100%|███████████████████████████████████████████████████████████████████████████████████| 1/1 [00:00<00:00, 501.71it/s]\n"
     ]
    },
    {
     "name": "stdout",
     "output_type": "stream",
     "text": [
      "Loss = 0.6748872105230693 | Training Accuracy = 0.5 | Val Loss = 0.6687261978258063 | Val Accuracy = 0.5\n",
      "Epoch 4\n"
     ]
    },
    {
     "name": "stderr",
     "output_type": "stream",
     "text": [
      "100%|███████████████████████████████████████████████████████████████████████████████████| 1/1 [00:00<00:00, 929.18it/s]\n",
      "100%|██████████████████████████████████████████████████████████████████████████████████| 1/1 [00:00<00:00, 1003.18it/s]\n"
     ]
    },
    {
     "name": "stdout",
     "output_type": "stream",
     "text": [
      "Loss = 0.6687261978258063 | Training Accuracy = 0.5 | Val Loss = 0.6626262761855299 | Val Accuracy = 0.5\n",
      "Epoch 5\n"
     ]
    },
    {
     "name": "stderr",
     "output_type": "stream",
     "text": [
      "100%|███████████████████████████████████████████████████████████████████████████████████| 1/1 [00:00<00:00, 509.51it/s]\n",
      "100%|███████████████████████████████████████████████████████████████████████████████████| 1/1 [00:00<00:00, 586.37it/s]\n"
     ]
    },
    {
     "name": "stdout",
     "output_type": "stream",
     "text": [
      "Loss = 0.6626262761855299 | Training Accuracy = 0.5 | Val Loss = 0.6564572579434224 | Val Accuracy = 0.5\n",
      "Epoch 6\n"
     ]
    },
    {
     "name": "stderr",
     "output_type": "stream",
     "text": [
      "100%|███████████████████████████████████████████████████████████████████████████████████| 1/1 [00:00<00:00, 509.76it/s]\n",
      "100%|███████████████████████████████████████████████████████████████████████████████████| 1/1 [00:00<00:00, 984.81it/s]\n"
     ]
    },
    {
     "name": "stdout",
     "output_type": "stream",
     "text": [
      "Loss = 0.6564572579434224 | Training Accuracy = 0.5 | Val Loss = 0.6503897872513242 | Val Accuracy = 0.5\n",
      "Epoch 7\n"
     ]
    },
    {
     "name": "stderr",
     "output_type": "stream",
     "text": [
      "100%|███████████████████████████████████████████████████████████████████████████████████| 1/1 [00:00<00:00, 956.51it/s]\n",
      "100%|██████████████████████████████████████████████████████████████████████████████████| 1/1 [00:00<00:00, 1030.29it/s]\n"
     ]
    },
    {
     "name": "stdout",
     "output_type": "stream",
     "text": [
      "Loss = 0.6503897872513242 | Training Accuracy = 0.5 | Val Loss = 0.6443689690372335 | Val Accuracy = 0.5\n",
      "Epoch 8\n"
     ]
    },
    {
     "name": "stderr",
     "output_type": "stream",
     "text": [
      "100%|███████████████████████████████████████████████████████████████████████████████████| 1/1 [00:00<00:00, 477.00it/s]\n",
      "100%|████████████████████████████████████████████████████████████████████████████████████████████| 1/1 [00:00<?, ?it/s]\n"
     ]
    },
    {
     "name": "stdout",
     "output_type": "stream",
     "text": [
      "Loss = 0.6443689690372335 | Training Accuracy = 0.5 | Val Loss = 0.6383839047734338 | Val Accuracy = 0.5\n",
      "Epoch 9\n"
     ]
    },
    {
     "name": "stderr",
     "output_type": "stream",
     "text": [
      "100%|███████████████████████████████████████████████████████████████████████████████████| 1/1 [00:00<00:00, 817.13it/s]\n",
      "100%|███████████████████████████████████████████████████████████████████████████████████| 1/1 [00:00<00:00, 786.19it/s]\n"
     ]
    },
    {
     "name": "stdout",
     "output_type": "stream",
     "text": [
      "Loss = 0.6383839047734338 | Training Accuracy = 0.5 | Val Loss = 0.6324298729471043 | Val Accuracy = 0.5\n",
      "Epoch 10\n"
     ]
    },
    {
     "name": "stderr",
     "output_type": "stream",
     "text": [
      "100%|███████████████████████████████████████████████████████████████████████████████████| 1/1 [00:00<00:00, 334.18it/s]\n",
      "100%|███████████████████████████████████████████████████████████████████████████████████| 1/1 [00:00<00:00, 826.95it/s]\n"
     ]
    },
    {
     "name": "stdout",
     "output_type": "stream",
     "text": [
      "Loss = 0.6324298729471043 | Training Accuracy = 0.5 | Val Loss = 0.6265026716166114 | Val Accuracy = 0.5\n",
      "Epoch 11\n"
     ]
    },
    {
     "name": "stderr",
     "output_type": "stream",
     "text": [
      "100%|██████████████████████████████████████████████████████████████████████████████████| 1/1 [00:00<00:00, 1530.21it/s]\n",
      "100%|████████████████████████████████████████████████████████████████████████████████████████████| 1/1 [00:00<?, ?it/s]\n"
     ]
    },
    {
     "name": "stdout",
     "output_type": "stream",
     "text": [
      "Loss = 0.6265026716166114 | Training Accuracy = 0.5 | Val Loss = 0.6205984252483526 | Val Accuracy = 0.5\n",
      "Epoch 12\n"
     ]
    },
    {
     "name": "stderr",
     "output_type": "stream",
     "text": [
      "100%|███████████████████████████████████████████████████████████████████████████████████| 1/1 [00:00<00:00, 998.88it/s]\n",
      "100%|███████████████████████████████████████████████████████████████████████████████████| 1/1 [00:00<00:00, 712.11it/s]\n"
     ]
    },
    {
     "name": "stdout",
     "output_type": "stream",
     "text": [
      "Loss = 0.6205984252483526 | Training Accuracy = 0.5 | Val Loss = 0.6147135403404355 | Val Accuracy = 0.5\n",
      "Epoch 13\n"
     ]
    },
    {
     "name": "stderr",
     "output_type": "stream",
     "text": [
      "100%|███████████████████████████████████████████████████████████████████████████████████| 1/1 [00:00<00:00, 520.64it/s]\n",
      "100%|███████████████████████████████████████████████████████████████████████████████████| 1/1 [00:00<00:00, 501.71it/s]\n"
     ]
    },
    {
     "name": "stdout",
     "output_type": "stream",
     "text": [
      "Loss = 0.6147135403404355 | Training Accuracy = 0.5 | Val Loss = 0.6088446741882488 | Val Accuracy = 0.5\n",
      "Epoch 14\n"
     ]
    },
    {
     "name": "stderr",
     "output_type": "stream",
     "text": [
      "100%|███████████████████████████████████████████████████████████████████████████████████| 1/1 [00:00<00:00, 332.17it/s]\n",
      "100%|████████████████████████████████████████████████████████████████████████████████████████████| 1/1 [00:00<?, ?it/s]\n"
     ]
    },
    {
     "name": "stdout",
     "output_type": "stream",
     "text": [
      "Loss = 0.6088446741882488 | Training Accuracy = 0.5 | Val Loss = 0.6029887106883434 | Val Accuracy = 0.5\n",
      "Epoch 15\n"
     ]
    },
    {
     "name": "stderr",
     "output_type": "stream",
     "text": [
      "100%|██████████████████████████████████████████████████████████████████████████████████| 1/1 [00:00<00:00, 1399.50it/s]\n",
      "100%|███████████████████████████████████████████████████████████████████████████████████| 1/1 [00:00<00:00, 804.59it/s]\n"
     ]
    },
    {
     "name": "stdout",
     "output_type": "stream",
     "text": [
      "Loss = 0.6029887106883434 | Training Accuracy = 0.5 | Val Loss = 0.5971427412131561 | Val Accuracy = 0.5\n",
      "Epoch 16\n"
     ]
    },
    {
     "name": "stderr",
     "output_type": "stream",
     "text": [
      "100%|███████████████████████████████████████████████████████████████████████████████████| 1/1 [00:00<00:00, 937.90it/s]\n",
      "100%|██████████████████████████████████████████████████████████████████████████████████| 1/1 [00:00<00:00, 1010.92it/s]\n"
     ]
    },
    {
     "name": "stdout",
     "output_type": "stream",
     "text": [
      "Loss = 0.5971427412131561 | Training Accuracy = 0.5 | Val Loss = 0.5913040492292851 | Val Accuracy = 0.5\n",
      "Epoch 17\n"
     ]
    },
    {
     "name": "stderr",
     "output_type": "stream",
     "text": [
      "100%|██████████████████████████████████████████████████████████████████████████████████| 1/1 [00:00<00:00, 1003.18it/s]\n",
      "100%|██████████████████████████████████████████████████████████████████████████████████| 1/1 [00:00<00:00, 1265.25it/s]\n"
     ]
    },
    {
     "name": "stdout",
     "output_type": "stream",
     "text": [
      "Loss = 0.5913040492292851 | Training Accuracy = 0.5 | Val Loss = 0.5854700977483073 | Val Accuracy = 0.5\n",
      "Epoch 18\n"
     ]
    },
    {
     "name": "stderr",
     "output_type": "stream",
     "text": [
      "100%|███████████████████████████████████████████████████████████████████████████████████| 1/1 [00:00<00:00, 500.57it/s]\n",
      "100%|███████████████████████████████████████████████████████████████████████████████████| 1/1 [00:00<00:00, 976.56it/s]\n"
     ]
    },
    {
     "name": "stdout",
     "output_type": "stream",
     "text": [
      "Loss = 0.5854700977483073 | Training Accuracy = 0.5 | Val Loss = 0.5796385189850496 | Val Accuracy = 0.5\n",
      "Epoch 19\n"
     ]
    },
    {
     "name": "stderr",
     "output_type": "stream",
     "text": [
      "100%|███████████████████████████████████████████████████████████████████████████████████| 1/1 [00:00<00:00, 528.65it/s]\n",
      "100%|██████████████████████████████████████████████████████████████████████████████████| 1/1 [00:00<00:00, 1000.55it/s]\n"
     ]
    },
    {
     "name": "stdout",
     "output_type": "stream",
     "text": [
      "Loss = 0.5796385189850496 | Training Accuracy = 0.5 | Val Loss = 0.5738071057906505 | Val Accuracy = 0.5\n",
      "Epoch 20\n"
     ]
    },
    {
     "name": "stderr",
     "output_type": "stream",
     "text": [
      "100%|██████████████████████████████████████████████████████████████████████████████████| 1/1 [00:00<00:00, 1087.17it/s]\n",
      "100%|███████████████████████████████████████████████████████████████████████████████████| 1/1 [00:00<00:00, 491.83it/s]\n"
     ]
    },
    {
     "name": "stdout",
     "output_type": "stream",
     "text": [
      "Loss = 0.5738071057906505 | Training Accuracy = 0.5 | Val Loss = 0.5679738045566328 | Val Accuracy = 0.5\n",
      "Epoch 21\n"
     ]
    },
    {
     "name": "stderr",
     "output_type": "stream",
     "text": [
      "100%|███████████████████████████████████████████████████████████████████████████████████| 1/1 [00:00<00:00, 955.64it/s]\n",
      "100%|██████████████████████████████████████████████████████████████████████████████████| 1/1 [00:00<00:00, 1002.46it/s]\n"
     ]
    },
    {
     "name": "stdout",
     "output_type": "stream",
     "text": [
      "Loss = 0.5679738045566328 | Training Accuracy = 0.5 | Val Loss = 0.5621367093725316 | Val Accuracy = 0.5\n",
      "Epoch 22\n"
     ]
    },
    {
     "name": "stderr",
     "output_type": "stream",
     "text": [
      "100%|██████████████████████████████████████████████████████████████████████████████████| 1/1 [00:00<00:00, 1000.79it/s]\n",
      "100%|██████████████████████████████████████████████████████████████████████████████████| 1/1 [00:00<00:00, 1005.83it/s]\n"
     ]
    },
    {
     "name": "stdout",
     "output_type": "stream",
     "text": [
      "Loss = 0.5621367093725316 | Training Accuracy = 0.5 | Val Loss = 0.5562940572774835 | Val Accuracy = 0.5\n",
      "Epoch 23\n"
     ]
    },
    {
     "name": "stderr",
     "output_type": "stream",
     "text": [
      "100%|███████████████████████████████████████████████████████████████████████████████████| 1/1 [00:00<00:00, 724.66it/s]\n",
      "100%|███████████████████████████████████████████████████████████████████████████████████| 1/1 [00:00<00:00, 500.16it/s]\n"
     ]
    },
    {
     "name": "stdout",
     "output_type": "stream",
     "text": [
      "Loss = 0.5562940572774835 | Training Accuracy = 0.5 | Val Loss = 0.5504442244848848 | Val Accuracy = 0.5\n",
      "Epoch 24\n"
     ]
    },
    {
     "name": "stderr",
     "output_type": "stream",
     "text": [
      "100%|███████████████████████████████████████████████████████████████████████████████████| 1/1 [00:00<00:00, 587.36it/s]\n",
      "100%|███████████████████████████████████████████████████████████████████████████████████| 1/1 [00:00<00:00, 499.02it/s]\n"
     ]
    },
    {
     "name": "stdout",
     "output_type": "stream",
     "text": [
      "Loss = 0.5504442244848848 | Training Accuracy = 0.5 | Val Loss = 0.5445857234850083 | Val Accuracy = 0.5\n",
      "Epoch 25\n"
     ]
    },
    {
     "name": "stderr",
     "output_type": "stream",
     "text": [
      "100%|████████████████████████████████████████████████████████████████████████████████████████████| 1/1 [00:00<?, ?it/s]\n",
      "100%|███████████████████████████████████████████████████████████████████████████████████| 1/1 [00:00<00:00, 500.75it/s]\n"
     ]
    },
    {
     "name": "stdout",
     "output_type": "stream",
     "text": [
      "Loss = 0.5445857234850083 | Training Accuracy = 0.5 | Val Loss = 0.5387172009474269 | Val Accuracy = 0.5\n",
      "Epoch 26\n"
     ]
    },
    {
     "name": "stderr",
     "output_type": "stream",
     "text": [
      "100%|███████████████████████████████████████████████████████████████████████████████████| 1/1 [00:00<00:00, 533.36it/s]\n",
      "100%|██████████████████████████████████████████████████████████████████████████████████| 1/1 [00:00<00:00, 1696.72it/s]\n"
     ]
    },
    {
     "name": "stdout",
     "output_type": "stream",
     "text": [
      "Loss = 0.5387172009474269 | Training Accuracy = 1.0 | Val Loss = 0.5328374363560119 | Val Accuracy = 1.0\n",
      "Epoch 27\n"
     ]
    },
    {
     "name": "stderr",
     "output_type": "stream",
     "text": [
      "100%|███████████████████████████████████████████████████████████████████████████████████| 1/1 [00:00<00:00, 500.75it/s]\n",
      "100%|███████████████████████████████████████████████████████████████████████████████████| 1/1 [00:00<00:00, 491.31it/s]\n"
     ]
    },
    {
     "name": "stdout",
     "output_type": "stream",
     "text": [
      "Loss = 0.5328374363560119 | Training Accuracy = 1.0 | Val Loss = 0.5269453413159907 | Val Accuracy = 1.0\n",
      "Epoch 28\n"
     ]
    },
    {
     "name": "stderr",
     "output_type": "stream",
     "text": [
      "100%|███████████████████████████████████████████████████████████████████████████████████| 1/1 [00:00<00:00, 333.33it/s]\n",
      "100%|███████████████████████████████████████████████████████████████████████████████████| 1/1 [00:00<00:00, 501.53it/s]\n"
     ]
    },
    {
     "name": "stdout",
     "output_type": "stream",
     "text": [
      "Loss = 0.5269453413159907 | Training Accuracy = 1.0 | Val Loss = 0.5210399594763336 | Val Accuracy = 1.0\n",
      "Epoch 29\n"
     ]
    },
    {
     "name": "stderr",
     "output_type": "stream",
     "text": [
      "100%|███████████████████████████████████████████████████████████████████████████████████| 1/1 [00:00<00:00, 968.89it/s]\n",
      "100%|███████████████████████████████████████████████████████████████████████████████████| 1/1 [00:00<00:00, 846.48it/s]\n"
     ]
    },
    {
     "name": "stdout",
     "output_type": "stream",
     "text": [
      "Loss = 0.5210399594763336 | Training Accuracy = 1.0 | Val Loss = 0.5151204670124182 | Val Accuracy = 1.0\n",
      "Epoch 30\n"
     ]
    },
    {
     "name": "stderr",
     "output_type": "stream",
     "text": [
      "100%|███████████████████████████████████████████████████████████████████████████████████| 1/1 [00:00<00:00, 500.81it/s]\n",
      "100%|██████████████████████████████████████████████████████████████████████████████████| 1/1 [00:00<00:00, 1001.98it/s]\n"
     ]
    },
    {
     "name": "stdout",
     "output_type": "stream",
     "text": [
      "Loss = 0.5151204670124182 | Training Accuracy = 1.0 | Val Loss = 0.5091861736140925 | Val Accuracy = 1.0\n",
      "Epoch 31\n"
     ]
    },
    {
     "name": "stderr",
     "output_type": "stream",
     "text": [
      "100%|███████████████████████████████████████████████████████████████████████████████████| 1/1 [00:00<00:00, 503.94it/s]\n",
      "100%|████████████████████████████████████████████████████████████████████████████████████████████| 1/1 [00:00<?, ?it/s]\n"
     ]
    },
    {
     "name": "stdout",
     "output_type": "stream",
     "text": [
      "Loss = 0.5091861736140925 | Training Accuracy = 1.0 | Val Loss = 0.5032365239233314 | Val Accuracy = 1.0\n",
      "Epoch 32\n"
     ]
    },
    {
     "name": "stderr",
     "output_type": "stream",
     "text": [
      "100%|██████████████████████████████████████████████████████████████████████████████████| 1/1 [00:00<00:00, 1255.40it/s]\n",
      "100%|████████████████████████████████████████████████████████████████████████████████████████████| 1/1 [00:00<?, ?it/s]\n"
     ]
    },
    {
     "name": "stdout",
     "output_type": "stream",
     "text": [
      "Loss = 0.5032365239233314 | Training Accuracy = 1.0 | Val Loss = 0.4972710993639266 | Val Accuracy = 1.0\n",
      "Epoch 33\n"
     ]
    },
    {
     "name": "stderr",
     "output_type": "stream",
     "text": [
      "100%|██████████████████████████████████████████████████████████████████████████████████| 1/1 [00:00<00:00, 1001.51it/s]\n",
      "100%|████████████████████████████████████████████████████████████████████████████████████████████| 1/1 [00:00<?, ?it/s]\n"
     ]
    },
    {
     "name": "stdout",
     "output_type": "stream",
     "text": [
      "Loss = 0.4972710993639266 | Training Accuracy = 1.0 | Val Loss = 0.49128962030330653 | Val Accuracy = 1.0\n",
      "Epoch 34\n"
     ]
    },
    {
     "name": "stderr",
     "output_type": "stream",
     "text": [
      "100%|███████████████████████████████████████████████████████████████████████████████████| 1/1 [00:00<00:00, 508.03it/s]\n",
      "100%|██████████████████████████████████████████████████████████████████████████████████| 1/1 [00:00<00:00, 1012.14it/s]\n"
     ]
    },
    {
     "name": "stdout",
     "output_type": "stream",
     "text": [
      "Loss = 0.49128962030330653 | Training Accuracy = 1.0 | Val Loss = 0.48529194848380475 | Val Accuracy = 1.0\n",
      "Epoch 35\n"
     ]
    },
    {
     "name": "stderr",
     "output_type": "stream",
     "text": [
      "100%|██████████████████████████████████████████████████████████████████████████████████| 1/1 [00:00<00:00, 1001.98it/s]\n",
      "100%|███████████████████████████████████████████████████████████████████████████████████| 1/1 [00:00<00:00, 647.47it/s]\n"
     ]
    },
    {
     "name": "stdout",
     "output_type": "stream",
     "text": [
      "Loss = 0.48529194848380475 | Training Accuracy = 1.0 | Val Loss = 0.4792780896576152 | Val Accuracy = 1.0\n",
      "Epoch 36\n"
     ]
    },
    {
     "name": "stderr",
     "output_type": "stream",
     "text": [
      "100%|██████████████████████████████████████████████████████████████████████████████████| 1/1 [00:00<00:00, 1005.59it/s]\n",
      "100%|███████████████████████████████████████████████████████████████████████████████████| 1/1 [00:00<00:00, 441.13it/s]\n"
     ]
    },
    {
     "name": "stdout",
     "output_type": "stream",
     "text": [
      "Loss = 0.4792780896576152 | Training Accuracy = 1.0 | Val Loss = 0.4732381765822387 | Val Accuracy = 1.0\n",
      "Epoch 37\n"
     ]
    },
    {
     "name": "stderr",
     "output_type": "stream",
     "text": [
      "100%|███████████████████████████████████████████████████████████████████████████████████| 1/1 [00:00<00:00, 333.97it/s]\n",
      "100%|██████████████████████████████████████████████████████████████████████████████████| 1/1 [00:00<00:00, 1001.74it/s]\n"
     ]
    },
    {
     "name": "stdout",
     "output_type": "stream",
     "text": [
      "Loss = 0.4732381765822387 | Training Accuracy = 1.0 | Val Loss = 0.4662084342502675 | Val Accuracy = 1.0\n",
      "Epoch 38\n"
     ]
    },
    {
     "name": "stderr",
     "output_type": "stream",
     "text": [
      "100%|███████████████████████████████████████████████████████████████████████████████████| 1/1 [00:00<00:00, 503.64it/s]\n",
      "100%|███████████████████████████████████████████████████████████████████████████████████| 1/1 [00:00<00:00, 555.83it/s]\n"
     ]
    },
    {
     "name": "stdout",
     "output_type": "stream",
     "text": [
      "Loss = 0.4662084342502675 | Training Accuracy = 1.0 | Val Loss = 0.4599555998399608 | Val Accuracy = 1.0\n",
      "Epoch 39\n"
     ]
    },
    {
     "name": "stderr",
     "output_type": "stream",
     "text": [
      "100%|████████████████████████████████████████████████████████████████████████████████████████████| 1/1 [00:00<?, ?it/s]\n",
      "100%|███████████████████████████████████████████████████████████████████████████████████| 1/1 [00:00<00:00, 560.36it/s]\n"
     ]
    },
    {
     "name": "stdout",
     "output_type": "stream",
     "text": [
      "Loss = 0.4599555998399608 | Training Accuracy = 1.0 | Val Loss = 0.4537719038600215 | Val Accuracy = 1.0\n",
      "Epoch 40\n"
     ]
    },
    {
     "name": "stderr",
     "output_type": "stream",
     "text": [
      "100%|███████████████████████████████████████████████████████████████████████████████████| 1/1 [00:00<00:00, 400.07it/s]\n",
      "100%|██████████████████████████████████████████████████████████████████████████████████| 1/1 [00:00<00:00, 1122.67it/s]\n"
     ]
    },
    {
     "name": "stdout",
     "output_type": "stream",
     "text": [
      "Loss = 0.4537719038600215 | Training Accuracy = 1.0 | Val Loss = 0.4475908351515572 | Val Accuracy = 1.0\n",
      "Epoch 41\n"
     ]
    },
    {
     "name": "stderr",
     "output_type": "stream",
     "text": [
      "100%|███████████████████████████████████████████████████████████████████████████████████| 1/1 [00:00<00:00, 651.80it/s]\n",
      "100%|███████████████████████████████████████████████████████████████████████████████████| 1/1 [00:00<00:00, 500.63it/s]\n"
     ]
    },
    {
     "name": "stdout",
     "output_type": "stream",
     "text": [
      "Loss = 0.4475908351515572 | Training Accuracy = 1.0 | Val Loss = 0.44140806235042507 | Val Accuracy = 1.0\n",
      "Epoch 42\n"
     ]
    },
    {
     "name": "stderr",
     "output_type": "stream",
     "text": [
      "100%|██████████████████████████████████████████████████████████████████████████████████| 1/1 [00:00<00:00, 1005.59it/s]\n",
      "100%|██████████████████████████████████████████████████████████████████████████████████| 1/1 [00:00<00:00, 1465.00it/s]\n"
     ]
    },
    {
     "name": "stdout",
     "output_type": "stream",
     "text": [
      "Loss = 0.44140806235042507 | Training Accuracy = 1.0 | Val Loss = 0.43515759604876747 | Val Accuracy = 1.0\n",
      "Epoch 43\n"
     ]
    },
    {
     "name": "stderr",
     "output_type": "stream",
     "text": [
      "100%|███████████████████████████████████████████████████████████████████████████████████| 1/1 [00:00<00:00, 666.93it/s]\n",
      "100%|███████████████████████████████████████████████████████████████████████████████████| 1/1 [00:00<00:00, 983.19it/s]\n"
     ]
    },
    {
     "name": "stdout",
     "output_type": "stream",
     "text": [
      "Loss = 0.43515759604876747 | Training Accuracy = 1.0 | Val Loss = 0.42892499279516466 | Val Accuracy = 1.0\n",
      "Epoch 44\n"
     ]
    },
    {
     "name": "stderr",
     "output_type": "stream",
     "text": [
      "100%|██████████████████████████████████████████████████████████████████████████████████| 1/1 [00:00<00:00, 1002.22it/s]\n",
      "100%|███████████████████████████████████████████████████████████████████████████████████| 1/1 [00:00<00:00, 237.31it/s]\n"
     ]
    },
    {
     "name": "stdout",
     "output_type": "stream",
     "text": [
      "Loss = 0.42892499279516466 | Training Accuracy = 1.0 | Val Loss = 0.42270004610081335 | Val Accuracy = 1.0\n",
      "Epoch 45\n"
     ]
    },
    {
     "name": "stderr",
     "output_type": "stream",
     "text": [
      "100%|██████████████████████████████████████████████████████████████████████████████████| 1/1 [00:00<00:00, 1002.70it/s]\n",
      "100%|████████████████████████████████████████████████████████████████████████████████████████████| 1/1 [00:00<?, ?it/s]\n"
     ]
    },
    {
     "name": "stdout",
     "output_type": "stream",
     "text": [
      "Loss = 0.42270004610081335 | Training Accuracy = 1.0 | Val Loss = 0.4165088618543656 | Val Accuracy = 1.0\n",
      "Epoch 46\n"
     ]
    },
    {
     "name": "stderr",
     "output_type": "stream",
     "text": [
      "100%|██████████████████████████████████████████████████████████████████████████████████| 1/1 [00:00<00:00, 4826.59it/s]\n",
      "100%|██████████████████████████████████████████████████████████████████████████████████| 1/1 [00:00<00:00, 1044.14it/s]\n"
     ]
    },
    {
     "name": "stdout",
     "output_type": "stream",
     "text": [
      "Loss = 0.4165088618543656 | Training Accuracy = 1.0 | Val Loss = 0.41032782586222394 | Val Accuracy = 1.0\n",
      "Epoch 47\n"
     ]
    },
    {
     "name": "stderr",
     "output_type": "stream",
     "text": [
      "100%|██████████████████████████████████████████████████████████████████████████████████| 1/1 [00:00<00:00, 2192.53it/s]\n",
      "100%|███████████████████████████████████████████████████████████████████████████████████| 1/1 [00:00<00:00, 462.90it/s]\n"
     ]
    },
    {
     "name": "stdout",
     "output_type": "stream",
     "text": [
      "Loss = 0.41032782586222394 | Training Accuracy = 1.0 | Val Loss = 0.40407697292161693 | Val Accuracy = 1.0\n",
      "Epoch 48\n"
     ]
    },
    {
     "name": "stderr",
     "output_type": "stream",
     "text": [
      "100%|███████████████████████████████████████████████████████████████████████████████████| 1/1 [00:00<00:00, 991.80it/s]\n",
      "100%|██████████████████████████████████████████████████████████████████████████████████| 1/1 [00:00<00:00, 1002.22it/s]\n"
     ]
    },
    {
     "name": "stdout",
     "output_type": "stream",
     "text": [
      "Loss = 0.40407697292161693 | Training Accuracy = 1.0 | Val Loss = 0.39670611750452767 | Val Accuracy = 1.0\n",
      "Epoch 49\n"
     ]
    },
    {
     "name": "stderr",
     "output_type": "stream",
     "text": [
      "100%|██████████████████████████████████████████████████████████████████████████████████| 1/1 [00:00<00:00, 1002.70it/s]\n",
      "100%|██████████████████████████████████████████████████████████████████████████████████| 1/1 [00:00<00:00, 1000.07it/s]\n"
     ]
    },
    {
     "name": "stdout",
     "output_type": "stream",
     "text": [
      "Loss = 0.39670611750452767 | Training Accuracy = 1.0 | Val Loss = 0.38995929649230016 | Val Accuracy = 1.0\n",
      "Epoch 50\n"
     ]
    },
    {
     "name": "stderr",
     "output_type": "stream",
     "text": [
      "100%|███████████████████████████████████████████████████████████████████████████████████| 1/1 [00:00<00:00, 557.75it/s]\n",
      "100%|███████████████████████████████████████████████████████████████████████████████████| 1/1 [00:00<00:00, 200.89it/s]\n"
     ]
    },
    {
     "name": "stdout",
     "output_type": "stream",
     "text": [
      "Loss = 0.38995929649230016 | Training Accuracy = 1.0 | Val Loss = 0.3836645175444587 | Val Accuracy = 1.0\n",
      "Epoch 51\n"
     ]
    },
    {
     "name": "stderr",
     "output_type": "stream",
     "text": [
      "100%|███████████████████████████████████████████████████████████████████████████████████| 1/1 [00:00<00:00, 503.52it/s]\n",
      "100%|██████████████████████████████████████████████████████████████████████████████████| 1/1 [00:00<00:00, 1475.31it/s]\n"
     ]
    },
    {
     "name": "stdout",
     "output_type": "stream",
     "text": [
      "Loss = 0.3836645175444587 | Training Accuracy = 1.0 | Val Loss = 0.3773848515361562 | Val Accuracy = 1.0\n",
      "Epoch 52\n"
     ]
    },
    {
     "name": "stderr",
     "output_type": "stream",
     "text": [
      "100%|███████████████████████████████████████████████████████████████████████████████████| 1/1 [00:00<00:00, 571.35it/s]\n",
      "100%|███████████████████████████████████████████████████████████████████████████████████| 1/1 [00:00<00:00, 501.95it/s]\n"
     ]
    },
    {
     "name": "stdout",
     "output_type": "stream",
     "text": [
      "Loss = 0.3773848515361562 | Training Accuracy = 1.0 | Val Loss = 0.3711185194874995 | Val Accuracy = 1.0\n",
      "Epoch 53\n"
     ]
    },
    {
     "name": "stderr",
     "output_type": "stream",
     "text": [
      "100%|███████████████████████████████████████████████████████████████████████████████████| 1/1 [00:00<00:00, 500.99it/s]\n",
      "100%|██████████████████████████████████████████████████████████████████████████████████| 1/1 [00:00<00:00, 1002.70it/s]\n"
     ]
    },
    {
     "name": "stdout",
     "output_type": "stream",
     "text": [
      "Loss = 0.3711185194874995 | Training Accuracy = 1.0 | Val Loss = 0.364867701941529 | Val Accuracy = 1.0\n",
      "Epoch 54\n"
     ]
    },
    {
     "name": "stderr",
     "output_type": "stream",
     "text": [
      "100%|███████████████████████████████████████████████████████████████████████████████████| 1/1 [00:00<00:00, 407.02it/s]\n",
      "100%|██████████████████████████████████████████████████████████████████████████████████| 1/1 [00:00<00:00, 2759.41it/s]\n"
     ]
    },
    {
     "name": "stdout",
     "output_type": "stream",
     "text": [
      "Loss = 0.364867701941529 | Training Accuracy = 1.0 | Val Loss = 0.358635338227361 | Val Accuracy = 1.0\n",
      "Epoch 55\n"
     ]
    },
    {
     "name": "stderr",
     "output_type": "stream",
     "text": [
      "100%|███████████████████████████████████████████████████████████████████████████████████| 1/1 [00:00<00:00, 995.56it/s]\n",
      "100%|███████████████████████████████████████████████████████████████████████████████████| 1/1 [00:00<00:00, 334.07it/s]\n"
     ]
    },
    {
     "name": "stdout",
     "output_type": "stream",
     "text": [
      "Loss = 0.358635338227361 | Training Accuracy = 1.0 | Val Loss = 0.3524247039518271 | Val Accuracy = 1.0\n",
      "Epoch 56\n"
     ]
    },
    {
     "name": "stderr",
     "output_type": "stream",
     "text": [
      "100%|██████████████████████████████████████████████████████████████████████████████████| 1/1 [00:00<00:00, 2165.36it/s]\n",
      "100%|██████████████████████████████████████████████████████████████████████████████████| 1/1 [00:00<00:00, 1035.12it/s]\n"
     ]
    },
    {
     "name": "stdout",
     "output_type": "stream",
     "text": [
      "Loss = 0.3524247039518271 | Training Accuracy = 1.0 | Val Loss = 0.34623918210867316 | Val Accuracy = 1.0\n",
      "Epoch 57\n"
     ]
    },
    {
     "name": "stderr",
     "output_type": "stream",
     "text": [
      "100%|███████████████████████████████████████████████████████████████████████████████████| 1/1 [00:00<00:00, 548.63it/s]\n",
      "100%|██████████████████████████████████████████████████████████████████████████████████| 1/1 [00:00<00:00, 1003.90it/s]\n"
     ]
    },
    {
     "name": "stdout",
     "output_type": "stream",
     "text": [
      "Loss = 0.34623918210867316 | Training Accuracy = 1.0 | Val Loss = 0.34008228114190703 | Val Accuracy = 1.0\n",
      "Epoch 58\n"
     ]
    },
    {
     "name": "stderr",
     "output_type": "stream",
     "text": [
      "100%|██████████████████████████████████████████████████████████████████████████████████| 1/1 [00:00<00:00, 1003.66it/s]\n",
      "100%|███████████████████████████████████████████████████████████████████████████████████| 1/1 [00:00<00:00, 502.91it/s]\n"
     ]
    },
    {
     "name": "stdout",
     "output_type": "stream",
     "text": [
      "Loss = 0.34008228114190703 | Training Accuracy = 1.0 | Val Loss = 0.33395757582134683 | Val Accuracy = 1.0\n",
      "Epoch 59\n"
     ]
    },
    {
     "name": "stderr",
     "output_type": "stream",
     "text": [
      "100%|███████████████████████████████████████████████████████████████████████████████████| 1/1 [00:00<00:00, 307.95it/s]\n",
      "100%|██████████████████████████████████████████████████████████████████████████████████| 1/1 [00:00<00:00, 1804.00it/s]\n"
     ]
    },
    {
     "name": "stdout",
     "output_type": "stream",
     "text": [
      "Loss = 0.33395757582134683 | Training Accuracy = 1.0 | Val Loss = 0.3279308298341623 | Val Accuracy = 1.0\n",
      "Epoch 60\n"
     ]
    },
    {
     "name": "stderr",
     "output_type": "stream",
     "text": [
      "100%|███████████████████████████████████████████████████████████████████████████████████| 1/1 [00:00<00:00, 541.34it/s]\n",
      "100%|██████████████████████████████████████████████████████████████████████████████████| 1/1 [00:00<00:00, 1003.18it/s]\n"
     ]
    },
    {
     "name": "stdout",
     "output_type": "stream",
     "text": [
      "Loss = 0.3279308298341623 | Training Accuracy = 1.0 | Val Loss = 0.32191307660077473 | Val Accuracy = 1.0\n",
      "Epoch 61\n"
     ]
    },
    {
     "name": "stderr",
     "output_type": "stream",
     "text": [
      "100%|███████████████████████████████████████████████████████████████████████████████████| 1/1 [00:00<00:00, 960.01it/s]\n",
      "100%|████████████████████████████████████████████████████████████████████████████████████████████| 1/1 [00:00<?, ?it/s]\n"
     ]
    },
    {
     "name": "stdout",
     "output_type": "stream",
     "text": [
      "Loss = 0.32191307660077473 | Training Accuracy = 1.0 | Val Loss = 0.3158917574096848 | Val Accuracy = 1.0\n",
      "Epoch 62\n"
     ]
    },
    {
     "name": "stderr",
     "output_type": "stream",
     "text": [
      "100%|██████████████████████████████████████████████████████████████████████████████████| 1/1 [00:00<00:00, 1001.74it/s]\n",
      "100%|███████████████████████████████████████████████████████████████████████████████████| 1/1 [00:00<00:00, 769.88it/s]\n"
     ]
    },
    {
     "name": "stdout",
     "output_type": "stream",
     "text": [
      "Loss = 0.3158917574096848 | Training Accuracy = 1.0 | Val Loss = 0.30992660233862157 | Val Accuracy = 1.0\n",
      "Epoch 63\n"
     ]
    },
    {
     "name": "stderr",
     "output_type": "stream",
     "text": [
      "100%|██████████████████████████████████████████████████████████████████████████████████| 1/1 [00:00<00:00, 1695.35it/s]\n",
      "100%|██████████████████████████████████████████████████████████████████████████████████| 1/1 [00:00<00:00, 1003.18it/s]\n"
     ]
    },
    {
     "name": "stdout",
     "output_type": "stream",
     "text": [
      "Loss = 0.30992660233862157 | Training Accuracy = 1.0 | Val Loss = 0.304063671192797 | Val Accuracy = 1.0\n",
      "Epoch 64\n"
     ]
    },
    {
     "name": "stderr",
     "output_type": "stream",
     "text": [
      "100%|███████████████████████████████████████████████████████████████████████████████████| 1/1 [00:00<00:00, 501.23it/s]\n",
      "100%|███████████████████████████████████████████████████████████████████████████████████| 1/1 [00:00<00:00, 472.17it/s]\n"
     ]
    },
    {
     "name": "stdout",
     "output_type": "stream",
     "text": [
      "Loss = 0.304063671192797 | Training Accuracy = 1.0 | Val Loss = 0.29877708683252746 | Val Accuracy = 1.0\n",
      "Epoch 65\n"
     ]
    },
    {
     "name": "stderr",
     "output_type": "stream",
     "text": [
      "100%|██████████████████████████████████████████████████████████████████████████████████| 1/1 [00:00<00:00, 1001.03it/s]\n",
      "100%|██████████████████████████████████████████████████████████████████████████████████| 1/1 [00:00<00:00, 1066.71it/s]\n"
     ]
    },
    {
     "name": "stdout",
     "output_type": "stream",
     "text": [
      "Loss = 0.29877708683252746 | Training Accuracy = 1.0 | Val Loss = 0.29296333801863994 | Val Accuracy = 1.0\n",
      "Epoch 66\n"
     ]
    },
    {
     "name": "stderr",
     "output_type": "stream",
     "text": [
      "100%|██████████████████████████████████████████████████████████████████████████████████| 1/1 [00:00<00:00, 1001.98it/s]\n",
      "100%|███████████████████████████████████████████████████████████████████████████████████| 1/1 [00:00<00:00, 977.01it/s]\n"
     ]
    },
    {
     "name": "stdout",
     "output_type": "stream",
     "text": [
      "Loss = 0.29296333801863994 | Training Accuracy = 1.0 | Val Loss = 0.28737750453119437 | Val Accuracy = 1.0\n",
      "Epoch 67\n"
     ]
    },
    {
     "name": "stderr",
     "output_type": "stream",
     "text": [
      "100%|██████████████████████████████████████████████████████████████████████████████████| 1/1 [00:00<00:00, 1003.90it/s]\n",
      "100%|██████████████████████████████████████████████████████████████████████████████████| 1/1 [00:00<00:00, 1001.51it/s]\n"
     ]
    },
    {
     "name": "stdout",
     "output_type": "stream",
     "text": [
      "Loss = 0.28737750453119437 | Training Accuracy = 1.0 | Val Loss = 0.28160087887522856 | Val Accuracy = 1.0\n",
      "Epoch 68\n"
     ]
    },
    {
     "name": "stderr",
     "output_type": "stream",
     "text": [
      "100%|██████████████████████████████████████████████████████████████████████████████████| 1/1 [00:00<00:00, 1002.70it/s]\n",
      "100%|███████████████████████████████████████████████████████████████████████████████████| 1/1 [00:00<00:00, 493.39it/s]\n"
     ]
    },
    {
     "name": "stdout",
     "output_type": "stream",
     "text": [
      "Loss = 0.28160087887522856 | Training Accuracy = 1.0 | Val Loss = 0.2758277994126313 | Val Accuracy = 1.0\n",
      "Epoch 69\n"
     ]
    },
    {
     "name": "stderr",
     "output_type": "stream",
     "text": [
      "100%|███████████████████████████████████████████████████████████████████████████████████| 1/1 [00:00<00:00, 334.02it/s]\n",
      "100%|██████████████████████████████████████████████████████████████████████████████████| 1/1 [00:00<00:00, 1003.42it/s]\n"
     ]
    },
    {
     "name": "stdout",
     "output_type": "stream",
     "text": [
      "Loss = 0.2758277994126313 | Training Accuracy = 1.0 | Val Loss = 0.2700483524672078 | Val Accuracy = 1.0\n",
      "Epoch 70\n"
     ]
    },
    {
     "name": "stderr",
     "output_type": "stream",
     "text": [
      "100%|███████████████████████████████████████████████████████████████████████████████████| 1/1 [00:00<00:00, 501.83it/s]\n",
      "100%|██████████████████████████████████████████████████████████████████████████████████| 1/1 [00:00<00:00, 1002.46it/s]\n"
     ]
    },
    {
     "name": "stdout",
     "output_type": "stream",
     "text": [
      "Loss = 0.2700483524672078 | Training Accuracy = 1.0 | Val Loss = 0.26453646903203265 | Val Accuracy = 1.0\n",
      "Epoch 71\n"
     ]
    },
    {
     "name": "stderr",
     "output_type": "stream",
     "text": [
      "100%|██████████████████████████████████████████████████████████████████████████████████| 1/1 [00:00<00:00, 1001.51it/s]\n",
      "100%|███████████████████████████████████████████████████████████████████████████████████| 1/1 [00:00<00:00, 462.69it/s]\n"
     ]
    },
    {
     "name": "stdout",
     "output_type": "stream",
     "text": [
      "Loss = 0.26453646903203265 | Training Accuracy = 1.0 | Val Loss = 0.2590993544467836 | Val Accuracy = 1.0\n",
      "Epoch 72\n"
     ]
    },
    {
     "name": "stderr",
     "output_type": "stream",
     "text": [
      "100%|██████████████████████████████████████████████████████████████████████████████████| 1/1 [00:00<00:00, 1001.98it/s]\n",
      "100%|███████████████████████████████████████████████████████████████████████████████████| 1/1 [00:00<00:00, 870.73it/s]\n"
     ]
    },
    {
     "name": "stdout",
     "output_type": "stream",
     "text": [
      "Loss = 0.2590993544467836 | Training Accuracy = 1.0 | Val Loss = 0.25373527868533485 | Val Accuracy = 1.0\n",
      "Epoch 73\n"
     ]
    },
    {
     "name": "stderr",
     "output_type": "stream",
     "text": [
      "100%|██████████████████████████████████████████████████████████████████████████████████| 1/1 [00:00<00:00, 1215.39it/s]\n",
      "100%|███████████████████████████████████████████████████████████████████████████████████| 1/1 [00:00<00:00, 499.20it/s]\n"
     ]
    },
    {
     "name": "stdout",
     "output_type": "stream",
     "text": [
      "Loss = 0.25373527868533485 | Training Accuracy = 1.0 | Val Loss = 0.24854092763045027 | Val Accuracy = 1.0\n",
      "Epoch 74\n"
     ]
    },
    {
     "name": "stderr",
     "output_type": "stream",
     "text": [
      "100%|███████████████████████████████████████████████████████████████████████████████████| 1/1 [00:00<00:00, 338.41it/s]\n",
      "100%|██████████████████████████████████████████████████████████████████████████████████| 1/1 [00:00<00:00, 1001.03it/s]\n"
     ]
    },
    {
     "name": "stdout",
     "output_type": "stream",
     "text": [
      "Loss = 0.24854092763045027 | Training Accuracy = 1.0 | Val Loss = 0.24386238302179408 | Val Accuracy = 1.0\n",
      "Epoch 75\n"
     ]
    },
    {
     "name": "stderr",
     "output_type": "stream",
     "text": [
      "100%|███████████████████████████████████████████████████████████████████████████████████| 1/1 [00:00<00:00, 948.51it/s]\n",
      "100%|███████████████████████████████████████████████████████████████████████████████████| 1/1 [00:00<00:00, 732.89it/s]\n"
     ]
    },
    {
     "name": "stdout",
     "output_type": "stream",
     "text": [
      "Loss = 0.24386238302179408 | Training Accuracy = 1.0 | Val Loss = 0.23921514637509694 | Val Accuracy = 1.0\n",
      "Epoch 76\n"
     ]
    },
    {
     "name": "stderr",
     "output_type": "stream",
     "text": [
      "100%|██████████████████████████████████████████████████████████████████████████████████| 1/1 [00:00<00:00, 1005.83it/s]\n",
      "100%|██████████████████████████████████████████████████████████████████████████████████| 1/1 [00:00<00:00, 1002.70it/s]\n"
     ]
    },
    {
     "name": "stdout",
     "output_type": "stream",
     "text": [
      "Loss = 0.23921514637509694 | Training Accuracy = 1.0 | Val Loss = 0.23490637116522406 | Val Accuracy = 1.0\n",
      "Epoch 77\n"
     ]
    },
    {
     "name": "stderr",
     "output_type": "stream",
     "text": [
      "100%|███████████████████████████████████████████████████████████████████████████████████| 1/1 [00:00<00:00, 595.36it/s]\n",
      "100%|██████████████████████████████████████████████████████████████████████████████████| 1/1 [00:00<00:00, 1001.03it/s]\n"
     ]
    },
    {
     "name": "stdout",
     "output_type": "stream",
     "text": [
      "Loss = 0.23490637116522406 | Training Accuracy = 1.0 | Val Loss = 0.2297474867583177 | Val Accuracy = 1.0\n",
      "Epoch 78\n"
     ]
    },
    {
     "name": "stderr",
     "output_type": "stream",
     "text": [
      "100%|██████████████████████████████████████████████████████████████████████████████████| 1/1 [00:00<00:00, 1002.70it/s]\n",
      "100%|███████████████████████████████████████████████████████████████████████████████████| 1/1 [00:00<00:00, 498.91it/s]\n"
     ]
    },
    {
     "name": "stdout",
     "output_type": "stream",
     "text": [
      "Loss = 0.2297474867583177 | Training Accuracy = 1.0 | Val Loss = 0.22529507551193378 | Val Accuracy = 1.0\n",
      "Epoch 79\n"
     ]
    },
    {
     "name": "stderr",
     "output_type": "stream",
     "text": [
      "100%|██████████████████████████████████████████████████████████████████████████████████| 1/1 [00:00<00:00, 1037.42it/s]\n",
      "100%|██████████████████████████████████████████████████████████████████████████████████| 1/1 [00:00<00:00, 1003.66it/s]\n"
     ]
    },
    {
     "name": "stdout",
     "output_type": "stream",
     "text": [
      "Loss = 0.22529507551193378 | Training Accuracy = 1.0 | Val Loss = 0.22041607187016315 | Val Accuracy = 1.0\n",
      "Epoch 80\n"
     ]
    },
    {
     "name": "stderr",
     "output_type": "stream",
     "text": [
      "100%|██████████████████████████████████████████████████████████████████████████████████| 1/1 [00:00<00:00, 1212.58it/s]\n",
      "100%|███████████████████████████████████████████████████████████████████████████████████| 1/1 [00:00<00:00, 954.55it/s]\n"
     ]
    },
    {
     "name": "stdout",
     "output_type": "stream",
     "text": [
      "Loss = 0.22041607187016315 | Training Accuracy = 1.0 | Val Loss = 0.21845680830053915 | Val Accuracy = 1.0\n",
      "Epoch 81\n"
     ]
    },
    {
     "name": "stderr",
     "output_type": "stream",
     "text": [
      "100%|██████████████████████████████████████████████████████████████████████████████████| 1/1 [00:00<00:00, 1000.07it/s]\n",
      "100%|██████████████████████████████████████████████████████████████████████████████████| 1/1 [00:00<00:00, 1098.85it/s]\n"
     ]
    },
    {
     "name": "stdout",
     "output_type": "stream",
     "text": [
      "Loss = 0.21845680830053915 | Training Accuracy = 1.0 | Val Loss = 0.21432272691911777 | Val Accuracy = 1.0\n",
      "Epoch 82\n"
     ]
    },
    {
     "name": "stderr",
     "output_type": "stream",
     "text": [
      "100%|███████████████████████████████████████████████████████████████████████████████████| 1/1 [00:00<00:00, 726.41it/s]\n",
      "100%|███████████████████████████████████████████████████████████████████████████████████| 1/1 [00:00<00:00, 968.89it/s]\n"
     ]
    },
    {
     "name": "stdout",
     "output_type": "stream",
     "text": [
      "Loss = 0.21432272691911777 | Training Accuracy = 1.0 | Val Loss = 0.21439113193785003 | Val Accuracy = 1.0\n",
      "Epoch 83\n"
     ]
    },
    {
     "name": "stderr",
     "output_type": "stream",
     "text": [
      "100%|███████████████████████████████████████████████████████████████████████████████████| 1/1 [00:00<00:00, 329.71it/s]\n",
      "100%|██████████████████████████████████████████████████████████████████████████████████| 1/1 [00:00<00:00, 1002.94it/s]\n"
     ]
    },
    {
     "name": "stdout",
     "output_type": "stream",
     "text": [
      "Loss = 0.21439113193785003 | Training Accuracy = 1.0 | Val Loss = 0.20853578938859751 | Val Accuracy = 1.0\n",
      "Epoch 84\n"
     ]
    },
    {
     "name": "stderr",
     "output_type": "stream",
     "text": [
      "100%|███████████████████████████████████████████████████████████████████████████████████| 1/1 [00:00<00:00, 492.52it/s]\n",
      "100%|██████████████████████████████████████████████████████████████████████████████████| 1/1 [00:00<00:00, 1102.60it/s]\n"
     ]
    },
    {
     "name": "stdout",
     "output_type": "stream",
     "text": [
      "Loss = 0.20853578938859751 | Training Accuracy = 1.0 | Val Loss = 0.21178175951767855 | Val Accuracy = 1.0\n",
      "Epoch 85\n"
     ]
    },
    {
     "name": "stderr",
     "output_type": "stream",
     "text": [
      "100%|███████████████████████████████████████████████████████████████████████████████████| 1/1 [00:00<00:00, 794.98it/s]\n",
      "100%|██████████████████████████████████████████████████████████████████████████████████| 1/1 [00:00<00:00, 1002.70it/s]\n"
     ]
    },
    {
     "name": "stdout",
     "output_type": "stream",
     "text": [
      "Loss = 0.21178175951767855 | Training Accuracy = 1.0 | Val Loss = 0.2031265355151053 | Val Accuracy = 1.0\n",
      "Epoch 86\n"
     ]
    },
    {
     "name": "stderr",
     "output_type": "stream",
     "text": [
      "100%|███████████████████████████████████████████████████████████████████████████████████| 1/1 [00:00<00:00, 480.50it/s]\n",
      "100%|███████████████████████████████████████████████████████████████████████████████████| 1/1 [00:00<00:00, 688.04it/s]\n"
     ]
    },
    {
     "name": "stdout",
     "output_type": "stream",
     "text": [
      "Loss = 0.2031265355151053 | Training Accuracy = 1.0 | Val Loss = 0.20881988134588397 | Val Accuracy = 1.0\n",
      "Epoch 87\n"
     ]
    },
    {
     "name": "stderr",
     "output_type": "stream",
     "text": [
      "100%|███████████████████████████████████████████████████████████████████████████████████| 1/1 [00:00<00:00, 526.13it/s]\n",
      "100%|██████████████████████████████████████████████████████████████████████████████████| 1/1 [00:00<00:00, 1123.27it/s]\n"
     ]
    },
    {
     "name": "stdout",
     "output_type": "stream",
     "text": [
      "Loss = 0.20881988134588397 | Training Accuracy = 1.0 | Val Loss = 0.1976245056681387 | Val Accuracy = 1.0\n",
      "Epoch 88\n"
     ]
    },
    {
     "name": "stderr",
     "output_type": "stream",
     "text": [
      "100%|███████████████████████████████████████████████████████████████████████████████████| 1/1 [00:00<00:00, 504.91it/s]\n",
      "100%|██████████████████████████████████████████████████████████████████████████████████| 1/1 [00:00<00:00, 1266.40it/s]\n"
     ]
    },
    {
     "name": "stdout",
     "output_type": "stream",
     "text": [
      "Loss = 0.1976245056681387 | Training Accuracy = 1.0 | Val Loss = 0.20294163619923727 | Val Accuracy = 1.0\n",
      "Epoch 89\n"
     ]
    },
    {
     "name": "stderr",
     "output_type": "stream",
     "text": [
      "100%|███████████████████████████████████████████████████████████████████████████████████| 1/1 [00:00<00:00, 983.89it/s]\n",
      "100%|██████████████████████████████████████████████████████████████████████████████████| 1/1 [00:00<00:00, 1002.46it/s]\n"
     ]
    },
    {
     "name": "stdout",
     "output_type": "stream",
     "text": [
      "Loss = 0.20294163619923727 | Training Accuracy = 1.0 | Val Loss = 0.19043877212972815 | Val Accuracy = 1.0\n",
      "Epoch 90\n"
     ]
    },
    {
     "name": "stderr",
     "output_type": "stream",
     "text": [
      "100%|███████████████████████████████████████████████████████████████████████████████████| 1/1 [00:00<00:00, 523.05it/s]\n",
      "100%|███████████████████████████████████████████████████████████████████████████████████| 1/1 [00:00<00:00, 332.91it/s]\n"
     ]
    },
    {
     "name": "stdout",
     "output_type": "stream",
     "text": [
      "Loss = 0.19043877212972815 | Training Accuracy = 1.0 | Val Loss = 0.19734058230420098 | Val Accuracy = 1.0\n",
      "Epoch 91\n"
     ]
    },
    {
     "name": "stderr",
     "output_type": "stream",
     "text": [
      "100%|███████████████████████████████████████████████████████████████████████████████████| 1/1 [00:00<00:00, 200.06it/s]\n",
      "100%|███████████████████████████████████████████████████████████████████████████████████| 1/1 [00:00<00:00, 971.13it/s]\n"
     ]
    },
    {
     "name": "stdout",
     "output_type": "stream",
     "text": [
      "Loss = 0.19734058230420098 | Training Accuracy = 1.0 | Val Loss = 0.18276950507155837 | Val Accuracy = 1.0\n",
      "Epoch 92\n"
     ]
    },
    {
     "name": "stderr",
     "output_type": "stream",
     "text": [
      "100%|███████████████████████████████████████████████████████████████████████████████████| 1/1 [00:00<00:00, 522.92it/s]\n",
      "100%|███████████████████████████████████████████████████████████████████████████████████| 1/1 [00:00<00:00, 983.65it/s]\n"
     ]
    },
    {
     "name": "stdout",
     "output_type": "stream",
     "text": [
      "Loss = 0.18276950507155837 | Training Accuracy = 1.0 | Val Loss = 0.1884964322728557 | Val Accuracy = 1.0\n",
      "Epoch 93\n"
     ]
    },
    {
     "name": "stderr",
     "output_type": "stream",
     "text": [
      "100%|███████████████████████████████████████████████████████████████████████████████████| 1/1 [00:00<00:00, 501.29it/s]\n",
      "100%|███████████████████████████████████████████████████████████████████████████████████| 1/1 [00:00<00:00, 514.70it/s]\n"
     ]
    },
    {
     "name": "stdout",
     "output_type": "stream",
     "text": [
      "Loss = 0.1884964322728557 | Training Accuracy = 1.0 | Val Loss = 0.1748573860921025 | Val Accuracy = 1.0\n",
      "Epoch 94\n"
     ]
    },
    {
     "name": "stderr",
     "output_type": "stream",
     "text": [
      "100%|███████████████████████████████████████████████████████████████████████████████████| 1/1 [00:00<00:00, 631.48it/s]\n",
      "100%|██████████████████████████████████████████████████████████████████████████████████| 1/1 [00:00<00:00, 1002.46it/s]\n"
     ]
    },
    {
     "name": "stdout",
     "output_type": "stream",
     "text": [
      "Loss = 0.1748573860921025 | Training Accuracy = 1.0 | Val Loss = 0.17912960630184585 | Val Accuracy = 1.0\n",
      "Epoch 95\n"
     ]
    },
    {
     "name": "stderr",
     "output_type": "stream",
     "text": [
      "100%|███████████████████████████████████████████████████████████████████████████████████| 1/1 [00:00<00:00, 501.65it/s]\n",
      "100%|███████████████████████████████████████████████████████████████████████████████████| 1/1 [00:00<00:00, 652.51it/s]\n"
     ]
    },
    {
     "name": "stdout",
     "output_type": "stream",
     "text": [
      "Loss = 0.17912960630184585 | Training Accuracy = 1.0 | Val Loss = 0.16660409277777677 | Val Accuracy = 1.0\n",
      "Epoch 96\n"
     ]
    },
    {
     "name": "stderr",
     "output_type": "stream",
     "text": [
      "100%|██████████████████████████████████████████████████████████████████████████████████| 1/1 [00:00<00:00, 1002.70it/s]\n",
      "100%|██████████████████████████████████████████████████████████████████████████████████| 1/1 [00:00<00:00, 1003.18it/s]\n"
     ]
    },
    {
     "name": "stdout",
     "output_type": "stream",
     "text": [
      "Loss = 0.16660409277777677 | Training Accuracy = 1.0 | Val Loss = 0.16819512970159028 | Val Accuracy = 1.0\n",
      "Epoch 97\n"
     ]
    },
    {
     "name": "stderr",
     "output_type": "stream",
     "text": [
      "100%|███████████████████████████████████████████████████████████████████████████████████| 1/1 [00:00<00:00, 474.36it/s]\n",
      "100%|████████████████████████████████████████████████████████████████████████████████████████████| 1/1 [00:00<?, ?it/s]\n"
     ]
    },
    {
     "name": "stdout",
     "output_type": "stream",
     "text": [
      "Loss = 0.16819512970159028 | Training Accuracy = 1.0 | Val Loss = 0.15860346969784667 | Val Accuracy = 1.0\n",
      "Epoch 98\n"
     ]
    },
    {
     "name": "stderr",
     "output_type": "stream",
     "text": [
      "100%|███████████████████████████████████████████████████████████████████████████████████| 1/1 [00:00<00:00, 501.41it/s]\n",
      "100%|███████████████████████████████████████████████████████████████████████████████████| 1/1 [00:00<00:00, 500.87it/s]\n"
     ]
    },
    {
     "name": "stdout",
     "output_type": "stream",
     "text": [
      "Loss = 0.15860346969784667 | Training Accuracy = 1.0 | Val Loss = 0.15995775778406005 | Val Accuracy = 1.0\n",
      "Epoch 99\n"
     ]
    },
    {
     "name": "stderr",
     "output_type": "stream",
     "text": [
      "100%|███████████████████████████████████████████████████████████████████████████████████| 1/1 [00:00<00:00, 998.64it/s]\n",
      "100%|██████████████████████████████████████████████████████████████████████████████████| 1/1 [00:00<00:00, 1019.77it/s]\n"
     ]
    },
    {
     "name": "stdout",
     "output_type": "stream",
     "text": [
      "Loss = 0.15995775778406005 | Training Accuracy = 1.0 | Val Loss = 0.1514250935296741 | Val Accuracy = 1.0\n",
      "Epoch 100\n"
     ]
    },
    {
     "name": "stderr",
     "output_type": "stream",
     "text": [
      "100%|██████████████████████████████████████████████████████████████████████████████████| 1/1 [00:00<00:00, 1006.55it/s]\n",
      "100%|██████████████████████████████████████████████████████████████████████████████████| 1/1 [00:00<00:00, 1002.70it/s]\n"
     ]
    },
    {
     "name": "stdout",
     "output_type": "stream",
     "text": [
      "Loss = 0.1514250935296741 | Training Accuracy = 1.0 | Val Loss = 0.15157427642784177 | Val Accuracy = 1.0\n"
     ]
    }
   ],
   "source": [
    "\n",
    "# Get preprocessed training and validation data\n",
    "\n",
    "X_train = np.array([\n",
    "    [1, 2, 1, 2],\n",
    "    [2, 4, 2, 4],\n",
    "    [2, 1, 2, 1],\n",
    "    [4, 2, 4, 2],\n",
    "])\n",
    "\n",
    "y_train = np.array([0, 1, 0, 1])\n",
    "X_val = X_train.copy()\n",
    "y_val = y_train.copy()\n",
    "\n",
    "print(X_train.shape)\n",
    "print(X_val.shape)\n",
    "\n",
    "\n",
    "# define neural net\n",
    "model = NN()\n",
    "\n",
    "# add some layers\n",
    "model.add_layer(Linear(X_train.shape[1], 100))\n",
    "model.add_layer(ReLU())\n",
    "model.add_layer(Linear(100, 100))\n",
    "model.add_layer(ReLU())\n",
    "model.add_layer(Linear(100, 2))\n",
    "# YOUR CODE HERE\n",
    "\n",
    "model = train(model, X_train , y_train, minibatch_size=4, epoch=100,\n",
    "           learning_rate=0.1, X_val=X_val, y_val=y_val)\n",
    "\n",
    "\n"
   ]
  },
  {
   "cell_type": "markdown",
   "metadata": {},
   "source": [
    "## Mnist training"
   ]
  },
  {
   "cell_type": "code",
   "execution_count": 40,
   "metadata": {},
   "outputs": [],
   "source": [
    "from sklearn.datasets import fetch_openml\n",
    "from sklearn.model_selection import train_test_split"
   ]
  },
  {
   "cell_type": "code",
   "execution_count": 41,
   "metadata": {},
   "outputs": [],
   "source": [
    "X, y = fetch_openml('mnist_784', version=1, return_X_y=True)"
   ]
  },
  {
   "cell_type": "code",
   "execution_count": 42,
   "metadata": {},
   "outputs": [],
   "source": [
    "y = y.astype(np.int32)\n",
    "X_train, X_val, y_train, y_val = train_test_split(X, y, \n",
    "                                                  test_size=0.25,\n",
    "                                                  shuffle=True,\n",
    "                                                  random_state=0)\n"
   ]
  },
  {
   "cell_type": "code",
   "execution_count": 51,
   "metadata": {},
   "outputs": [],
   "source": [
    "import matplotlib.pyplot as plt\n",
    "%matplotlib notebook"
   ]
  },
  {
   "cell_type": "code",
   "execution_count": 44,
   "metadata": {},
   "outputs": [
    {
     "data": {
      "application/javascript": [
       "/* Put everything inside the global mpl namespace */\n",
       "window.mpl = {};\n",
       "\n",
       "\n",
       "mpl.get_websocket_type = function() {\n",
       "    if (typeof(WebSocket) !== 'undefined') {\n",
       "        return WebSocket;\n",
       "    } else if (typeof(MozWebSocket) !== 'undefined') {\n",
       "        return MozWebSocket;\n",
       "    } else {\n",
       "        alert('Your browser does not have WebSocket support. ' +\n",
       "              'Please try Chrome, Safari or Firefox ≥ 6. ' +\n",
       "              'Firefox 4 and 5 are also supported but you ' +\n",
       "              'have to enable WebSockets in about:config.');\n",
       "    };\n",
       "}\n",
       "\n",
       "mpl.figure = function(figure_id, websocket, ondownload, parent_element) {\n",
       "    this.id = figure_id;\n",
       "\n",
       "    this.ws = websocket;\n",
       "\n",
       "    this.supports_binary = (this.ws.binaryType != undefined);\n",
       "\n",
       "    if (!this.supports_binary) {\n",
       "        var warnings = document.getElementById(\"mpl-warnings\");\n",
       "        if (warnings) {\n",
       "            warnings.style.display = 'block';\n",
       "            warnings.textContent = (\n",
       "                \"This browser does not support binary websocket messages. \" +\n",
       "                    \"Performance may be slow.\");\n",
       "        }\n",
       "    }\n",
       "\n",
       "    this.imageObj = new Image();\n",
       "\n",
       "    this.context = undefined;\n",
       "    this.message = undefined;\n",
       "    this.canvas = undefined;\n",
       "    this.rubberband_canvas = undefined;\n",
       "    this.rubberband_context = undefined;\n",
       "    this.format_dropdown = undefined;\n",
       "\n",
       "    this.image_mode = 'full';\n",
       "\n",
       "    this.root = $('<div/>');\n",
       "    this._root_extra_style(this.root)\n",
       "    this.root.attr('style', 'display: inline-block');\n",
       "\n",
       "    $(parent_element).append(this.root);\n",
       "\n",
       "    this._init_header(this);\n",
       "    this._init_canvas(this);\n",
       "    this._init_toolbar(this);\n",
       "\n",
       "    var fig = this;\n",
       "\n",
       "    this.waiting = false;\n",
       "\n",
       "    this.ws.onopen =  function () {\n",
       "            fig.send_message(\"supports_binary\", {value: fig.supports_binary});\n",
       "            fig.send_message(\"send_image_mode\", {});\n",
       "            if (mpl.ratio != 1) {\n",
       "                fig.send_message(\"set_dpi_ratio\", {'dpi_ratio': mpl.ratio});\n",
       "            }\n",
       "            fig.send_message(\"refresh\", {});\n",
       "        }\n",
       "\n",
       "    this.imageObj.onload = function() {\n",
       "            if (fig.image_mode == 'full') {\n",
       "                // Full images could contain transparency (where diff images\n",
       "                // almost always do), so we need to clear the canvas so that\n",
       "                // there is no ghosting.\n",
       "                fig.context.clearRect(0, 0, fig.canvas.width, fig.canvas.height);\n",
       "            }\n",
       "            fig.context.drawImage(fig.imageObj, 0, 0);\n",
       "        };\n",
       "\n",
       "    this.imageObj.onunload = function() {\n",
       "        fig.ws.close();\n",
       "    }\n",
       "\n",
       "    this.ws.onmessage = this._make_on_message_function(this);\n",
       "\n",
       "    this.ondownload = ondownload;\n",
       "}\n",
       "\n",
       "mpl.figure.prototype._init_header = function() {\n",
       "    var titlebar = $(\n",
       "        '<div class=\"ui-dialog-titlebar ui-widget-header ui-corner-all ' +\n",
       "        'ui-helper-clearfix\"/>');\n",
       "    var titletext = $(\n",
       "        '<div class=\"ui-dialog-title\" style=\"width: 100%; ' +\n",
       "        'text-align: center; padding: 3px;\"/>');\n",
       "    titlebar.append(titletext)\n",
       "    this.root.append(titlebar);\n",
       "    this.header = titletext[0];\n",
       "}\n",
       "\n",
       "\n",
       "\n",
       "mpl.figure.prototype._canvas_extra_style = function(canvas_div) {\n",
       "\n",
       "}\n",
       "\n",
       "\n",
       "mpl.figure.prototype._root_extra_style = function(canvas_div) {\n",
       "\n",
       "}\n",
       "\n",
       "mpl.figure.prototype._init_canvas = function() {\n",
       "    var fig = this;\n",
       "\n",
       "    var canvas_div = $('<div/>');\n",
       "\n",
       "    canvas_div.attr('style', 'position: relative; clear: both; outline: 0');\n",
       "\n",
       "    function canvas_keyboard_event(event) {\n",
       "        return fig.key_event(event, event['data']);\n",
       "    }\n",
       "\n",
       "    canvas_div.keydown('key_press', canvas_keyboard_event);\n",
       "    canvas_div.keyup('key_release', canvas_keyboard_event);\n",
       "    this.canvas_div = canvas_div\n",
       "    this._canvas_extra_style(canvas_div)\n",
       "    this.root.append(canvas_div);\n",
       "\n",
       "    var canvas = $('<canvas/>');\n",
       "    canvas.addClass('mpl-canvas');\n",
       "    canvas.attr('style', \"left: 0; top: 0; z-index: 0; outline: 0\")\n",
       "\n",
       "    this.canvas = canvas[0];\n",
       "    this.context = canvas[0].getContext(\"2d\");\n",
       "\n",
       "    var backingStore = this.context.backingStorePixelRatio ||\n",
       "\tthis.context.webkitBackingStorePixelRatio ||\n",
       "\tthis.context.mozBackingStorePixelRatio ||\n",
       "\tthis.context.msBackingStorePixelRatio ||\n",
       "\tthis.context.oBackingStorePixelRatio ||\n",
       "\tthis.context.backingStorePixelRatio || 1;\n",
       "\n",
       "    mpl.ratio = (window.devicePixelRatio || 1) / backingStore;\n",
       "\n",
       "    var rubberband = $('<canvas/>');\n",
       "    rubberband.attr('style', \"position: absolute; left: 0; top: 0; z-index: 1;\")\n",
       "\n",
       "    var pass_mouse_events = true;\n",
       "\n",
       "    canvas_div.resizable({\n",
       "        start: function(event, ui) {\n",
       "            pass_mouse_events = false;\n",
       "        },\n",
       "        resize: function(event, ui) {\n",
       "            fig.request_resize(ui.size.width, ui.size.height);\n",
       "        },\n",
       "        stop: function(event, ui) {\n",
       "            pass_mouse_events = true;\n",
       "            fig.request_resize(ui.size.width, ui.size.height);\n",
       "        },\n",
       "    });\n",
       "\n",
       "    function mouse_event_fn(event) {\n",
       "        if (pass_mouse_events)\n",
       "            return fig.mouse_event(event, event['data']);\n",
       "    }\n",
       "\n",
       "    rubberband.mousedown('button_press', mouse_event_fn);\n",
       "    rubberband.mouseup('button_release', mouse_event_fn);\n",
       "    // Throttle sequential mouse events to 1 every 20ms.\n",
       "    rubberband.mousemove('motion_notify', mouse_event_fn);\n",
       "\n",
       "    rubberband.mouseenter('figure_enter', mouse_event_fn);\n",
       "    rubberband.mouseleave('figure_leave', mouse_event_fn);\n",
       "\n",
       "    canvas_div.on(\"wheel\", function (event) {\n",
       "        event = event.originalEvent;\n",
       "        event['data'] = 'scroll'\n",
       "        if (event.deltaY < 0) {\n",
       "            event.step = 1;\n",
       "        } else {\n",
       "            event.step = -1;\n",
       "        }\n",
       "        mouse_event_fn(event);\n",
       "    });\n",
       "\n",
       "    canvas_div.append(canvas);\n",
       "    canvas_div.append(rubberband);\n",
       "\n",
       "    this.rubberband = rubberband;\n",
       "    this.rubberband_canvas = rubberband[0];\n",
       "    this.rubberband_context = rubberband[0].getContext(\"2d\");\n",
       "    this.rubberband_context.strokeStyle = \"#000000\";\n",
       "\n",
       "    this._resize_canvas = function(width, height) {\n",
       "        // Keep the size of the canvas, canvas container, and rubber band\n",
       "        // canvas in synch.\n",
       "        canvas_div.css('width', width)\n",
       "        canvas_div.css('height', height)\n",
       "\n",
       "        canvas.attr('width', width * mpl.ratio);\n",
       "        canvas.attr('height', height * mpl.ratio);\n",
       "        canvas.attr('style', 'width: ' + width + 'px; height: ' + height + 'px;');\n",
       "\n",
       "        rubberband.attr('width', width);\n",
       "        rubberband.attr('height', height);\n",
       "    }\n",
       "\n",
       "    // Set the figure to an initial 600x600px, this will subsequently be updated\n",
       "    // upon first draw.\n",
       "    this._resize_canvas(600, 600);\n",
       "\n",
       "    // Disable right mouse context menu.\n",
       "    $(this.rubberband_canvas).bind(\"contextmenu\",function(e){\n",
       "        return false;\n",
       "    });\n",
       "\n",
       "    function set_focus () {\n",
       "        canvas.focus();\n",
       "        canvas_div.focus();\n",
       "    }\n",
       "\n",
       "    window.setTimeout(set_focus, 100);\n",
       "}\n",
       "\n",
       "mpl.figure.prototype._init_toolbar = function() {\n",
       "    var fig = this;\n",
       "\n",
       "    var nav_element = $('<div/>');\n",
       "    nav_element.attr('style', 'width: 100%');\n",
       "    this.root.append(nav_element);\n",
       "\n",
       "    // Define a callback function for later on.\n",
       "    function toolbar_event(event) {\n",
       "        return fig.toolbar_button_onclick(event['data']);\n",
       "    }\n",
       "    function toolbar_mouse_event(event) {\n",
       "        return fig.toolbar_button_onmouseover(event['data']);\n",
       "    }\n",
       "\n",
       "    for(var toolbar_ind in mpl.toolbar_items) {\n",
       "        var name = mpl.toolbar_items[toolbar_ind][0];\n",
       "        var tooltip = mpl.toolbar_items[toolbar_ind][1];\n",
       "        var image = mpl.toolbar_items[toolbar_ind][2];\n",
       "        var method_name = mpl.toolbar_items[toolbar_ind][3];\n",
       "\n",
       "        if (!name) {\n",
       "            // put a spacer in here.\n",
       "            continue;\n",
       "        }\n",
       "        var button = $('<button/>');\n",
       "        button.addClass('ui-button ui-widget ui-state-default ui-corner-all ' +\n",
       "                        'ui-button-icon-only');\n",
       "        button.attr('role', 'button');\n",
       "        button.attr('aria-disabled', 'false');\n",
       "        button.click(method_name, toolbar_event);\n",
       "        button.mouseover(tooltip, toolbar_mouse_event);\n",
       "\n",
       "        var icon_img = $('<span/>');\n",
       "        icon_img.addClass('ui-button-icon-primary ui-icon');\n",
       "        icon_img.addClass(image);\n",
       "        icon_img.addClass('ui-corner-all');\n",
       "\n",
       "        var tooltip_span = $('<span/>');\n",
       "        tooltip_span.addClass('ui-button-text');\n",
       "        tooltip_span.html(tooltip);\n",
       "\n",
       "        button.append(icon_img);\n",
       "        button.append(tooltip_span);\n",
       "\n",
       "        nav_element.append(button);\n",
       "    }\n",
       "\n",
       "    var fmt_picker_span = $('<span/>');\n",
       "\n",
       "    var fmt_picker = $('<select/>');\n",
       "    fmt_picker.addClass('mpl-toolbar-option ui-widget ui-widget-content');\n",
       "    fmt_picker_span.append(fmt_picker);\n",
       "    nav_element.append(fmt_picker_span);\n",
       "    this.format_dropdown = fmt_picker[0];\n",
       "\n",
       "    for (var ind in mpl.extensions) {\n",
       "        var fmt = mpl.extensions[ind];\n",
       "        var option = $(\n",
       "            '<option/>', {selected: fmt === mpl.default_extension}).html(fmt);\n",
       "        fmt_picker.append(option);\n",
       "    }\n",
       "\n",
       "    // Add hover states to the ui-buttons\n",
       "    $( \".ui-button\" ).hover(\n",
       "        function() { $(this).addClass(\"ui-state-hover\");},\n",
       "        function() { $(this).removeClass(\"ui-state-hover\");}\n",
       "    );\n",
       "\n",
       "    var status_bar = $('<span class=\"mpl-message\"/>');\n",
       "    nav_element.append(status_bar);\n",
       "    this.message = status_bar[0];\n",
       "}\n",
       "\n",
       "mpl.figure.prototype.request_resize = function(x_pixels, y_pixels) {\n",
       "    // Request matplotlib to resize the figure. Matplotlib will then trigger a resize in the client,\n",
       "    // which will in turn request a refresh of the image.\n",
       "    this.send_message('resize', {'width': x_pixels, 'height': y_pixels});\n",
       "}\n",
       "\n",
       "mpl.figure.prototype.send_message = function(type, properties) {\n",
       "    properties['type'] = type;\n",
       "    properties['figure_id'] = this.id;\n",
       "    this.ws.send(JSON.stringify(properties));\n",
       "}\n",
       "\n",
       "mpl.figure.prototype.send_draw_message = function() {\n",
       "    if (!this.waiting) {\n",
       "        this.waiting = true;\n",
       "        this.ws.send(JSON.stringify({type: \"draw\", figure_id: this.id}));\n",
       "    }\n",
       "}\n",
       "\n",
       "\n",
       "mpl.figure.prototype.handle_save = function(fig, msg) {\n",
       "    var format_dropdown = fig.format_dropdown;\n",
       "    var format = format_dropdown.options[format_dropdown.selectedIndex].value;\n",
       "    fig.ondownload(fig, format);\n",
       "}\n",
       "\n",
       "\n",
       "mpl.figure.prototype.handle_resize = function(fig, msg) {\n",
       "    var size = msg['size'];\n",
       "    if (size[0] != fig.canvas.width || size[1] != fig.canvas.height) {\n",
       "        fig._resize_canvas(size[0], size[1]);\n",
       "        fig.send_message(\"refresh\", {});\n",
       "    };\n",
       "}\n",
       "\n",
       "mpl.figure.prototype.handle_rubberband = function(fig, msg) {\n",
       "    var x0 = msg['x0'] / mpl.ratio;\n",
       "    var y0 = (fig.canvas.height - msg['y0']) / mpl.ratio;\n",
       "    var x1 = msg['x1'] / mpl.ratio;\n",
       "    var y1 = (fig.canvas.height - msg['y1']) / mpl.ratio;\n",
       "    x0 = Math.floor(x0) + 0.5;\n",
       "    y0 = Math.floor(y0) + 0.5;\n",
       "    x1 = Math.floor(x1) + 0.5;\n",
       "    y1 = Math.floor(y1) + 0.5;\n",
       "    var min_x = Math.min(x0, x1);\n",
       "    var min_y = Math.min(y0, y1);\n",
       "    var width = Math.abs(x1 - x0);\n",
       "    var height = Math.abs(y1 - y0);\n",
       "\n",
       "    fig.rubberband_context.clearRect(\n",
       "        0, 0, fig.canvas.width / mpl.ratio, fig.canvas.height / mpl.ratio);\n",
       "\n",
       "    fig.rubberband_context.strokeRect(min_x, min_y, width, height);\n",
       "}\n",
       "\n",
       "mpl.figure.prototype.handle_figure_label = function(fig, msg) {\n",
       "    // Updates the figure title.\n",
       "    fig.header.textContent = msg['label'];\n",
       "}\n",
       "\n",
       "mpl.figure.prototype.handle_cursor = function(fig, msg) {\n",
       "    var cursor = msg['cursor'];\n",
       "    switch(cursor)\n",
       "    {\n",
       "    case 0:\n",
       "        cursor = 'pointer';\n",
       "        break;\n",
       "    case 1:\n",
       "        cursor = 'default';\n",
       "        break;\n",
       "    case 2:\n",
       "        cursor = 'crosshair';\n",
       "        break;\n",
       "    case 3:\n",
       "        cursor = 'move';\n",
       "        break;\n",
       "    }\n",
       "    fig.rubberband_canvas.style.cursor = cursor;\n",
       "}\n",
       "\n",
       "mpl.figure.prototype.handle_message = function(fig, msg) {\n",
       "    fig.message.textContent = msg['message'];\n",
       "}\n",
       "\n",
       "mpl.figure.prototype.handle_draw = function(fig, msg) {\n",
       "    // Request the server to send over a new figure.\n",
       "    fig.send_draw_message();\n",
       "}\n",
       "\n",
       "mpl.figure.prototype.handle_image_mode = function(fig, msg) {\n",
       "    fig.image_mode = msg['mode'];\n",
       "}\n",
       "\n",
       "mpl.figure.prototype.updated_canvas_event = function() {\n",
       "    // Called whenever the canvas gets updated.\n",
       "    this.send_message(\"ack\", {});\n",
       "}\n",
       "\n",
       "// A function to construct a web socket function for onmessage handling.\n",
       "// Called in the figure constructor.\n",
       "mpl.figure.prototype._make_on_message_function = function(fig) {\n",
       "    return function socket_on_message(evt) {\n",
       "        if (evt.data instanceof Blob) {\n",
       "            /* FIXME: We get \"Resource interpreted as Image but\n",
       "             * transferred with MIME type text/plain:\" errors on\n",
       "             * Chrome.  But how to set the MIME type?  It doesn't seem\n",
       "             * to be part of the websocket stream */\n",
       "            evt.data.type = \"image/png\";\n",
       "\n",
       "            /* Free the memory for the previous frames */\n",
       "            if (fig.imageObj.src) {\n",
       "                (window.URL || window.webkitURL).revokeObjectURL(\n",
       "                    fig.imageObj.src);\n",
       "            }\n",
       "\n",
       "            fig.imageObj.src = (window.URL || window.webkitURL).createObjectURL(\n",
       "                evt.data);\n",
       "            fig.updated_canvas_event();\n",
       "            fig.waiting = false;\n",
       "            return;\n",
       "        }\n",
       "        else if (typeof evt.data === 'string' && evt.data.slice(0, 21) == \"data:image/png;base64\") {\n",
       "            fig.imageObj.src = evt.data;\n",
       "            fig.updated_canvas_event();\n",
       "            fig.waiting = false;\n",
       "            return;\n",
       "        }\n",
       "\n",
       "        var msg = JSON.parse(evt.data);\n",
       "        var msg_type = msg['type'];\n",
       "\n",
       "        // Call the  \"handle_{type}\" callback, which takes\n",
       "        // the figure and JSON message as its only arguments.\n",
       "        try {\n",
       "            var callback = fig[\"handle_\" + msg_type];\n",
       "        } catch (e) {\n",
       "            console.log(\"No handler for the '\" + msg_type + \"' message type: \", msg);\n",
       "            return;\n",
       "        }\n",
       "\n",
       "        if (callback) {\n",
       "            try {\n",
       "                // console.log(\"Handling '\" + msg_type + \"' message: \", msg);\n",
       "                callback(fig, msg);\n",
       "            } catch (e) {\n",
       "                console.log(\"Exception inside the 'handler_\" + msg_type + \"' callback:\", e, e.stack, msg);\n",
       "            }\n",
       "        }\n",
       "    };\n",
       "}\n",
       "\n",
       "// from http://stackoverflow.com/questions/1114465/getting-mouse-location-in-canvas\n",
       "mpl.findpos = function(e) {\n",
       "    //this section is from http://www.quirksmode.org/js/events_properties.html\n",
       "    var targ;\n",
       "    if (!e)\n",
       "        e = window.event;\n",
       "    if (e.target)\n",
       "        targ = e.target;\n",
       "    else if (e.srcElement)\n",
       "        targ = e.srcElement;\n",
       "    if (targ.nodeType == 3) // defeat Safari bug\n",
       "        targ = targ.parentNode;\n",
       "\n",
       "    // jQuery normalizes the pageX and pageY\n",
       "    // pageX,Y are the mouse positions relative to the document\n",
       "    // offset() returns the position of the element relative to the document\n",
       "    var x = e.pageX - $(targ).offset().left;\n",
       "    var y = e.pageY - $(targ).offset().top;\n",
       "\n",
       "    return {\"x\": x, \"y\": y};\n",
       "};\n",
       "\n",
       "/*\n",
       " * return a copy of an object with only non-object keys\n",
       " * we need this to avoid circular references\n",
       " * http://stackoverflow.com/a/24161582/3208463\n",
       " */\n",
       "function simpleKeys (original) {\n",
       "  return Object.keys(original).reduce(function (obj, key) {\n",
       "    if (typeof original[key] !== 'object')\n",
       "        obj[key] = original[key]\n",
       "    return obj;\n",
       "  }, {});\n",
       "}\n",
       "\n",
       "mpl.figure.prototype.mouse_event = function(event, name) {\n",
       "    var canvas_pos = mpl.findpos(event)\n",
       "\n",
       "    if (name === 'button_press')\n",
       "    {\n",
       "        this.canvas.focus();\n",
       "        this.canvas_div.focus();\n",
       "    }\n",
       "\n",
       "    var x = canvas_pos.x * mpl.ratio;\n",
       "    var y = canvas_pos.y * mpl.ratio;\n",
       "\n",
       "    this.send_message(name, {x: x, y: y, button: event.button,\n",
       "                             step: event.step,\n",
       "                             guiEvent: simpleKeys(event)});\n",
       "\n",
       "    /* This prevents the web browser from automatically changing to\n",
       "     * the text insertion cursor when the button is pressed.  We want\n",
       "     * to control all of the cursor setting manually through the\n",
       "     * 'cursor' event from matplotlib */\n",
       "    event.preventDefault();\n",
       "    return false;\n",
       "}\n",
       "\n",
       "mpl.figure.prototype._key_event_extra = function(event, name) {\n",
       "    // Handle any extra behaviour associated with a key event\n",
       "}\n",
       "\n",
       "mpl.figure.prototype.key_event = function(event, name) {\n",
       "\n",
       "    // Prevent repeat events\n",
       "    if (name == 'key_press')\n",
       "    {\n",
       "        if (event.which === this._key)\n",
       "            return;\n",
       "        else\n",
       "            this._key = event.which;\n",
       "    }\n",
       "    if (name == 'key_release')\n",
       "        this._key = null;\n",
       "\n",
       "    var value = '';\n",
       "    if (event.ctrlKey && event.which != 17)\n",
       "        value += \"ctrl+\";\n",
       "    if (event.altKey && event.which != 18)\n",
       "        value += \"alt+\";\n",
       "    if (event.shiftKey && event.which != 16)\n",
       "        value += \"shift+\";\n",
       "\n",
       "    value += 'k';\n",
       "    value += event.which.toString();\n",
       "\n",
       "    this._key_event_extra(event, name);\n",
       "\n",
       "    this.send_message(name, {key: value,\n",
       "                             guiEvent: simpleKeys(event)});\n",
       "    return false;\n",
       "}\n",
       "\n",
       "mpl.figure.prototype.toolbar_button_onclick = function(name) {\n",
       "    if (name == 'download') {\n",
       "        this.handle_save(this, null);\n",
       "    } else {\n",
       "        this.send_message(\"toolbar_button\", {name: name});\n",
       "    }\n",
       "};\n",
       "\n",
       "mpl.figure.prototype.toolbar_button_onmouseover = function(tooltip) {\n",
       "    this.message.textContent = tooltip;\n",
       "};\n",
       "mpl.toolbar_items = [[\"Home\", \"Reset original view\", \"fa fa-home icon-home\", \"home\"], [\"Back\", \"Back to previous view\", \"fa fa-arrow-left icon-arrow-left\", \"back\"], [\"Forward\", \"Forward to next view\", \"fa fa-arrow-right icon-arrow-right\", \"forward\"], [\"\", \"\", \"\", \"\"], [\"Pan\", \"Pan axes with left mouse, zoom with right\", \"fa fa-arrows icon-move\", \"pan\"], [\"Zoom\", \"Zoom to rectangle\", \"fa fa-square-o icon-check-empty\", \"zoom\"], [\"\", \"\", \"\", \"\"], [\"Download\", \"Download plot\", \"fa fa-floppy-o icon-save\", \"download\"]];\n",
       "\n",
       "mpl.extensions = [\"eps\", \"pdf\", \"png\", \"ps\", \"raw\", \"svg\"];\n",
       "\n",
       "mpl.default_extension = \"png\";var comm_websocket_adapter = function(comm) {\n",
       "    // Create a \"websocket\"-like object which calls the given IPython comm\n",
       "    // object with the appropriate methods. Currently this is a non binary\n",
       "    // socket, so there is still some room for performance tuning.\n",
       "    var ws = {};\n",
       "\n",
       "    ws.close = function() {\n",
       "        comm.close()\n",
       "    };\n",
       "    ws.send = function(m) {\n",
       "        //console.log('sending', m);\n",
       "        comm.send(m);\n",
       "    };\n",
       "    // Register the callback with on_msg.\n",
       "    comm.on_msg(function(msg) {\n",
       "        //console.log('receiving', msg['content']['data'], msg);\n",
       "        // Pass the mpl event to the overridden (by mpl) onmessage function.\n",
       "        ws.onmessage(msg['content']['data'])\n",
       "    });\n",
       "    return ws;\n",
       "}\n",
       "\n",
       "mpl.mpl_figure_comm = function(comm, msg) {\n",
       "    // This is the function which gets called when the mpl process\n",
       "    // starts-up an IPython Comm through the \"matplotlib\" channel.\n",
       "\n",
       "    var id = msg.content.data.id;\n",
       "    // Get hold of the div created by the display call when the Comm\n",
       "    // socket was opened in Python.\n",
       "    var element = $(\"#\" + id);\n",
       "    var ws_proxy = comm_websocket_adapter(comm)\n",
       "\n",
       "    function ondownload(figure, format) {\n",
       "        window.open(figure.imageObj.src);\n",
       "    }\n",
       "\n",
       "    var fig = new mpl.figure(id, ws_proxy,\n",
       "                           ondownload,\n",
       "                           element.get(0));\n",
       "\n",
       "    // Call onopen now - mpl needs it, as it is assuming we've passed it a real\n",
       "    // web socket which is closed, not our websocket->open comm proxy.\n",
       "    ws_proxy.onopen();\n",
       "\n",
       "    fig.parent_element = element.get(0);\n",
       "    fig.cell_info = mpl.find_output_cell(\"<div id='\" + id + \"'></div>\");\n",
       "    if (!fig.cell_info) {\n",
       "        console.error(\"Failed to find cell for figure\", id, fig);\n",
       "        return;\n",
       "    }\n",
       "\n",
       "    var output_index = fig.cell_info[2]\n",
       "    var cell = fig.cell_info[0];\n",
       "\n",
       "};\n",
       "\n",
       "mpl.figure.prototype.handle_close = function(fig, msg) {\n",
       "    var width = fig.canvas.width/mpl.ratio\n",
       "    fig.root.unbind('remove')\n",
       "\n",
       "    // Update the output cell to use the data from the current canvas.\n",
       "    fig.push_to_output();\n",
       "    var dataURL = fig.canvas.toDataURL();\n",
       "    // Re-enable the keyboard manager in IPython - without this line, in FF,\n",
       "    // the notebook keyboard shortcuts fail.\n",
       "    IPython.keyboard_manager.enable()\n",
       "    $(fig.parent_element).html('<img src=\"' + dataURL + '\" width=\"' + width + '\">');\n",
       "    fig.close_ws(fig, msg);\n",
       "}\n",
       "\n",
       "mpl.figure.prototype.close_ws = function(fig, msg){\n",
       "    fig.send_message('closing', msg);\n",
       "    // fig.ws.close()\n",
       "}\n",
       "\n",
       "mpl.figure.prototype.push_to_output = function(remove_interactive) {\n",
       "    // Turn the data on the canvas into data in the output cell.\n",
       "    var width = this.canvas.width/mpl.ratio\n",
       "    var dataURL = this.canvas.toDataURL();\n",
       "    this.cell_info[1]['text/html'] = '<img src=\"' + dataURL + '\" width=\"' + width + '\">';\n",
       "}\n",
       "\n",
       "mpl.figure.prototype.updated_canvas_event = function() {\n",
       "    // Tell IPython that the notebook contents must change.\n",
       "    IPython.notebook.set_dirty(true);\n",
       "    this.send_message(\"ack\", {});\n",
       "    var fig = this;\n",
       "    // Wait a second, then push the new image to the DOM so\n",
       "    // that it is saved nicely (might be nice to debounce this).\n",
       "    setTimeout(function () { fig.push_to_output() }, 1000);\n",
       "}\n",
       "\n",
       "mpl.figure.prototype._init_toolbar = function() {\n",
       "    var fig = this;\n",
       "\n",
       "    var nav_element = $('<div/>');\n",
       "    nav_element.attr('style', 'width: 100%');\n",
       "    this.root.append(nav_element);\n",
       "\n",
       "    // Define a callback function for later on.\n",
       "    function toolbar_event(event) {\n",
       "        return fig.toolbar_button_onclick(event['data']);\n",
       "    }\n",
       "    function toolbar_mouse_event(event) {\n",
       "        return fig.toolbar_button_onmouseover(event['data']);\n",
       "    }\n",
       "\n",
       "    for(var toolbar_ind in mpl.toolbar_items){\n",
       "        var name = mpl.toolbar_items[toolbar_ind][0];\n",
       "        var tooltip = mpl.toolbar_items[toolbar_ind][1];\n",
       "        var image = mpl.toolbar_items[toolbar_ind][2];\n",
       "        var method_name = mpl.toolbar_items[toolbar_ind][3];\n",
       "\n",
       "        if (!name) { continue; };\n",
       "\n",
       "        var button = $('<button class=\"btn btn-default\" href=\"#\" title=\"' + name + '\"><i class=\"fa ' + image + ' fa-lg\"></i></button>');\n",
       "        button.click(method_name, toolbar_event);\n",
       "        button.mouseover(tooltip, toolbar_mouse_event);\n",
       "        nav_element.append(button);\n",
       "    }\n",
       "\n",
       "    // Add the status bar.\n",
       "    var status_bar = $('<span class=\"mpl-message\" style=\"text-align:right; float: right;\"/>');\n",
       "    nav_element.append(status_bar);\n",
       "    this.message = status_bar[0];\n",
       "\n",
       "    // Add the close button to the window.\n",
       "    var buttongrp = $('<div class=\"btn-group inline pull-right\"></div>');\n",
       "    var button = $('<button class=\"btn btn-mini btn-primary\" href=\"#\" title=\"Stop Interaction\"><i class=\"fa fa-power-off icon-remove icon-large\"></i></button>');\n",
       "    button.click(function (evt) { fig.handle_close(fig, {}); } );\n",
       "    button.mouseover('Stop Interaction', toolbar_mouse_event);\n",
       "    buttongrp.append(button);\n",
       "    var titlebar = this.root.find($('.ui-dialog-titlebar'));\n",
       "    titlebar.prepend(buttongrp);\n",
       "}\n",
       "\n",
       "mpl.figure.prototype._root_extra_style = function(el){\n",
       "    var fig = this\n",
       "    el.on(\"remove\", function(){\n",
       "\tfig.close_ws(fig, {});\n",
       "    });\n",
       "}\n",
       "\n",
       "mpl.figure.prototype._canvas_extra_style = function(el){\n",
       "    // this is important to make the div 'focusable\n",
       "    el.attr('tabindex', 0)\n",
       "    // reach out to IPython and tell the keyboard manager to turn it's self\n",
       "    // off when our div gets focus\n",
       "\n",
       "    // location in version 3\n",
       "    if (IPython.notebook.keyboard_manager) {\n",
       "        IPython.notebook.keyboard_manager.register_events(el);\n",
       "    }\n",
       "    else {\n",
       "        // location in version 2\n",
       "        IPython.keyboard_manager.register_events(el);\n",
       "    }\n",
       "\n",
       "}\n",
       "\n",
       "mpl.figure.prototype._key_event_extra = function(event, name) {\n",
       "    var manager = IPython.notebook.keyboard_manager;\n",
       "    if (!manager)\n",
       "        manager = IPython.keyboard_manager;\n",
       "\n",
       "    // Check for shift+enter\n",
       "    if (event.shiftKey && event.which == 13) {\n",
       "        this.canvas_div.blur();\n",
       "        event.shiftKey = false;\n",
       "        // Send a \"J\" for go to next cell\n",
       "        event.which = 74;\n",
       "        event.keyCode = 74;\n",
       "        manager.command_mode();\n",
       "        manager.handle_keydown(event);\n",
       "    }\n",
       "}\n",
       "\n",
       "mpl.figure.prototype.handle_save = function(fig, msg) {\n",
       "    fig.ondownload(fig, null);\n",
       "}\n",
       "\n",
       "\n",
       "mpl.find_output_cell = function(html_output) {\n",
       "    // Return the cell and output element which can be found *uniquely* in the notebook.\n",
       "    // Note - this is a bit hacky, but it is done because the \"notebook_saving.Notebook\"\n",
       "    // IPython event is triggered only after the cells have been serialised, which for\n",
       "    // our purposes (turning an active figure into a static one), is too late.\n",
       "    var cells = IPython.notebook.get_cells();\n",
       "    var ncells = cells.length;\n",
       "    for (var i=0; i<ncells; i++) {\n",
       "        var cell = cells[i];\n",
       "        if (cell.cell_type === 'code'){\n",
       "            for (var j=0; j<cell.output_area.outputs.length; j++) {\n",
       "                var data = cell.output_area.outputs[j];\n",
       "                if (data.data) {\n",
       "                    // IPython >= 3 moved mimebundle to data attribute of output\n",
       "                    data = data.data;\n",
       "                }\n",
       "                if (data['text/html'] == html_output) {\n",
       "                    return [cell, data, j];\n",
       "                }\n",
       "            }\n",
       "        }\n",
       "    }\n",
       "}\n",
       "\n",
       "// Register the function which deals with the matplotlib target/channel.\n",
       "// The kernel may be null if the page has been refreshed.\n",
       "if (IPython.notebook.kernel != null) {\n",
       "    IPython.notebook.kernel.comm_manager.register_target('matplotlib', mpl.mpl_figure_comm);\n",
       "}\n"
      ],
      "text/plain": [
       "<IPython.core.display.Javascript object>"
      ]
     },
     "metadata": {},
     "output_type": "display_data"
    },
    {
     "data": {
      "text/html": [
       "<img src=\"data:image/png;base64,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\" width=\"639.2593044181615\">"
      ],
      "text/plain": [
       "<IPython.core.display.HTML object>"
      ]
     },
     "metadata": {},
     "output_type": "display_data"
    }
   ],
   "source": [
    "# visualize data\n",
    "\n",
    "def vis(img, label):\n",
    "    plt.imshow(img, cmap='gray')\n",
    "    plt.title(label)\n",
    "    plt.axis('off')\n",
    "    plt.show()\n",
    "\n",
    "vis_idx = 0\n",
    "vis(X_val[vis_idx].reshape(-1, 28), y_val[vis_idx])"
   ]
  },
  {
   "cell_type": "code",
   "execution_count": 49,
   "metadata": {},
   "outputs": [
    {
     "name": "stdout",
     "output_type": "stream",
     "text": [
      "(52500, 784)\n",
      "(17500, 784)\n",
      "Epoch 1\n"
     ]
    },
    {
     "name": "stderr",
     "output_type": "stream",
     "text": [
      "100%|███████████████████████████████████████████████████████████████████████████████| 411/411 [00:02<00:00, 153.76it/s]\n",
      "100%|███████████████████████████████████████████████████████████████████████████████| 137/137 [00:00<00:00, 375.03it/s]\n"
     ]
    },
    {
     "name": "stdout",
     "output_type": "stream",
     "text": [
      "Loss = 1.102015722180171 | Training Accuracy = 0.9079238095238096 | Val Loss = 0.40602196613399105 | Val Accuracy = 0.8955428571428572\n",
      "Epoch 2\n"
     ]
    },
    {
     "name": "stderr",
     "output_type": "stream",
     "text": [
      "100%|███████████████████████████████████████████████████████████████████████████████| 411/411 [00:02<00:00, 155.28it/s]\n",
      "100%|███████████████████████████████████████████████████████████████████████████████| 137/137 [00:00<00:00, 340.04it/s]\n"
     ]
    },
    {
     "name": "stdout",
     "output_type": "stream",
     "text": [
      "Loss = 0.3680606566515522 | Training Accuracy = 0.9316952380952381 | Val Loss = 0.3188283308961983 | Val Accuracy = 0.9196571428571428\n",
      "Epoch 3\n"
     ]
    },
    {
     "name": "stderr",
     "output_type": "stream",
     "text": [
      "100%|███████████████████████████████████████████████████████████████████████████████| 411/411 [00:02<00:00, 154.07it/s]\n",
      "100%|███████████████████████████████████████████████████████████████████████████████| 137/137 [00:00<00:00, 363.91it/s]\n"
     ]
    },
    {
     "name": "stdout",
     "output_type": "stream",
     "text": [
      "Loss = 0.3026035688541191 | Training Accuracy = 0.9419428571428572 | Val Loss = 0.31096453629399184 | Val Accuracy = 0.9272\n",
      "Epoch 4\n"
     ]
    },
    {
     "name": "stderr",
     "output_type": "stream",
     "text": [
      "100%|███████████████████████████████████████████████████████████████████████████████| 411/411 [00:02<00:00, 149.45it/s]\n",
      "100%|███████████████████████████████████████████████████████████████████████████████| 137/137 [00:00<00:00, 369.39it/s]\n"
     ]
    },
    {
     "name": "stdout",
     "output_type": "stream",
     "text": [
      "Loss = 0.26431005807317526 | Training Accuracy = 0.951047619047619 | Val Loss = 0.24123536933861178 | Val Accuracy = 0.9341142857142857\n",
      "Epoch 5\n"
     ]
    },
    {
     "name": "stderr",
     "output_type": "stream",
     "text": [
      "100%|███████████████████████████████████████████████████████████████████████████████| 411/411 [00:02<00:00, 152.39it/s]\n",
      "100%|███████████████████████████████████████████████████████████████████████████████| 137/137 [00:00<00:00, 368.93it/s]\n"
     ]
    },
    {
     "name": "stdout",
     "output_type": "stream",
     "text": [
      "Loss = 0.24118805044408556 | Training Accuracy = 0.9572761904761905 | Val Loss = 0.2477595497567623 | Val Accuracy = 0.9386857142857142\n",
      "Epoch 6\n"
     ]
    },
    {
     "name": "stderr",
     "output_type": "stream",
     "text": [
      "100%|███████████████████████████████████████████████████████████████████████████████| 411/411 [00:02<00:00, 153.31it/s]\n",
      "100%|███████████████████████████████████████████████████████████████████████████████| 137/137 [00:00<00:00, 362.44it/s]\n"
     ]
    },
    {
     "name": "stdout",
     "output_type": "stream",
     "text": [
      "Loss = 0.22460268849655565 | Training Accuracy = 0.9614857142857143 | Val Loss = 0.22045407407205153 | Val Accuracy = 0.9421142857142857\n",
      "Epoch 7\n"
     ]
    },
    {
     "name": "stderr",
     "output_type": "stream",
     "text": [
      "100%|███████████████████████████████████████████████████████████████████████████████| 411/411 [00:02<00:00, 150.44it/s]\n",
      "100%|███████████████████████████████████████████████████████████████████████████████| 137/137 [00:00<00:00, 360.65it/s]\n"
     ]
    },
    {
     "name": "stdout",
     "output_type": "stream",
     "text": [
      "Loss = 0.2111205341291449 | Training Accuracy = 0.9634285714285714 | Val Loss = 0.2110463212123259 | Val Accuracy = 0.9426857142857142\n",
      "Epoch 8\n"
     ]
    },
    {
     "name": "stderr",
     "output_type": "stream",
     "text": [
      "100%|███████████████████████████████████████████████████████████████████████████████| 411/411 [00:02<00:00, 149.18it/s]\n",
      "100%|███████████████████████████████████████████████████████████████████████████████| 137/137 [00:00<00:00, 365.32it/s]\n"
     ]
    },
    {
     "name": "stdout",
     "output_type": "stream",
     "text": [
      "Loss = 0.19950181620791077 | Training Accuracy = 0.9663619047619048 | Val Loss = 0.1892464192975716 | Val Accuracy = 0.9444\n",
      "Epoch 9\n"
     ]
    },
    {
     "name": "stderr",
     "output_type": "stream",
     "text": [
      "100%|███████████████████████████████████████████████████████████████████████████████| 411/411 [00:02<00:00, 152.81it/s]\n",
      "100%|███████████████████████████████████████████████████████████████████████████████| 137/137 [00:00<00:00, 364.81it/s]\n"
     ]
    },
    {
     "name": "stdout",
     "output_type": "stream",
     "text": [
      "Loss = 0.1912396877968528 | Training Accuracy = 0.9678285714285715 | Val Loss = 0.1855178910606847 | Val Accuracy = 0.9467428571428571\n",
      "Epoch 10\n"
     ]
    },
    {
     "name": "stderr",
     "output_type": "stream",
     "text": [
      "100%|███████████████████████████████████████████████████████████████████████████████| 411/411 [00:02<00:00, 152.59it/s]\n",
      "100%|███████████████████████████████████████████████████████████████████████████████| 137/137 [00:00<00:00, 364.36it/s]\n"
     ]
    },
    {
     "name": "stdout",
     "output_type": "stream",
     "text": [
      "Loss = 0.18385726286153112 | Training Accuracy = 0.9709904761904762 | Val Loss = 0.1823496204981157 | Val Accuracy = 0.9481714285714286\n"
     ]
    }
   ],
   "source": [
    "print(X_train.shape)\n",
    "print(X_val.shape)\n",
    "\n",
    "\n",
    "# define neural net\n",
    "model = NN()\n",
    "\n",
    "# add some layers\n",
    "# YOUR CODE HERE\n",
    "model.add_layer(Linear(X_train.shape[1], 100))\n",
    "model.add_layer(ReLU())\n",
    "model.add_layer(Linear(100, 100))\n",
    "model.add_layer(ReLU())\n",
    "model.add_layer(Linear(100, 10))\n",
    "\n",
    "model = train(model, X_train , y_train, minibatch_size=128, epoch=10,\n",
    "           learning_rate=0.001, X_val=X_val, y_val=y_val)\n",
    "\n",
    "\n"
   ]
  },
  {
   "cell_type": "code",
   "execution_count": 52,
   "metadata": {},
   "outputs": [
    {
     "data": {
      "application/javascript": [
       "/* Put everything inside the global mpl namespace */\n",
       "window.mpl = {};\n",
       "\n",
       "\n",
       "mpl.get_websocket_type = function() {\n",
       "    if (typeof(WebSocket) !== 'undefined') {\n",
       "        return WebSocket;\n",
       "    } else if (typeof(MozWebSocket) !== 'undefined') {\n",
       "        return MozWebSocket;\n",
       "    } else {\n",
       "        alert('Your browser does not have WebSocket support. ' +\n",
       "              'Please try Chrome, Safari or Firefox ≥ 6. ' +\n",
       "              'Firefox 4 and 5 are also supported but you ' +\n",
       "              'have to enable WebSockets in about:config.');\n",
       "    };\n",
       "}\n",
       "\n",
       "mpl.figure = function(figure_id, websocket, ondownload, parent_element) {\n",
       "    this.id = figure_id;\n",
       "\n",
       "    this.ws = websocket;\n",
       "\n",
       "    this.supports_binary = (this.ws.binaryType != undefined);\n",
       "\n",
       "    if (!this.supports_binary) {\n",
       "        var warnings = document.getElementById(\"mpl-warnings\");\n",
       "        if (warnings) {\n",
       "            warnings.style.display = 'block';\n",
       "            warnings.textContent = (\n",
       "                \"This browser does not support binary websocket messages. \" +\n",
       "                    \"Performance may be slow.\");\n",
       "        }\n",
       "    }\n",
       "\n",
       "    this.imageObj = new Image();\n",
       "\n",
       "    this.context = undefined;\n",
       "    this.message = undefined;\n",
       "    this.canvas = undefined;\n",
       "    this.rubberband_canvas = undefined;\n",
       "    this.rubberband_context = undefined;\n",
       "    this.format_dropdown = undefined;\n",
       "\n",
       "    this.image_mode = 'full';\n",
       "\n",
       "    this.root = $('<div/>');\n",
       "    this._root_extra_style(this.root)\n",
       "    this.root.attr('style', 'display: inline-block');\n",
       "\n",
       "    $(parent_element).append(this.root);\n",
       "\n",
       "    this._init_header(this);\n",
       "    this._init_canvas(this);\n",
       "    this._init_toolbar(this);\n",
       "\n",
       "    var fig = this;\n",
       "\n",
       "    this.waiting = false;\n",
       "\n",
       "    this.ws.onopen =  function () {\n",
       "            fig.send_message(\"supports_binary\", {value: fig.supports_binary});\n",
       "            fig.send_message(\"send_image_mode\", {});\n",
       "            if (mpl.ratio != 1) {\n",
       "                fig.send_message(\"set_dpi_ratio\", {'dpi_ratio': mpl.ratio});\n",
       "            }\n",
       "            fig.send_message(\"refresh\", {});\n",
       "        }\n",
       "\n",
       "    this.imageObj.onload = function() {\n",
       "            if (fig.image_mode == 'full') {\n",
       "                // Full images could contain transparency (where diff images\n",
       "                // almost always do), so we need to clear the canvas so that\n",
       "                // there is no ghosting.\n",
       "                fig.context.clearRect(0, 0, fig.canvas.width, fig.canvas.height);\n",
       "            }\n",
       "            fig.context.drawImage(fig.imageObj, 0, 0);\n",
       "        };\n",
       "\n",
       "    this.imageObj.onunload = function() {\n",
       "        fig.ws.close();\n",
       "    }\n",
       "\n",
       "    this.ws.onmessage = this._make_on_message_function(this);\n",
       "\n",
       "    this.ondownload = ondownload;\n",
       "}\n",
       "\n",
       "mpl.figure.prototype._init_header = function() {\n",
       "    var titlebar = $(\n",
       "        '<div class=\"ui-dialog-titlebar ui-widget-header ui-corner-all ' +\n",
       "        'ui-helper-clearfix\"/>');\n",
       "    var titletext = $(\n",
       "        '<div class=\"ui-dialog-title\" style=\"width: 100%; ' +\n",
       "        'text-align: center; padding: 3px;\"/>');\n",
       "    titlebar.append(titletext)\n",
       "    this.root.append(titlebar);\n",
       "    this.header = titletext[0];\n",
       "}\n",
       "\n",
       "\n",
       "\n",
       "mpl.figure.prototype._canvas_extra_style = function(canvas_div) {\n",
       "\n",
       "}\n",
       "\n",
       "\n",
       "mpl.figure.prototype._root_extra_style = function(canvas_div) {\n",
       "\n",
       "}\n",
       "\n",
       "mpl.figure.prototype._init_canvas = function() {\n",
       "    var fig = this;\n",
       "\n",
       "    var canvas_div = $('<div/>');\n",
       "\n",
       "    canvas_div.attr('style', 'position: relative; clear: both; outline: 0');\n",
       "\n",
       "    function canvas_keyboard_event(event) {\n",
       "        return fig.key_event(event, event['data']);\n",
       "    }\n",
       "\n",
       "    canvas_div.keydown('key_press', canvas_keyboard_event);\n",
       "    canvas_div.keyup('key_release', canvas_keyboard_event);\n",
       "    this.canvas_div = canvas_div\n",
       "    this._canvas_extra_style(canvas_div)\n",
       "    this.root.append(canvas_div);\n",
       "\n",
       "    var canvas = $('<canvas/>');\n",
       "    canvas.addClass('mpl-canvas');\n",
       "    canvas.attr('style', \"left: 0; top: 0; z-index: 0; outline: 0\")\n",
       "\n",
       "    this.canvas = canvas[0];\n",
       "    this.context = canvas[0].getContext(\"2d\");\n",
       "\n",
       "    var backingStore = this.context.backingStorePixelRatio ||\n",
       "\tthis.context.webkitBackingStorePixelRatio ||\n",
       "\tthis.context.mozBackingStorePixelRatio ||\n",
       "\tthis.context.msBackingStorePixelRatio ||\n",
       "\tthis.context.oBackingStorePixelRatio ||\n",
       "\tthis.context.backingStorePixelRatio || 1;\n",
       "\n",
       "    mpl.ratio = (window.devicePixelRatio || 1) / backingStore;\n",
       "\n",
       "    var rubberband = $('<canvas/>');\n",
       "    rubberband.attr('style', \"position: absolute; left: 0; top: 0; z-index: 1;\")\n",
       "\n",
       "    var pass_mouse_events = true;\n",
       "\n",
       "    canvas_div.resizable({\n",
       "        start: function(event, ui) {\n",
       "            pass_mouse_events = false;\n",
       "        },\n",
       "        resize: function(event, ui) {\n",
       "            fig.request_resize(ui.size.width, ui.size.height);\n",
       "        },\n",
       "        stop: function(event, ui) {\n",
       "            pass_mouse_events = true;\n",
       "            fig.request_resize(ui.size.width, ui.size.height);\n",
       "        },\n",
       "    });\n",
       "\n",
       "    function mouse_event_fn(event) {\n",
       "        if (pass_mouse_events)\n",
       "            return fig.mouse_event(event, event['data']);\n",
       "    }\n",
       "\n",
       "    rubberband.mousedown('button_press', mouse_event_fn);\n",
       "    rubberband.mouseup('button_release', mouse_event_fn);\n",
       "    // Throttle sequential mouse events to 1 every 20ms.\n",
       "    rubberband.mousemove('motion_notify', mouse_event_fn);\n",
       "\n",
       "    rubberband.mouseenter('figure_enter', mouse_event_fn);\n",
       "    rubberband.mouseleave('figure_leave', mouse_event_fn);\n",
       "\n",
       "    canvas_div.on(\"wheel\", function (event) {\n",
       "        event = event.originalEvent;\n",
       "        event['data'] = 'scroll'\n",
       "        if (event.deltaY < 0) {\n",
       "            event.step = 1;\n",
       "        } else {\n",
       "            event.step = -1;\n",
       "        }\n",
       "        mouse_event_fn(event);\n",
       "    });\n",
       "\n",
       "    canvas_div.append(canvas);\n",
       "    canvas_div.append(rubberband);\n",
       "\n",
       "    this.rubberband = rubberband;\n",
       "    this.rubberband_canvas = rubberband[0];\n",
       "    this.rubberband_context = rubberband[0].getContext(\"2d\");\n",
       "    this.rubberband_context.strokeStyle = \"#000000\";\n",
       "\n",
       "    this._resize_canvas = function(width, height) {\n",
       "        // Keep the size of the canvas, canvas container, and rubber band\n",
       "        // canvas in synch.\n",
       "        canvas_div.css('width', width)\n",
       "        canvas_div.css('height', height)\n",
       "\n",
       "        canvas.attr('width', width * mpl.ratio);\n",
       "        canvas.attr('height', height * mpl.ratio);\n",
       "        canvas.attr('style', 'width: ' + width + 'px; height: ' + height + 'px;');\n",
       "\n",
       "        rubberband.attr('width', width);\n",
       "        rubberband.attr('height', height);\n",
       "    }\n",
       "\n",
       "    // Set the figure to an initial 600x600px, this will subsequently be updated\n",
       "    // upon first draw.\n",
       "    this._resize_canvas(600, 600);\n",
       "\n",
       "    // Disable right mouse context menu.\n",
       "    $(this.rubberband_canvas).bind(\"contextmenu\",function(e){\n",
       "        return false;\n",
       "    });\n",
       "\n",
       "    function set_focus () {\n",
       "        canvas.focus();\n",
       "        canvas_div.focus();\n",
       "    }\n",
       "\n",
       "    window.setTimeout(set_focus, 100);\n",
       "}\n",
       "\n",
       "mpl.figure.prototype._init_toolbar = function() {\n",
       "    var fig = this;\n",
       "\n",
       "    var nav_element = $('<div/>');\n",
       "    nav_element.attr('style', 'width: 100%');\n",
       "    this.root.append(nav_element);\n",
       "\n",
       "    // Define a callback function for later on.\n",
       "    function toolbar_event(event) {\n",
       "        return fig.toolbar_button_onclick(event['data']);\n",
       "    }\n",
       "    function toolbar_mouse_event(event) {\n",
       "        return fig.toolbar_button_onmouseover(event['data']);\n",
       "    }\n",
       "\n",
       "    for(var toolbar_ind in mpl.toolbar_items) {\n",
       "        var name = mpl.toolbar_items[toolbar_ind][0];\n",
       "        var tooltip = mpl.toolbar_items[toolbar_ind][1];\n",
       "        var image = mpl.toolbar_items[toolbar_ind][2];\n",
       "        var method_name = mpl.toolbar_items[toolbar_ind][3];\n",
       "\n",
       "        if (!name) {\n",
       "            // put a spacer in here.\n",
       "            continue;\n",
       "        }\n",
       "        var button = $('<button/>');\n",
       "        button.addClass('ui-button ui-widget ui-state-default ui-corner-all ' +\n",
       "                        'ui-button-icon-only');\n",
       "        button.attr('role', 'button');\n",
       "        button.attr('aria-disabled', 'false');\n",
       "        button.click(method_name, toolbar_event);\n",
       "        button.mouseover(tooltip, toolbar_mouse_event);\n",
       "\n",
       "        var icon_img = $('<span/>');\n",
       "        icon_img.addClass('ui-button-icon-primary ui-icon');\n",
       "        icon_img.addClass(image);\n",
       "        icon_img.addClass('ui-corner-all');\n",
       "\n",
       "        var tooltip_span = $('<span/>');\n",
       "        tooltip_span.addClass('ui-button-text');\n",
       "        tooltip_span.html(tooltip);\n",
       "\n",
       "        button.append(icon_img);\n",
       "        button.append(tooltip_span);\n",
       "\n",
       "        nav_element.append(button);\n",
       "    }\n",
       "\n",
       "    var fmt_picker_span = $('<span/>');\n",
       "\n",
       "    var fmt_picker = $('<select/>');\n",
       "    fmt_picker.addClass('mpl-toolbar-option ui-widget ui-widget-content');\n",
       "    fmt_picker_span.append(fmt_picker);\n",
       "    nav_element.append(fmt_picker_span);\n",
       "    this.format_dropdown = fmt_picker[0];\n",
       "\n",
       "    for (var ind in mpl.extensions) {\n",
       "        var fmt = mpl.extensions[ind];\n",
       "        var option = $(\n",
       "            '<option/>', {selected: fmt === mpl.default_extension}).html(fmt);\n",
       "        fmt_picker.append(option);\n",
       "    }\n",
       "\n",
       "    // Add hover states to the ui-buttons\n",
       "    $( \".ui-button\" ).hover(\n",
       "        function() { $(this).addClass(\"ui-state-hover\");},\n",
       "        function() { $(this).removeClass(\"ui-state-hover\");}\n",
       "    );\n",
       "\n",
       "    var status_bar = $('<span class=\"mpl-message\"/>');\n",
       "    nav_element.append(status_bar);\n",
       "    this.message = status_bar[0];\n",
       "}\n",
       "\n",
       "mpl.figure.prototype.request_resize = function(x_pixels, y_pixels) {\n",
       "    // Request matplotlib to resize the figure. Matplotlib will then trigger a resize in the client,\n",
       "    // which will in turn request a refresh of the image.\n",
       "    this.send_message('resize', {'width': x_pixels, 'height': y_pixels});\n",
       "}\n",
       "\n",
       "mpl.figure.prototype.send_message = function(type, properties) {\n",
       "    properties['type'] = type;\n",
       "    properties['figure_id'] = this.id;\n",
       "    this.ws.send(JSON.stringify(properties));\n",
       "}\n",
       "\n",
       "mpl.figure.prototype.send_draw_message = function() {\n",
       "    if (!this.waiting) {\n",
       "        this.waiting = true;\n",
       "        this.ws.send(JSON.stringify({type: \"draw\", figure_id: this.id}));\n",
       "    }\n",
       "}\n",
       "\n",
       "\n",
       "mpl.figure.prototype.handle_save = function(fig, msg) {\n",
       "    var format_dropdown = fig.format_dropdown;\n",
       "    var format = format_dropdown.options[format_dropdown.selectedIndex].value;\n",
       "    fig.ondownload(fig, format);\n",
       "}\n",
       "\n",
       "\n",
       "mpl.figure.prototype.handle_resize = function(fig, msg) {\n",
       "    var size = msg['size'];\n",
       "    if (size[0] != fig.canvas.width || size[1] != fig.canvas.height) {\n",
       "        fig._resize_canvas(size[0], size[1]);\n",
       "        fig.send_message(\"refresh\", {});\n",
       "    };\n",
       "}\n",
       "\n",
       "mpl.figure.prototype.handle_rubberband = function(fig, msg) {\n",
       "    var x0 = msg['x0'] / mpl.ratio;\n",
       "    var y0 = (fig.canvas.height - msg['y0']) / mpl.ratio;\n",
       "    var x1 = msg['x1'] / mpl.ratio;\n",
       "    var y1 = (fig.canvas.height - msg['y1']) / mpl.ratio;\n",
       "    x0 = Math.floor(x0) + 0.5;\n",
       "    y0 = Math.floor(y0) + 0.5;\n",
       "    x1 = Math.floor(x1) + 0.5;\n",
       "    y1 = Math.floor(y1) + 0.5;\n",
       "    var min_x = Math.min(x0, x1);\n",
       "    var min_y = Math.min(y0, y1);\n",
       "    var width = Math.abs(x1 - x0);\n",
       "    var height = Math.abs(y1 - y0);\n",
       "\n",
       "    fig.rubberband_context.clearRect(\n",
       "        0, 0, fig.canvas.width / mpl.ratio, fig.canvas.height / mpl.ratio);\n",
       "\n",
       "    fig.rubberband_context.strokeRect(min_x, min_y, width, height);\n",
       "}\n",
       "\n",
       "mpl.figure.prototype.handle_figure_label = function(fig, msg) {\n",
       "    // Updates the figure title.\n",
       "    fig.header.textContent = msg['label'];\n",
       "}\n",
       "\n",
       "mpl.figure.prototype.handle_cursor = function(fig, msg) {\n",
       "    var cursor = msg['cursor'];\n",
       "    switch(cursor)\n",
       "    {\n",
       "    case 0:\n",
       "        cursor = 'pointer';\n",
       "        break;\n",
       "    case 1:\n",
       "        cursor = 'default';\n",
       "        break;\n",
       "    case 2:\n",
       "        cursor = 'crosshair';\n",
       "        break;\n",
       "    case 3:\n",
       "        cursor = 'move';\n",
       "        break;\n",
       "    }\n",
       "    fig.rubberband_canvas.style.cursor = cursor;\n",
       "}\n",
       "\n",
       "mpl.figure.prototype.handle_message = function(fig, msg) {\n",
       "    fig.message.textContent = msg['message'];\n",
       "}\n",
       "\n",
       "mpl.figure.prototype.handle_draw = function(fig, msg) {\n",
       "    // Request the server to send over a new figure.\n",
       "    fig.send_draw_message();\n",
       "}\n",
       "\n",
       "mpl.figure.prototype.handle_image_mode = function(fig, msg) {\n",
       "    fig.image_mode = msg['mode'];\n",
       "}\n",
       "\n",
       "mpl.figure.prototype.updated_canvas_event = function() {\n",
       "    // Called whenever the canvas gets updated.\n",
       "    this.send_message(\"ack\", {});\n",
       "}\n",
       "\n",
       "// A function to construct a web socket function for onmessage handling.\n",
       "// Called in the figure constructor.\n",
       "mpl.figure.prototype._make_on_message_function = function(fig) {\n",
       "    return function socket_on_message(evt) {\n",
       "        if (evt.data instanceof Blob) {\n",
       "            /* FIXME: We get \"Resource interpreted as Image but\n",
       "             * transferred with MIME type text/plain:\" errors on\n",
       "             * Chrome.  But how to set the MIME type?  It doesn't seem\n",
       "             * to be part of the websocket stream */\n",
       "            evt.data.type = \"image/png\";\n",
       "\n",
       "            /* Free the memory for the previous frames */\n",
       "            if (fig.imageObj.src) {\n",
       "                (window.URL || window.webkitURL).revokeObjectURL(\n",
       "                    fig.imageObj.src);\n",
       "            }\n",
       "\n",
       "            fig.imageObj.src = (window.URL || window.webkitURL).createObjectURL(\n",
       "                evt.data);\n",
       "            fig.updated_canvas_event();\n",
       "            fig.waiting = false;\n",
       "            return;\n",
       "        }\n",
       "        else if (typeof evt.data === 'string' && evt.data.slice(0, 21) == \"data:image/png;base64\") {\n",
       "            fig.imageObj.src = evt.data;\n",
       "            fig.updated_canvas_event();\n",
       "            fig.waiting = false;\n",
       "            return;\n",
       "        }\n",
       "\n",
       "        var msg = JSON.parse(evt.data);\n",
       "        var msg_type = msg['type'];\n",
       "\n",
       "        // Call the  \"handle_{type}\" callback, which takes\n",
       "        // the figure and JSON message as its only arguments.\n",
       "        try {\n",
       "            var callback = fig[\"handle_\" + msg_type];\n",
       "        } catch (e) {\n",
       "            console.log(\"No handler for the '\" + msg_type + \"' message type: \", msg);\n",
       "            return;\n",
       "        }\n",
       "\n",
       "        if (callback) {\n",
       "            try {\n",
       "                // console.log(\"Handling '\" + msg_type + \"' message: \", msg);\n",
       "                callback(fig, msg);\n",
       "            } catch (e) {\n",
       "                console.log(\"Exception inside the 'handler_\" + msg_type + \"' callback:\", e, e.stack, msg);\n",
       "            }\n",
       "        }\n",
       "    };\n",
       "}\n",
       "\n",
       "// from http://stackoverflow.com/questions/1114465/getting-mouse-location-in-canvas\n",
       "mpl.findpos = function(e) {\n",
       "    //this section is from http://www.quirksmode.org/js/events_properties.html\n",
       "    var targ;\n",
       "    if (!e)\n",
       "        e = window.event;\n",
       "    if (e.target)\n",
       "        targ = e.target;\n",
       "    else if (e.srcElement)\n",
       "        targ = e.srcElement;\n",
       "    if (targ.nodeType == 3) // defeat Safari bug\n",
       "        targ = targ.parentNode;\n",
       "\n",
       "    // jQuery normalizes the pageX and pageY\n",
       "    // pageX,Y are the mouse positions relative to the document\n",
       "    // offset() returns the position of the element relative to the document\n",
       "    var x = e.pageX - $(targ).offset().left;\n",
       "    var y = e.pageY - $(targ).offset().top;\n",
       "\n",
       "    return {\"x\": x, \"y\": y};\n",
       "};\n",
       "\n",
       "/*\n",
       " * return a copy of an object with only non-object keys\n",
       " * we need this to avoid circular references\n",
       " * http://stackoverflow.com/a/24161582/3208463\n",
       " */\n",
       "function simpleKeys (original) {\n",
       "  return Object.keys(original).reduce(function (obj, key) {\n",
       "    if (typeof original[key] !== 'object')\n",
       "        obj[key] = original[key]\n",
       "    return obj;\n",
       "  }, {});\n",
       "}\n",
       "\n",
       "mpl.figure.prototype.mouse_event = function(event, name) {\n",
       "    var canvas_pos = mpl.findpos(event)\n",
       "\n",
       "    if (name === 'button_press')\n",
       "    {\n",
       "        this.canvas.focus();\n",
       "        this.canvas_div.focus();\n",
       "    }\n",
       "\n",
       "    var x = canvas_pos.x * mpl.ratio;\n",
       "    var y = canvas_pos.y * mpl.ratio;\n",
       "\n",
       "    this.send_message(name, {x: x, y: y, button: event.button,\n",
       "                             step: event.step,\n",
       "                             guiEvent: simpleKeys(event)});\n",
       "\n",
       "    /* This prevents the web browser from automatically changing to\n",
       "     * the text insertion cursor when the button is pressed.  We want\n",
       "     * to control all of the cursor setting manually through the\n",
       "     * 'cursor' event from matplotlib */\n",
       "    event.preventDefault();\n",
       "    return false;\n",
       "}\n",
       "\n",
       "mpl.figure.prototype._key_event_extra = function(event, name) {\n",
       "    // Handle any extra behaviour associated with a key event\n",
       "}\n",
       "\n",
       "mpl.figure.prototype.key_event = function(event, name) {\n",
       "\n",
       "    // Prevent repeat events\n",
       "    if (name == 'key_press')\n",
       "    {\n",
       "        if (event.which === this._key)\n",
       "            return;\n",
       "        else\n",
       "            this._key = event.which;\n",
       "    }\n",
       "    if (name == 'key_release')\n",
       "        this._key = null;\n",
       "\n",
       "    var value = '';\n",
       "    if (event.ctrlKey && event.which != 17)\n",
       "        value += \"ctrl+\";\n",
       "    if (event.altKey && event.which != 18)\n",
       "        value += \"alt+\";\n",
       "    if (event.shiftKey && event.which != 16)\n",
       "        value += \"shift+\";\n",
       "\n",
       "    value += 'k';\n",
       "    value += event.which.toString();\n",
       "\n",
       "    this._key_event_extra(event, name);\n",
       "\n",
       "    this.send_message(name, {key: value,\n",
       "                             guiEvent: simpleKeys(event)});\n",
       "    return false;\n",
       "}\n",
       "\n",
       "mpl.figure.prototype.toolbar_button_onclick = function(name) {\n",
       "    if (name == 'download') {\n",
       "        this.handle_save(this, null);\n",
       "    } else {\n",
       "        this.send_message(\"toolbar_button\", {name: name});\n",
       "    }\n",
       "};\n",
       "\n",
       "mpl.figure.prototype.toolbar_button_onmouseover = function(tooltip) {\n",
       "    this.message.textContent = tooltip;\n",
       "};\n",
       "mpl.toolbar_items = [[\"Home\", \"Reset original view\", \"fa fa-home icon-home\", \"home\"], [\"Back\", \"Back to previous view\", \"fa fa-arrow-left icon-arrow-left\", \"back\"], [\"Forward\", \"Forward to next view\", \"fa fa-arrow-right icon-arrow-right\", \"forward\"], [\"\", \"\", \"\", \"\"], [\"Pan\", \"Pan axes with left mouse, zoom with right\", \"fa fa-arrows icon-move\", \"pan\"], [\"Zoom\", \"Zoom to rectangle\", \"fa fa-square-o icon-check-empty\", \"zoom\"], [\"\", \"\", \"\", \"\"], [\"Download\", \"Download plot\", \"fa fa-floppy-o icon-save\", \"download\"]];\n",
       "\n",
       "mpl.extensions = [\"eps\", \"pdf\", \"png\", \"ps\", \"raw\", \"svg\"];\n",
       "\n",
       "mpl.default_extension = \"png\";var comm_websocket_adapter = function(comm) {\n",
       "    // Create a \"websocket\"-like object which calls the given IPython comm\n",
       "    // object with the appropriate methods. Currently this is a non binary\n",
       "    // socket, so there is still some room for performance tuning.\n",
       "    var ws = {};\n",
       "\n",
       "    ws.close = function() {\n",
       "        comm.close()\n",
       "    };\n",
       "    ws.send = function(m) {\n",
       "        //console.log('sending', m);\n",
       "        comm.send(m);\n",
       "    };\n",
       "    // Register the callback with on_msg.\n",
       "    comm.on_msg(function(msg) {\n",
       "        //console.log('receiving', msg['content']['data'], msg);\n",
       "        // Pass the mpl event to the overridden (by mpl) onmessage function.\n",
       "        ws.onmessage(msg['content']['data'])\n",
       "    });\n",
       "    return ws;\n",
       "}\n",
       "\n",
       "mpl.mpl_figure_comm = function(comm, msg) {\n",
       "    // This is the function which gets called when the mpl process\n",
       "    // starts-up an IPython Comm through the \"matplotlib\" channel.\n",
       "\n",
       "    var id = msg.content.data.id;\n",
       "    // Get hold of the div created by the display call when the Comm\n",
       "    // socket was opened in Python.\n",
       "    var element = $(\"#\" + id);\n",
       "    var ws_proxy = comm_websocket_adapter(comm)\n",
       "\n",
       "    function ondownload(figure, format) {\n",
       "        window.open(figure.imageObj.src);\n",
       "    }\n",
       "\n",
       "    var fig = new mpl.figure(id, ws_proxy,\n",
       "                           ondownload,\n",
       "                           element.get(0));\n",
       "\n",
       "    // Call onopen now - mpl needs it, as it is assuming we've passed it a real\n",
       "    // web socket which is closed, not our websocket->open comm proxy.\n",
       "    ws_proxy.onopen();\n",
       "\n",
       "    fig.parent_element = element.get(0);\n",
       "    fig.cell_info = mpl.find_output_cell(\"<div id='\" + id + \"'></div>\");\n",
       "    if (!fig.cell_info) {\n",
       "        console.error(\"Failed to find cell for figure\", id, fig);\n",
       "        return;\n",
       "    }\n",
       "\n",
       "    var output_index = fig.cell_info[2]\n",
       "    var cell = fig.cell_info[0];\n",
       "\n",
       "};\n",
       "\n",
       "mpl.figure.prototype.handle_close = function(fig, msg) {\n",
       "    var width = fig.canvas.width/mpl.ratio\n",
       "    fig.root.unbind('remove')\n",
       "\n",
       "    // Update the output cell to use the data from the current canvas.\n",
       "    fig.push_to_output();\n",
       "    var dataURL = fig.canvas.toDataURL();\n",
       "    // Re-enable the keyboard manager in IPython - without this line, in FF,\n",
       "    // the notebook keyboard shortcuts fail.\n",
       "    IPython.keyboard_manager.enable()\n",
       "    $(fig.parent_element).html('<img src=\"' + dataURL + '\" width=\"' + width + '\">');\n",
       "    fig.close_ws(fig, msg);\n",
       "}\n",
       "\n",
       "mpl.figure.prototype.close_ws = function(fig, msg){\n",
       "    fig.send_message('closing', msg);\n",
       "    // fig.ws.close()\n",
       "}\n",
       "\n",
       "mpl.figure.prototype.push_to_output = function(remove_interactive) {\n",
       "    // Turn the data on the canvas into data in the output cell.\n",
       "    var width = this.canvas.width/mpl.ratio\n",
       "    var dataURL = this.canvas.toDataURL();\n",
       "    this.cell_info[1]['text/html'] = '<img src=\"' + dataURL + '\" width=\"' + width + '\">';\n",
       "}\n",
       "\n",
       "mpl.figure.prototype.updated_canvas_event = function() {\n",
       "    // Tell IPython that the notebook contents must change.\n",
       "    IPython.notebook.set_dirty(true);\n",
       "    this.send_message(\"ack\", {});\n",
       "    var fig = this;\n",
       "    // Wait a second, then push the new image to the DOM so\n",
       "    // that it is saved nicely (might be nice to debounce this).\n",
       "    setTimeout(function () { fig.push_to_output() }, 1000);\n",
       "}\n",
       "\n",
       "mpl.figure.prototype._init_toolbar = function() {\n",
       "    var fig = this;\n",
       "\n",
       "    var nav_element = $('<div/>');\n",
       "    nav_element.attr('style', 'width: 100%');\n",
       "    this.root.append(nav_element);\n",
       "\n",
       "    // Define a callback function for later on.\n",
       "    function toolbar_event(event) {\n",
       "        return fig.toolbar_button_onclick(event['data']);\n",
       "    }\n",
       "    function toolbar_mouse_event(event) {\n",
       "        return fig.toolbar_button_onmouseover(event['data']);\n",
       "    }\n",
       "\n",
       "    for(var toolbar_ind in mpl.toolbar_items){\n",
       "        var name = mpl.toolbar_items[toolbar_ind][0];\n",
       "        var tooltip = mpl.toolbar_items[toolbar_ind][1];\n",
       "        var image = mpl.toolbar_items[toolbar_ind][2];\n",
       "        var method_name = mpl.toolbar_items[toolbar_ind][3];\n",
       "\n",
       "        if (!name) { continue; };\n",
       "\n",
       "        var button = $('<button class=\"btn btn-default\" href=\"#\" title=\"' + name + '\"><i class=\"fa ' + image + ' fa-lg\"></i></button>');\n",
       "        button.click(method_name, toolbar_event);\n",
       "        button.mouseover(tooltip, toolbar_mouse_event);\n",
       "        nav_element.append(button);\n",
       "    }\n",
       "\n",
       "    // Add the status bar.\n",
       "    var status_bar = $('<span class=\"mpl-message\" style=\"text-align:right; float: right;\"/>');\n",
       "    nav_element.append(status_bar);\n",
       "    this.message = status_bar[0];\n",
       "\n",
       "    // Add the close button to the window.\n",
       "    var buttongrp = $('<div class=\"btn-group inline pull-right\"></div>');\n",
       "    var button = $('<button class=\"btn btn-mini btn-primary\" href=\"#\" title=\"Stop Interaction\"><i class=\"fa fa-power-off icon-remove icon-large\"></i></button>');\n",
       "    button.click(function (evt) { fig.handle_close(fig, {}); } );\n",
       "    button.mouseover('Stop Interaction', toolbar_mouse_event);\n",
       "    buttongrp.append(button);\n",
       "    var titlebar = this.root.find($('.ui-dialog-titlebar'));\n",
       "    titlebar.prepend(buttongrp);\n",
       "}\n",
       "\n",
       "mpl.figure.prototype._root_extra_style = function(el){\n",
       "    var fig = this\n",
       "    el.on(\"remove\", function(){\n",
       "\tfig.close_ws(fig, {});\n",
       "    });\n",
       "}\n",
       "\n",
       "mpl.figure.prototype._canvas_extra_style = function(el){\n",
       "    // this is important to make the div 'focusable\n",
       "    el.attr('tabindex', 0)\n",
       "    // reach out to IPython and tell the keyboard manager to turn it's self\n",
       "    // off when our div gets focus\n",
       "\n",
       "    // location in version 3\n",
       "    if (IPython.notebook.keyboard_manager) {\n",
       "        IPython.notebook.keyboard_manager.register_events(el);\n",
       "    }\n",
       "    else {\n",
       "        // location in version 2\n",
       "        IPython.keyboard_manager.register_events(el);\n",
       "    }\n",
       "\n",
       "}\n",
       "\n",
       "mpl.figure.prototype._key_event_extra = function(event, name) {\n",
       "    var manager = IPython.notebook.keyboard_manager;\n",
       "    if (!manager)\n",
       "        manager = IPython.keyboard_manager;\n",
       "\n",
       "    // Check for shift+enter\n",
       "    if (event.shiftKey && event.which == 13) {\n",
       "        this.canvas_div.blur();\n",
       "        event.shiftKey = false;\n",
       "        // Send a \"J\" for go to next cell\n",
       "        event.which = 74;\n",
       "        event.keyCode = 74;\n",
       "        manager.command_mode();\n",
       "        manager.handle_keydown(event);\n",
       "    }\n",
       "}\n",
       "\n",
       "mpl.figure.prototype.handle_save = function(fig, msg) {\n",
       "    fig.ondownload(fig, null);\n",
       "}\n",
       "\n",
       "\n",
       "mpl.find_output_cell = function(html_output) {\n",
       "    // Return the cell and output element which can be found *uniquely* in the notebook.\n",
       "    // Note - this is a bit hacky, but it is done because the \"notebook_saving.Notebook\"\n",
       "    // IPython event is triggered only after the cells have been serialised, which for\n",
       "    // our purposes (turning an active figure into a static one), is too late.\n",
       "    var cells = IPython.notebook.get_cells();\n",
       "    var ncells = cells.length;\n",
       "    for (var i=0; i<ncells; i++) {\n",
       "        var cell = cells[i];\n",
       "        if (cell.cell_type === 'code'){\n",
       "            for (var j=0; j<cell.output_area.outputs.length; j++) {\n",
       "                var data = cell.output_area.outputs[j];\n",
       "                if (data.data) {\n",
       "                    // IPython >= 3 moved mimebundle to data attribute of output\n",
       "                    data = data.data;\n",
       "                }\n",
       "                if (data['text/html'] == html_output) {\n",
       "                    return [cell, data, j];\n",
       "                }\n",
       "            }\n",
       "        }\n",
       "    }\n",
       "}\n",
       "\n",
       "// Register the function which deals with the matplotlib target/channel.\n",
       "// The kernel may be null if the page has been refreshed.\n",
       "if (IPython.notebook.kernel != null) {\n",
       "    IPython.notebook.kernel.comm_manager.register_target('matplotlib', mpl.mpl_figure_comm);\n",
       "}\n"
      ],
      "text/plain": [
       "<IPython.core.display.Javascript object>"
      ]
     },
     "metadata": {},
     "output_type": "display_data"
    },
    {
     "data": {
      "text/html": [
       "<img src=\"data:image/png;base64,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\" width=\"639.2593044181615\">"
      ],
      "text/plain": [
       "<IPython.core.display.HTML object>"
      ]
     },
     "metadata": {},
     "output_type": "display_data"
    }
   ],
   "source": [
    "# visualize prediction \n",
    "\n",
    "vis_idx = 1\n",
    "pred = model.predict(X_val[vis_idx])\n",
    "vis(X_val[vis_idx].reshape(-1, 28), pred[0])\n"
   ]
  },
  {
   "cell_type": "markdown",
   "metadata": {},
   "source": [
    "# TODO:\n",
    "1) Add computational graph instead of list, model saving/loading, more optimizers, shedulers loss functions, operations, gpu support, utility tools ...\n",
    "\n",
    "... Or simply use Pytorch/TF/whatever"
   ]
  },
  {
   "cell_type": "code",
   "execution_count": null,
   "metadata": {
    "collapsed": true
   },
   "outputs": [],
   "source": []
  }
 ],
 "metadata": {
  "kernelspec": {
   "display_name": "Python 3",
   "language": "python",
   "name": "python3"
  },
  "language_info": {
   "codemirror_mode": {
    "name": "ipython",
    "version": 3
   },
   "file_extension": ".py",
   "mimetype": "text/x-python",
   "name": "python",
   "nbconvert_exporter": "python",
   "pygments_lexer": "ipython3",
   "version": "3.7.4"
  }
 },
 "nbformat": 4,
 "nbformat_minor": 2
}
