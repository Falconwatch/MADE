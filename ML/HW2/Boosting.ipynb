{
 "cells": [
  {
   "cell_type": "markdown",
   "metadata": {},
   "source": [
    "# Чтение данных"
   ]
  },
  {
   "cell_type": "code",
   "execution_count": 1,
   "metadata": {
    "collapsed": true
   },
   "outputs": [],
   "source": [
    "import matplotlib.pyplot as plt\n",
    "import numpy as np"
   ]
  },
  {
   "cell_type": "code",
   "execution_count": 2,
   "metadata": {},
   "outputs": [
    {
     "name": "stderr",
     "output_type": "stream",
     "text": [
      "C:\\Users\\shcherbakov2-ia\\AppData\\Local\\Continuum\\Anaconda3\\lib\\site-packages\\pandas\\compat\\_optional.py:106: UserWarning: Pandas requires version '1.2.1' or newer of 'bottleneck' (version '1.2.0' currently installed).\n",
      "  warnings.warn(msg, UserWarning)\n"
     ]
    }
   ],
   "source": [
    "import pandas as pd\n",
    "\n",
    "train = pd.read_csv(\"data/train.tsv.zip\")\n",
    "test = pd.read_csv(\"data/test.tsv\")\n",
    "sample_submission = pd.read_csv(\"data/sample_submission.tsv\")"
   ]
  },
  {
   "cell_type": "code",
   "execution_count": 3,
   "metadata": {},
   "outputs": [
    {
     "data": {
      "text/plain": [
       "(74473, 67)"
      ]
     },
     "execution_count": 3,
     "metadata": {},
     "output_type": "execute_result"
    }
   ],
   "source": [
    "train['is_train']=1\n",
    "test['is_train']=0\n",
    "full_data = pd.concat([train.reset_index(),test.reset_index()], axis=0, sort=False).drop(['index'], axis=1)\n",
    "full_data.rename({'y':'y_orig'}, axis=1, inplace=True)\n",
    "full_data.shape"
   ]
  },
  {
   "cell_type": "code",
   "execution_count": 4,
   "metadata": {},
   "outputs": [],
   "source": [
    "full_data['y'] = np.log(full_data['y_orig'])"
   ]
  },
  {
   "cell_type": "code",
   "execution_count": 5,
   "metadata": {},
   "outputs": [
    {
     "data": {
      "image/png": "[encoded data removed]",
      "text/plain": [
       "<matplotlib.figure.Figure at 0x16cc5208>"
      ]
     },
     "metadata": {},
     "output_type": "display_data"
    }
   ],
   "source": [
    "full_data['y'].hist()\n",
    "plt.show()"
   ]
  },
  {
   "cell_type": "markdown",
   "metadata": {},
   "source": [
    "# Генерация фичей"
   ]
  },
  {
   "cell_type": "markdown",
   "metadata": {},
   "source": [
    "# Разбиение на подвыборки"
   ]
  },
  {
   "cell_type": "code",
   "execution_count": 6,
   "metadata": {
    "collapsed": true
   },
   "outputs": [],
   "source": [
    "dev = full_data.loc[(full_data['Num']<=250000) & (full_data['is_train']==1)]\n",
    "valid = full_data.loc[(full_data['Num']>250000) & (full_data['is_train']==1)]"
   ]
  },
  {
   "cell_type": "code",
   "execution_count": 7,
   "metadata": {},
   "outputs": [],
   "source": [
    "dev_y = dev[['y', 'y_orig']]\n",
    "dev_X = dev.drop(['y', 'is_train', 'y_orig' ],axis=1)\n",
    "\n",
    "valid_y = valid[['y', 'y_orig']]\n",
    "valid_X = valid.drop(['y', 'is_train', 'y_orig'],axis=1)"
   ]
  },
  {
   "cell_type": "code",
   "execution_count": 9,
   "metadata": {},
   "outputs": [],
   "source": [
    "full_train_X = full_data.loc[(full_data['is_train']==1)].drop(['y', 'is_train', 'y_orig'], axis=1)\n",
    "full_train_y = full_data.loc[(full_data['is_train']==1)][['y', 'y_orig']]"
   ]
  },
  {
   "cell_type": "code",
   "execution_count": 10,
   "metadata": {
    "collapsed": true
   },
   "outputs": [],
   "source": [
    "test_X = full_data.loc[full_data['is_train']==0].drop(['y', 'is_train', 'y_orig'], axis=1)"
   ]
  },
  {
   "cell_type": "markdown",
   "metadata": {},
   "source": [
    "# Построение модели"
   ]
  },
  {
   "cell_type": "code",
   "execution_count": 11,
   "metadata": {
    "collapsed": true
   },
   "outputs": [],
   "source": [
    "import lightgbm as lgbm\n",
    "import numpy as np\n",
    "from sklearn.metrics import mean_absolute_error"
   ]
  },
  {
   "cell_type": "code",
   "execution_count": 12,
   "metadata": {
    "collapsed": true
   },
   "outputs": [],
   "source": [
    "def smape(f,a):\n",
    "    top = np.fabs(f-a)\n",
    "    bot = (np.fabs(f) + np.fabs(a))/2\n",
    "    return 100/len(a) * np.sum(top/bot)\n",
    "\n",
    "def smape_scorer(estimator, X,y):\n",
    "    y_predicted = estimator.predict(X)\n",
    "    return smape(y_predicted, y)"
   ]
  },
  {
   "cell_type": "code",
   "execution_count": 24,
   "metadata": {},
   "outputs": [
    {
     "data": {
      "text/plain": [
       "[[[27], 27.632528970857898, 30.054037117864937],\n",
       " [[29], 26.458484607116183, 29.128802556516018],\n",
       " [[30], 25.942772522287367, 28.780309920556398]]"
      ]
     },
     "execution_count": 24,
     "metadata": {},
     "output_type": "execute_result"
    }
   ],
   "source": [
    "n_estimators_row = [27, 29, 30]\n",
    "results=list()\n",
    "\n",
    "for n_estimators_ in n_estimators_row:\n",
    "    reg = lgbm.LGBMRegressor(n_estimators=n_estimators_)\n",
    "    reg.fit(dev_X, dev_y['y'])\n",
    "    \n",
    "    dev_predicted = np.exp(reg.predict(dev_X))\n",
    "    dev_smape = smape(dev_predicted, dev_y['y_orig'])\n",
    "    \n",
    "    valid_predicted = np.exp(reg.predict(valid_X))\n",
    "    valid_smape = smape(valid_predicted, valid_y['y_orig'])\n",
    "    \n",
    "    results.append([[n_estimators_], dev_smape, valid_smape])\n",
    "    \n",
    "results"
   ]
  },
  {
   "cell_type": "code",
   "execution_count": 27,
   "metadata": {},
   "outputs": [
    {
     "data": {
      "text/plain": [
       "array([ 93490.9187652 ,  52824.95241408,  82951.4848213 , ...,\n",
       "       144110.315623  ,  17127.11557197,   1765.27928138])"
      ]
     },
     "execution_count": 27,
     "metadata": {},
     "output_type": "execute_result"
    }
   ],
   "source": [
    "dev_predicted"
   ]
  },
  {
   "cell_type": "code",
   "execution_count": 30,
   "metadata": {},
   "outputs": [],
   "source": [
    "reg = lgbm.LGBMRegressor(n_estimators=30)\n",
    "reg.fit(full_train_X, full_train_y['y'])\n",
    "full_train_predicted=reg.predict(full_train_X)"
   ]
  },
  {
   "cell_type": "markdown",
   "metadata": {},
   "source": [
    "# Test"
   ]
  },
  {
   "cell_type": "code",
   "execution_count": 31,
   "metadata": {},
   "outputs": [],
   "source": [
    "test_predicted=reg.predict(test_X)"
   ]
  },
  {
   "cell_type": "code",
   "execution_count": 33,
   "metadata": {},
   "outputs": [
    {
     "data": {
      "text/plain": [
       "array([  1815.05047868,  29474.00080721, 314443.32714647, ...,\n",
       "        19924.08851303,    361.19987703,   6055.05009671])"
      ]
     },
     "execution_count": 33,
     "metadata": {},
     "output_type": "execute_result"
    }
   ],
   "source": [
    "np.exp(test_predicted)"
   ]
  },
  {
   "cell_type": "code",
   "execution_count": 37,
   "metadata": {
    "collapsed": true
   },
   "outputs": [],
   "source": [
    "full_test = test_X.copy()\n",
    "full_test['y'] = np.exp(test_predicted)"
   ]
  },
  {
   "cell_type": "code",
   "execution_count": 44,
   "metadata": {},
   "outputs": [],
   "source": [
    "mean_prediction = full_test[['year', 'week', 'y', 'item_id']].groupby(['year', 'week', 'item_id'], as_index=False).agg({'y':'mean'})"
   ]
  },
  {
   "cell_type": "code",
   "execution_count": 45,
   "metadata": {
    "collapsed": true
   },
   "outputs": [],
   "source": [
    "test_boosting= pd.merge(left=test[['Num', 'year', 'week', 'item_id']], right=mean_prediction, how='left')"
   ]
  },
  {
   "cell_type": "code",
   "execution_count": 59,
   "metadata": {
    "collapsed": true
   },
   "outputs": [],
   "source": [
    "test_boosting['y_boosted'] = full_test['y']"
   ]
  },
  {
   "cell_type": "code",
   "execution_count": 58,
   "metadata": {},
   "outputs": [
    {
     "data": {
      "text/plain": [
       "0      1815.050479\n",
       "226    1303.570149\n",
       "678    1822.248028\n",
       "Name: y, dtype: float64"
      ]
     },
     "execution_count": 58,
     "metadata": {},
     "output_type": "execute_result"
    }
   ],
   "source": [
    "full_test.loc[(full_test['item_id']==20447918) & (full_test['year']==2015) & (full_test['week']==3), 'y']"
   ]
  },
  {
   "cell_type": "code",
   "execution_count": 60,
   "metadata": {},
   "outputs": [
    {
     "data": {
      "text/html": [
       "<div>\n",
       "<style scoped>\n",
       "    .dataframe tbody tr th:only-of-type {\n",
       "        vertical-align: middle;\n",
       "    }\n",
       "\n",
       "    .dataframe tbody tr th {\n",
       "        vertical-align: top;\n",
       "    }\n",
       "\n",
       "    .dataframe thead th {\n",
       "        text-align: right;\n",
       "    }\n",
       "</style>\n",
       "<table border=\"1\" class=\"dataframe\">\n",
       "  <thead>\n",
       "    <tr style=\"text-align: right;\">\n",
       "      <th></th>\n",
       "      <th>Num</th>\n",
       "      <th>year</th>\n",
       "      <th>week</th>\n",
       "      <th>item_id</th>\n",
       "      <th>y</th>\n",
       "      <th>y_boosted</th>\n",
       "    </tr>\n",
       "  </thead>\n",
       "  <tbody>\n",
       "    <tr>\n",
       "      <td>0</td>\n",
       "      <td>348622</td>\n",
       "      <td>2015</td>\n",
       "      <td>3</td>\n",
       "      <td>20447918</td>\n",
       "      <td>1646.956219</td>\n",
       "      <td>1815.050479</td>\n",
       "    </tr>\n",
       "    <tr>\n",
       "      <td>226</td>\n",
       "      <td>349519</td>\n",
       "      <td>2015</td>\n",
       "      <td>3</td>\n",
       "      <td>20447918</td>\n",
       "      <td>1646.956219</td>\n",
       "      <td>1303.570149</td>\n",
       "    </tr>\n",
       "    <tr>\n",
       "      <td>678</td>\n",
       "      <td>350191</td>\n",
       "      <td>2015</td>\n",
       "      <td>3</td>\n",
       "      <td>20447918</td>\n",
       "      <td>1646.956219</td>\n",
       "      <td>1822.248028</td>\n",
       "    </tr>\n",
       "  </tbody>\n",
       "</table>\n",
       "</div>"
      ],
      "text/plain": [
       "        Num  year  week   item_id            y    y_boosted\n",
       "0    348622  2015     3  20447918  1646.956219  1815.050479\n",
       "226  349519  2015     3  20447918  1646.956219  1303.570149\n",
       "678  350191  2015     3  20447918  1646.956219  1822.248028"
      ]
     },
     "execution_count": 60,
     "metadata": {},
     "output_type": "execute_result"
    }
   ],
   "source": [
    "test_boosting[(test_boosting['item_id']==20447918) & (test_boosting['year']==2015) & (test_boosting['week']==3)]"
   ]
  },
  {
   "cell_type": "code",
   "execution_count": 61,
   "metadata": {
    "collapsed": true
   },
   "outputs": [],
   "source": [
    "test_boosting.to_csv('predictions/boosting_full_output.csv', index=False)"
   ]
  },
  {
   "cell_type": "code",
   "execution_count": 62,
   "metadata": {},
   "outputs": [
    {
     "data": {
      "text/html": [
       "<div>\n",
       "<style scoped>\n",
       "    .dataframe tbody tr th:only-of-type {\n",
       "        vertical-align: middle;\n",
       "    }\n",
       "\n",
       "    .dataframe tbody tr th {\n",
       "        vertical-align: top;\n",
       "    }\n",
       "\n",
       "    .dataframe thead th {\n",
       "        text-align: right;\n",
       "    }\n",
       "</style>\n",
       "<table border=\"1\" class=\"dataframe\">\n",
       "  <thead>\n",
       "    <tr style=\"text-align: right;\">\n",
       "      <th></th>\n",
       "      <th>Num</th>\n",
       "      <th>y</th>\n",
       "    </tr>\n",
       "  </thead>\n",
       "  <tbody>\n",
       "    <tr>\n",
       "      <td>0</td>\n",
       "      <td>348622</td>\n",
       "      <td>1815.050479</td>\n",
       "    </tr>\n",
       "    <tr>\n",
       "      <td>1</td>\n",
       "      <td>348623</td>\n",
       "      <td>29474.000807</td>\n",
       "    </tr>\n",
       "    <tr>\n",
       "      <td>2</td>\n",
       "      <td>348624</td>\n",
       "      <td>314443.327146</td>\n",
       "    </tr>\n",
       "    <tr>\n",
       "      <td>3</td>\n",
       "      <td>348625</td>\n",
       "      <td>29881.355623</td>\n",
       "    </tr>\n",
       "    <tr>\n",
       "      <td>4</td>\n",
       "      <td>348626</td>\n",
       "      <td>59.320674</td>\n",
       "    </tr>\n",
       "  </tbody>\n",
       "</table>\n",
       "</div>"
      ],
      "text/plain": [
       "      Num              y\n",
       "0  348622    1815.050479\n",
       "1  348623   29474.000807\n",
       "2  348624  314443.327146\n",
       "3  348625   29881.355623\n",
       "4  348626      59.320674"
      ]
     },
     "execution_count": 62,
     "metadata": {},
     "output_type": "execute_result"
    }
   ],
   "source": [
    "sample_submission['y']=np.exp(test_predicted)\n",
    "sample_submission.head()"
   ]
  },
  {
   "cell_type": "code",
   "execution_count": 63,
   "metadata": {},
   "outputs": [],
   "source": [
    "sample_submission.to_csv('predictions/goosting.csv', index=False)"
   ]
  }
 ],
 "metadata": {
  "kernelspec": {
   "display_name": "Python 3",
   "language": "python",
   "name": "python3"
  },
  "language_info": {
   "codemirror_mode": {
    "name": "ipython",
    "version": 3
   },
   "file_extension": ".py",
   "mimetype": "text/x-python",
   "name": "python",
   "nbconvert_exporter": "python",
   "pygments_lexer": "ipython3",
   "version": "3.7.4"
  }
 },
 "nbformat": 4,
 "nbformat_minor": 1
}
