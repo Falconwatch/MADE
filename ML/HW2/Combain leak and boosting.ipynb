{
 "cells": [
  {
   "cell_type": "code",
   "execution_count": 1,
   "metadata": {
    "collapsed": false
   },
   "outputs": [
    {
     "name": "stderr",
     "output_type": "stream",
     "text": [
      "C:\\Users\\shcherbakov2-ia\\AppData\\Local\\Continuum\\Anaconda3\\lib\\site-packages\\pandas\\compat\\_optional.py:106: UserWarning: Pandas requires version '1.2.1' or newer of 'bottleneck' (version '1.2.0' currently installed).\n",
      "  warnings.warn(msg, UserWarning)\n"
     ]
    }
   ],
   "source": [
    "import pandas as pd\n",
    "import numpy as np"
   ]
  },
  {
   "cell_type": "code",
   "execution_count": 16,
   "metadata": {
    "collapsed": false
   },
   "outputs": [
    {
     "data": {
      "text/html": [
       "<div>\n",
       "<style scoped>\n",
       "    .dataframe tbody tr th:only-of-type {\n",
       "        vertical-align: middle;\n",
       "    }\n",
       "\n",
       "    .dataframe tbody tr th {\n",
       "        vertical-align: top;\n",
       "    }\n",
       "\n",
       "    .dataframe thead th {\n",
       "        text-align: right;\n",
       "    }\n",
       "</style>\n",
       "<table border=\"1\" class=\"dataframe\">\n",
       "  <thead>\n",
       "    <tr style=\"text-align: right;\">\n",
       "      <th></th>\n",
       "      <th>Num2</th>\n",
       "      <th>year</th>\n",
       "      <th>week</th>\n",
       "      <th>item_id</th>\n",
       "      <th>y_mean</th>\n",
       "      <th>y_boosted</th>\n",
       "    </tr>\n",
       "  </thead>\n",
       "  <tbody>\n",
       "    <tr>\n",
       "      <td>0</td>\n",
       "      <td>348622</td>\n",
       "      <td>2015</td>\n",
       "      <td>3</td>\n",
       "      <td>20447918</td>\n",
       "      <td>1646.956219</td>\n",
       "      <td>1815.050479</td>\n",
       "    </tr>\n",
       "    <tr>\n",
       "      <td>1</td>\n",
       "      <td>348623</td>\n",
       "      <td>2015</td>\n",
       "      <td>3</td>\n",
       "      <td>20447902</td>\n",
       "      <td>24242.199783</td>\n",
       "      <td>29474.000807</td>\n",
       "    </tr>\n",
       "    <tr>\n",
       "      <td>2</td>\n",
       "      <td>348624</td>\n",
       "      <td>2015</td>\n",
       "      <td>3</td>\n",
       "      <td>20447732</td>\n",
       "      <td>262067.725639</td>\n",
       "      <td>314443.327146</td>\n",
       "    </tr>\n",
       "    <tr>\n",
       "      <td>3</td>\n",
       "      <td>348625</td>\n",
       "      <td>2015</td>\n",
       "      <td>3</td>\n",
       "      <td>20443951</td>\n",
       "      <td>31802.015733</td>\n",
       "      <td>29881.355623</td>\n",
       "    </tr>\n",
       "    <tr>\n",
       "      <td>4</td>\n",
       "      <td>348626</td>\n",
       "      <td>2015</td>\n",
       "      <td>3</td>\n",
       "      <td>20443944</td>\n",
       "      <td>49.924949</td>\n",
       "      <td>59.320674</td>\n",
       "    </tr>\n",
       "  </tbody>\n",
       "</table>\n",
       "</div>"
      ],
      "text/plain": [
       "     Num2  year  week   item_id         y_mean      y_boosted\n",
       "0  348622  2015     3  20447918    1646.956219    1815.050479\n",
       "1  348623  2015     3  20447902   24242.199783   29474.000807\n",
       "2  348624  2015     3  20447732  262067.725639  314443.327146\n",
       "3  348625  2015     3  20443951   31802.015733   29881.355623\n",
       "4  348626  2015     3  20443944      49.924949      59.320674"
      ]
     },
     "execution_count": 16,
     "metadata": {},
     "output_type": "execute_result"
    }
   ],
   "source": [
    "boosting_full_output = pd.read_csv('predictions/boosting_full_output.csv')\n",
    "boosting_full_output.rename({'y': 'y_mean'}, axis=1, inplace=True)\n",
    "boosting_full_output.rename({'Num': 'Num2'}, axis=1, inplace=True)\n",
    "boosting_full_output.head()"
   ]
  },
  {
   "cell_type": "code",
   "execution_count": 17,
   "metadata": {
    "collapsed": false
   },
   "outputs": [
    {
     "data": {
      "text/html": [
       "<div>\n",
       "<style scoped>\n",
       "    .dataframe tbody tr th:only-of-type {\n",
       "        vertical-align: middle;\n",
       "    }\n",
       "\n",
       "    .dataframe tbody tr th {\n",
       "        vertical-align: top;\n",
       "    }\n",
       "\n",
       "    .dataframe thead th {\n",
       "        text-align: right;\n",
       "    }\n",
       "</style>\n",
       "<table border=\"1\" class=\"dataframe\">\n",
       "  <thead>\n",
       "    <tr style=\"text-align: right;\">\n",
       "      <th></th>\n",
       "      <th>Num</th>\n",
       "      <th>year</th>\n",
       "      <th>week</th>\n",
       "      <th>item_id</th>\n",
       "      <th>y_leaked</th>\n",
       "    </tr>\n",
       "  </thead>\n",
       "  <tbody>\n",
       "    <tr>\n",
       "      <td>0</td>\n",
       "      <td>348622</td>\n",
       "      <td>2015</td>\n",
       "      <td>3</td>\n",
       "      <td>20447918</td>\n",
       "      <td>2720.0</td>\n",
       "    </tr>\n",
       "    <tr>\n",
       "      <td>1</td>\n",
       "      <td>348623</td>\n",
       "      <td>2015</td>\n",
       "      <td>3</td>\n",
       "      <td>20447902</td>\n",
       "      <td>33182.0</td>\n",
       "    </tr>\n",
       "    <tr>\n",
       "      <td>2</td>\n",
       "      <td>348624</td>\n",
       "      <td>2015</td>\n",
       "      <td>3</td>\n",
       "      <td>20447732</td>\n",
       "      <td>275825.0</td>\n",
       "    </tr>\n",
       "    <tr>\n",
       "      <td>3</td>\n",
       "      <td>348625</td>\n",
       "      <td>2015</td>\n",
       "      <td>3</td>\n",
       "      <td>20443951</td>\n",
       "      <td>32835.0</td>\n",
       "    </tr>\n",
       "    <tr>\n",
       "      <td>4</td>\n",
       "      <td>348626</td>\n",
       "      <td>2015</td>\n",
       "      <td>3</td>\n",
       "      <td>20443944</td>\n",
       "      <td>48.0</td>\n",
       "    </tr>\n",
       "  </tbody>\n",
       "</table>\n",
       "</div>"
      ],
      "text/plain": [
       "      Num  year  week   item_id  y_leaked\n",
       "0  348622  2015     3  20447918    2720.0\n",
       "1  348623  2015     3  20447902   33182.0\n",
       "2  348624  2015     3  20447732  275825.0\n",
       "3  348625  2015     3  20443951   32835.0\n",
       "4  348626  2015     3  20443944      48.0"
      ]
     },
     "execution_count": 17,
     "metadata": {},
     "output_type": "execute_result"
    }
   ],
   "source": [
    "leak_result = pd.read_csv('predictions/test_leaked.csv')\n",
    "leak_result.head()"
   ]
  },
  {
   "cell_type": "code",
   "execution_count": 18,
   "metadata": {
    "collapsed": false
   },
   "outputs": [
    {
     "data": {
      "text/html": [
       "<div>\n",
       "<style scoped>\n",
       "    .dataframe tbody tr th:only-of-type {\n",
       "        vertical-align: middle;\n",
       "    }\n",
       "\n",
       "    .dataframe tbody tr th {\n",
       "        vertical-align: top;\n",
       "    }\n",
       "\n",
       "    .dataframe thead th {\n",
       "        text-align: right;\n",
       "    }\n",
       "</style>\n",
       "<table border=\"1\" class=\"dataframe\">\n",
       "  <thead>\n",
       "    <tr style=\"text-align: right;\">\n",
       "      <th></th>\n",
       "      <th>Num2</th>\n",
       "      <th>year</th>\n",
       "      <th>week</th>\n",
       "      <th>item_id</th>\n",
       "      <th>y_mean</th>\n",
       "      <th>y_boosted</th>\n",
       "      <th>Num</th>\n",
       "      <th>year</th>\n",
       "      <th>week</th>\n",
       "      <th>item_id</th>\n",
       "      <th>y_leaked</th>\n",
       "    </tr>\n",
       "  </thead>\n",
       "  <tbody>\n",
       "    <tr>\n",
       "      <td>0</td>\n",
       "      <td>348622</td>\n",
       "      <td>2015</td>\n",
       "      <td>3</td>\n",
       "      <td>20447918</td>\n",
       "      <td>1646.956219</td>\n",
       "      <td>1815.050479</td>\n",
       "      <td>348622</td>\n",
       "      <td>2015</td>\n",
       "      <td>3</td>\n",
       "      <td>20447918</td>\n",
       "      <td>2720.0</td>\n",
       "    </tr>\n",
       "    <tr>\n",
       "      <td>1</td>\n",
       "      <td>348623</td>\n",
       "      <td>2015</td>\n",
       "      <td>3</td>\n",
       "      <td>20447902</td>\n",
       "      <td>24242.199783</td>\n",
       "      <td>29474.000807</td>\n",
       "      <td>348623</td>\n",
       "      <td>2015</td>\n",
       "      <td>3</td>\n",
       "      <td>20447902</td>\n",
       "      <td>33182.0</td>\n",
       "    </tr>\n",
       "    <tr>\n",
       "      <td>2</td>\n",
       "      <td>348624</td>\n",
       "      <td>2015</td>\n",
       "      <td>3</td>\n",
       "      <td>20447732</td>\n",
       "      <td>262067.725639</td>\n",
       "      <td>314443.327146</td>\n",
       "      <td>348624</td>\n",
       "      <td>2015</td>\n",
       "      <td>3</td>\n",
       "      <td>20447732</td>\n",
       "      <td>275825.0</td>\n",
       "    </tr>\n",
       "    <tr>\n",
       "      <td>3</td>\n",
       "      <td>348625</td>\n",
       "      <td>2015</td>\n",
       "      <td>3</td>\n",
       "      <td>20443951</td>\n",
       "      <td>31802.015733</td>\n",
       "      <td>29881.355623</td>\n",
       "      <td>348625</td>\n",
       "      <td>2015</td>\n",
       "      <td>3</td>\n",
       "      <td>20443951</td>\n",
       "      <td>32835.0</td>\n",
       "    </tr>\n",
       "    <tr>\n",
       "      <td>4</td>\n",
       "      <td>348626</td>\n",
       "      <td>2015</td>\n",
       "      <td>3</td>\n",
       "      <td>20443944</td>\n",
       "      <td>49.924949</td>\n",
       "      <td>59.320674</td>\n",
       "      <td>348626</td>\n",
       "      <td>2015</td>\n",
       "      <td>3</td>\n",
       "      <td>20443944</td>\n",
       "      <td>48.0</td>\n",
       "    </tr>\n",
       "  </tbody>\n",
       "</table>\n",
       "</div>"
      ],
      "text/plain": [
       "     Num2  year  week   item_id         y_mean      y_boosted     Num  year  \\\n",
       "0  348622  2015     3  20447918    1646.956219    1815.050479  348622  2015   \n",
       "1  348623  2015     3  20447902   24242.199783   29474.000807  348623  2015   \n",
       "2  348624  2015     3  20447732  262067.725639  314443.327146  348624  2015   \n",
       "3  348625  2015     3  20443951   31802.015733   29881.355623  348625  2015   \n",
       "4  348626  2015     3  20443944      49.924949      59.320674  348626  2015   \n",
       "\n",
       "   week   item_id  y_leaked  \n",
       "0     3  20447918    2720.0  \n",
       "1     3  20447902   33182.0  \n",
       "2     3  20447732  275825.0  \n",
       "3     3  20443951   32835.0  \n",
       "4     3  20443944      48.0  "
      ]
     },
     "execution_count": 18,
     "metadata": {},
     "output_type": "execute_result"
    }
   ],
   "source": [
    "full_data = pd.concat([boosting_full_output, leak_result], axis=1)\n",
    "full_data.shape\n",
    "full_data.head()"
   ]
  },
  {
   "cell_type": "code",
   "execution_count": 20,
   "metadata": {
    "collapsed": false
   },
   "outputs": [],
   "source": [
    "compare_set = full_data[['Num', 'y_mean', 'y_boosted', 'y_leaked']]"
   ]
  },
  {
   "cell_type": "code",
   "execution_count": 22,
   "metadata": {
    "collapsed": false
   },
   "outputs": [],
   "source": [
    "compare_set_clear = compare_set.dropna()"
   ]
  },
  {
   "cell_type": "code",
   "execution_count": 23,
   "metadata": {
    "collapsed": false
   },
   "outputs": [
    {
     "data": {
      "text/html": [
       "<div>\n",
       "<style scoped>\n",
       "    .dataframe tbody tr th:only-of-type {\n",
       "        vertical-align: middle;\n",
       "    }\n",
       "\n",
       "    .dataframe tbody tr th {\n",
       "        vertical-align: top;\n",
       "    }\n",
       "\n",
       "    .dataframe thead th {\n",
       "        text-align: right;\n",
       "    }\n",
       "</style>\n",
       "<table border=\"1\" class=\"dataframe\">\n",
       "  <thead>\n",
       "    <tr style=\"text-align: right;\">\n",
       "      <th></th>\n",
       "      <th>Num</th>\n",
       "      <th>y_mean</th>\n",
       "      <th>y_boosted</th>\n",
       "      <th>y_leaked</th>\n",
       "    </tr>\n",
       "  </thead>\n",
       "  <tbody>\n",
       "    <tr>\n",
       "      <td>0</td>\n",
       "      <td>348622</td>\n",
       "      <td>1646.956219</td>\n",
       "      <td>1815.050479</td>\n",
       "      <td>2720.0</td>\n",
       "    </tr>\n",
       "    <tr>\n",
       "      <td>1</td>\n",
       "      <td>348623</td>\n",
       "      <td>24242.199783</td>\n",
       "      <td>29474.000807</td>\n",
       "      <td>33182.0</td>\n",
       "    </tr>\n",
       "    <tr>\n",
       "      <td>2</td>\n",
       "      <td>348624</td>\n",
       "      <td>262067.725639</td>\n",
       "      <td>314443.327146</td>\n",
       "      <td>275825.0</td>\n",
       "    </tr>\n",
       "    <tr>\n",
       "      <td>3</td>\n",
       "      <td>348625</td>\n",
       "      <td>31802.015733</td>\n",
       "      <td>29881.355623</td>\n",
       "      <td>32835.0</td>\n",
       "    </tr>\n",
       "    <tr>\n",
       "      <td>4</td>\n",
       "      <td>348626</td>\n",
       "      <td>49.924949</td>\n",
       "      <td>59.320674</td>\n",
       "      <td>48.0</td>\n",
       "    </tr>\n",
       "    <tr>\n",
       "      <td>...</td>\n",
       "      <td>...</td>\n",
       "      <td>...</td>\n",
       "      <td>...</td>\n",
       "      <td>...</td>\n",
       "    </tr>\n",
       "    <tr>\n",
       "      <td>1060</td>\n",
       "      <td>350573</td>\n",
       "      <td>214.054758</td>\n",
       "      <td>168.281503</td>\n",
       "      <td>257.0</td>\n",
       "    </tr>\n",
       "    <tr>\n",
       "      <td>1078</td>\n",
       "      <td>350591</td>\n",
       "      <td>31.086967</td>\n",
       "      <td>31.086967</td>\n",
       "      <td>16.0</td>\n",
       "    </tr>\n",
       "    <tr>\n",
       "      <td>1492</td>\n",
       "      <td>351005</td>\n",
       "      <td>115.730688</td>\n",
       "      <td>88.136316</td>\n",
       "      <td>96.0</td>\n",
       "    </tr>\n",
       "    <tr>\n",
       "      <td>1506</td>\n",
       "      <td>351019</td>\n",
       "      <td>214.054758</td>\n",
       "      <td>134.566981</td>\n",
       "      <td>257.0</td>\n",
       "    </tr>\n",
       "    <tr>\n",
       "      <td>1524</td>\n",
       "      <td>351037</td>\n",
       "      <td>31.086967</td>\n",
       "      <td>31.086967</td>\n",
       "      <td>16.0</td>\n",
       "    </tr>\n",
       "  </tbody>\n",
       "</table>\n",
       "<p>687 rows × 4 columns</p>\n",
       "</div>"
      ],
      "text/plain": [
       "         Num         y_mean      y_boosted  y_leaked\n",
       "0     348622    1646.956219    1815.050479    2720.0\n",
       "1     348623   24242.199783   29474.000807   33182.0\n",
       "2     348624  262067.725639  314443.327146  275825.0\n",
       "3     348625   31802.015733   29881.355623   32835.0\n",
       "4     348626      49.924949      59.320674      48.0\n",
       "...      ...            ...            ...       ...\n",
       "1060  350573     214.054758     168.281503     257.0\n",
       "1078  350591      31.086967      31.086967      16.0\n",
       "1492  351005     115.730688      88.136316      96.0\n",
       "1506  351019     214.054758     134.566981     257.0\n",
       "1524  351037      31.086967      31.086967      16.0\n",
       "\n",
       "[687 rows x 4 columns]"
      ]
     },
     "execution_count": 23,
     "metadata": {},
     "output_type": "execute_result"
    }
   ],
   "source": [
    "compare_set_clear"
   ]
  },
  {
   "cell_type": "code",
   "execution_count": 24,
   "metadata": {
    "collapsed": true
   },
   "outputs": [],
   "source": [
    "def smape(f,a):\n",
    "    top = np.fabs(f-a)\n",
    "    bot = (np.fabs(f) + np.fabs(a))/2\n",
    "    return 100/len(a) * np.sum(top/bot)"
   ]
  },
  {
   "cell_type": "code",
   "execution_count": 25,
   "metadata": {
    "collapsed": false
   },
   "outputs": [
    {
     "name": "stderr",
     "output_type": "stream",
     "text": [
      "C:\\Users\\shcherbakov2-ia\\AppData\\Local\\Continuum\\Anaconda3\\lib\\site-packages\\pandas\\compat\\_optional.py:106: UserWarning: Pandas requires version '2.6.2' or newer of 'numexpr' (version '2.6.1' currently installed).\n",
      "  warnings.warn(msg, UserWarning)\n"
     ]
    },
    {
     "data": {
      "text/plain": [
       "22.673225014470002"
      ]
     },
     "execution_count": 25,
     "metadata": {},
     "output_type": "execute_result"
    }
   ],
   "source": [
    "smape(compare_set_clear['y_boosted'], compare_set_clear['y_leaked'])"
   ]
  },
  {
   "cell_type": "code",
   "execution_count": 26,
   "metadata": {
    "collapsed": false
   },
   "outputs": [
    {
     "data": {
      "text/plain": [
       "17.024515332792028"
      ]
     },
     "execution_count": 26,
     "metadata": {},
     "output_type": "execute_result"
    }
   ],
   "source": [
    "smape(compare_set_clear['y_mean'], compare_set_clear['y_leaked'])"
   ]
  },
  {
   "cell_type": "markdown",
   "metadata": {},
   "source": [
    "# Submission"
   ]
  },
  {
   "cell_type": "code",
   "execution_count": 34,
   "metadata": {
    "collapsed": false
   },
   "outputs": [
    {
     "name": "stderr",
     "output_type": "stream",
     "text": [
      "C:\\Users\\shcherbakov2-ia\\AppData\\Local\\Continuum\\Anaconda3\\lib\\site-packages\\ipykernel\\__main__.py:1: SettingWithCopyWarning: \n",
      "A value is trying to be set on a copy of a slice from a DataFrame.\n",
      "Try using .loc[row_indexer,col_indexer] = value instead\n",
      "\n",
      "See the caveats in the documentation: http://pandas.pydata.org/pandas-docs/stable/user_guide/indexing.html#returning-a-view-versus-a-copy\n",
      "  if __name__ == '__main__':\n"
     ]
    }
   ],
   "source": [
    "compare_set['y'] = compare_set.apply(lambda x: x['y_leaked'] if pd.notna(x['y_leaked']) else x['y_mean'], axis=1)"
   ]
  },
  {
   "cell_type": "code",
   "execution_count": 35,
   "metadata": {
    "collapsed": false
   },
   "outputs": [
    {
     "data": {
      "text/html": [
       "<div>\n",
       "<style scoped>\n",
       "    .dataframe tbody tr th:only-of-type {\n",
       "        vertical-align: middle;\n",
       "    }\n",
       "\n",
       "    .dataframe tbody tr th {\n",
       "        vertical-align: top;\n",
       "    }\n",
       "\n",
       "    .dataframe thead th {\n",
       "        text-align: right;\n",
       "    }\n",
       "</style>\n",
       "<table border=\"1\" class=\"dataframe\">\n",
       "  <thead>\n",
       "    <tr style=\"text-align: right;\">\n",
       "      <th></th>\n",
       "      <th>Num</th>\n",
       "      <th>y_mean</th>\n",
       "      <th>y_boosted</th>\n",
       "      <th>y_leaked</th>\n",
       "      <th>y</th>\n",
       "    </tr>\n",
       "  </thead>\n",
       "  <tbody>\n",
       "    <tr>\n",
       "      <td>0</td>\n",
       "      <td>348622</td>\n",
       "      <td>1646.956219</td>\n",
       "      <td>1815.050479</td>\n",
       "      <td>2720.0</td>\n",
       "      <td>2720.000000</td>\n",
       "    </tr>\n",
       "    <tr>\n",
       "      <td>1</td>\n",
       "      <td>348623</td>\n",
       "      <td>24242.199783</td>\n",
       "      <td>29474.000807</td>\n",
       "      <td>33182.0</td>\n",
       "      <td>33182.000000</td>\n",
       "    </tr>\n",
       "    <tr>\n",
       "      <td>2</td>\n",
       "      <td>348624</td>\n",
       "      <td>262067.725639</td>\n",
       "      <td>314443.327146</td>\n",
       "      <td>275825.0</td>\n",
       "      <td>275825.000000</td>\n",
       "    </tr>\n",
       "    <tr>\n",
       "      <td>3</td>\n",
       "      <td>348625</td>\n",
       "      <td>31802.015733</td>\n",
       "      <td>29881.355623</td>\n",
       "      <td>32835.0</td>\n",
       "      <td>32835.000000</td>\n",
       "    </tr>\n",
       "    <tr>\n",
       "      <td>4</td>\n",
       "      <td>348626</td>\n",
       "      <td>49.924949</td>\n",
       "      <td>59.320674</td>\n",
       "      <td>48.0</td>\n",
       "      <td>48.000000</td>\n",
       "    </tr>\n",
       "    <tr>\n",
       "      <td>...</td>\n",
       "      <td>...</td>\n",
       "      <td>...</td>\n",
       "      <td>...</td>\n",
       "      <td>...</td>\n",
       "      <td>...</td>\n",
       "    </tr>\n",
       "    <tr>\n",
       "      <td>2011</td>\n",
       "      <td>351524</td>\n",
       "      <td>44103.757160</td>\n",
       "      <td>49724.858725</td>\n",
       "      <td>NaN</td>\n",
       "      <td>44103.757160</td>\n",
       "    </tr>\n",
       "    <tr>\n",
       "      <td>2012</td>\n",
       "      <td>351525</td>\n",
       "      <td>20968.405672</td>\n",
       "      <td>23446.457055</td>\n",
       "      <td>NaN</td>\n",
       "      <td>20968.405672</td>\n",
       "    </tr>\n",
       "    <tr>\n",
       "      <td>2013</td>\n",
       "      <td>351526</td>\n",
       "      <td>18698.342881</td>\n",
       "      <td>19924.088513</td>\n",
       "      <td>NaN</td>\n",
       "      <td>18698.342881</td>\n",
       "    </tr>\n",
       "    <tr>\n",
       "      <td>2014</td>\n",
       "      <td>351527</td>\n",
       "      <td>419.514961</td>\n",
       "      <td>361.199877</td>\n",
       "      <td>NaN</td>\n",
       "      <td>419.514961</td>\n",
       "    </tr>\n",
       "    <tr>\n",
       "      <td>2015</td>\n",
       "      <td>351528</td>\n",
       "      <td>4867.075015</td>\n",
       "      <td>6055.050097</td>\n",
       "      <td>NaN</td>\n",
       "      <td>4867.075015</td>\n",
       "    </tr>\n",
       "  </tbody>\n",
       "</table>\n",
       "<p>2016 rows × 5 columns</p>\n",
       "</div>"
      ],
      "text/plain": [
       "         Num         y_mean      y_boosted  y_leaked              y\n",
       "0     348622    1646.956219    1815.050479    2720.0    2720.000000\n",
       "1     348623   24242.199783   29474.000807   33182.0   33182.000000\n",
       "2     348624  262067.725639  314443.327146  275825.0  275825.000000\n",
       "3     348625   31802.015733   29881.355623   32835.0   32835.000000\n",
       "4     348626      49.924949      59.320674      48.0      48.000000\n",
       "...      ...            ...            ...       ...            ...\n",
       "2011  351524   44103.757160   49724.858725       NaN   44103.757160\n",
       "2012  351525   20968.405672   23446.457055       NaN   20968.405672\n",
       "2013  351526   18698.342881   19924.088513       NaN   18698.342881\n",
       "2014  351527     419.514961     361.199877       NaN     419.514961\n",
       "2015  351528    4867.075015    6055.050097       NaN    4867.075015\n",
       "\n",
       "[2016 rows x 5 columns]"
      ]
     },
     "execution_count": 35,
     "metadata": {},
     "output_type": "execute_result"
    }
   ],
   "source": [
    "compare_set"
   ]
  },
  {
   "cell_type": "code",
   "execution_count": 36,
   "metadata": {
    "collapsed": false
   },
   "outputs": [
    {
     "data": {
      "text/html": [
       "<div>\n",
       "<style scoped>\n",
       "    .dataframe tbody tr th:only-of-type {\n",
       "        vertical-align: middle;\n",
       "    }\n",
       "\n",
       "    .dataframe tbody tr th {\n",
       "        vertical-align: top;\n",
       "    }\n",
       "\n",
       "    .dataframe thead th {\n",
       "        text-align: right;\n",
       "    }\n",
       "</style>\n",
       "<table border=\"1\" class=\"dataframe\">\n",
       "  <thead>\n",
       "    <tr style=\"text-align: right;\">\n",
       "      <th></th>\n",
       "      <th>Num</th>\n",
       "      <th>y</th>\n",
       "    </tr>\n",
       "  </thead>\n",
       "  <tbody>\n",
       "    <tr>\n",
       "      <td>0</td>\n",
       "      <td>348622</td>\n",
       "      <td>2720.0</td>\n",
       "    </tr>\n",
       "    <tr>\n",
       "      <td>1</td>\n",
       "      <td>348623</td>\n",
       "      <td>33182.0</td>\n",
       "    </tr>\n",
       "    <tr>\n",
       "      <td>2</td>\n",
       "      <td>348624</td>\n",
       "      <td>275825.0</td>\n",
       "    </tr>\n",
       "    <tr>\n",
       "      <td>3</td>\n",
       "      <td>348625</td>\n",
       "      <td>32835.0</td>\n",
       "    </tr>\n",
       "    <tr>\n",
       "      <td>4</td>\n",
       "      <td>348626</td>\n",
       "      <td>48.0</td>\n",
       "    </tr>\n",
       "  </tbody>\n",
       "</table>\n",
       "</div>"
      ],
      "text/plain": [
       "      Num         y\n",
       "0  348622    2720.0\n",
       "1  348623   33182.0\n",
       "2  348624  275825.0\n",
       "3  348625   32835.0\n",
       "4  348626      48.0"
      ]
     },
     "execution_count": 36,
     "metadata": {},
     "output_type": "execute_result"
    }
   ],
   "source": [
    "submission = compare_set[['Num', 'y']]\n",
    "submission.head()"
   ]
  },
  {
   "cell_type": "code",
   "execution_count": 37,
   "metadata": {
    "collapsed": false
   },
   "outputs": [],
   "source": [
    "import datetime\n",
    "submission.to_csv('submissions/submission_with_leak_{}.csv'.format(datetime.datetime.now().strftime(\"%Y%m%d_%H%M%S\")), index=False)"
   ]
  }
 ],
 "metadata": {
  "kernelspec": {
   "display_name": "Python 3",
   "language": "python",
   "name": "python3"
  },
  "language_info": {
   "codemirror_mode": {
    "name": "ipython",
    "version": 3
   },
   "file_extension": ".py",
   "mimetype": "text/x-python",
   "name": "python",
   "nbconvert_exporter": "python",
   "pygments_lexer": "ipython3",
   "version": "3.6.0"
  }
 },
 "nbformat": 4,
 "nbformat_minor": 2
}
