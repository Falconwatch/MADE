{
 "cells": [
  {
   "cell_type": "markdown",
   "metadata": {},
   "source": [
    "# Чтение данных"
   ]
  },
  {
   "cell_type": "code",
   "execution_count": 1,
   "metadata": {},
   "outputs": [],
   "source": [
    "import matplotlib.pyplot as plt"
   ]
  },
  {
   "cell_type": "code",
   "execution_count": 2,
   "metadata": {},
   "outputs": [],
   "source": [
    "import pandas as pd\n",
    "\n",
    "train = pd.read_csv(\"data/train.tsv.zip\")\n",
    "test = pd.read_csv(\"data/test.tsv\")\n",
    "sample_submission = pd.read_csv(\"data/sample_submission.tsv\")"
   ]
  },
  {
   "cell_type": "code",
   "execution_count": 3,
   "metadata": {},
   "outputs": [
    {
     "data": {
      "text/plain": [
       "(74473, 67)"
      ]
     },
     "execution_count": 3,
     "metadata": {},
     "output_type": "execute_result"
    }
   ],
   "source": [
    "train['is_train']=1\n",
    "test['is_train']=0\n",
    "full_data = pd.concat([train.reset_index(),test.reset_index()], axis=0, sort=False).drop(['index'], axis=1)\n",
    "full_data.shape"
   ]
  },
  {
   "cell_type": "code",
   "execution_count": 5,
   "metadata": {},
   "outputs": [],
   "source": [
    "full_data.to_excel('fulldata.xlsx')"
   ]
  },
  {
   "cell_type": "markdown",
   "metadata": {},
   "source": [
    "# Генерация фичей"
   ]
  },
  {
   "cell_type": "code",
   "execution_count": 4,
   "metadata": {},
   "outputs": [
    {
     "data": {
      "image/png": "[encoded data removed]",
      "text/plain": [
       "<matplotlib.figure.Figure at 0x17b5db38>"
      ]
     },
     "metadata": {},
     "output_type": "display_data"
    }
   ],
   "source": [
    "plt.show(full_data['Num'].hist(bins=10000))"
   ]
  },
  {
   "cell_type": "code",
   "execution_count": 5,
   "metadata": {},
   "outputs": [
    {
     "data": {
      "image/png": "[encoded data removed]",
      "text/plain": [
       "<matplotlib.figure.Figure at 0x17fccd30>"
      ]
     },
     "metadata": {},
     "output_type": "display_data"
    }
   ],
   "source": [
    "test['Num'].hist(bins=2016, color='red')\n",
    "plt.show()"
   ]
  },
  {
   "cell_type": "code",
   "execution_count": 6,
   "metadata": {},
   "outputs": [
    {
     "data": {
      "text/plain": [
       "count      2016.000000\n",
       "mean     350371.290675\n",
       "std         806.372912\n",
       "min      348622.000000\n",
       "25%      349796.750000\n",
       "50%      350520.500000\n",
       "75%      351024.250000\n",
       "max      351528.000000\n",
       "Name: Num, dtype: float64"
      ]
     },
     "execution_count": 6,
     "metadata": {},
     "output_type": "execute_result"
    }
   ],
   "source": [
    "test['Num'].describe()"
   ]
  },
  {
   "cell_type": "code",
   "execution_count": 7,
   "metadata": {},
   "outputs": [
    {
     "data": {
      "text/plain": [
       "count     72457.000000\n",
       "mean     178904.496129\n",
       "std      103879.795910\n",
       "min           0.000000\n",
       "25%       89711.000000\n",
       "50%      177658.000000\n",
       "75%      270259.000000\n",
       "max      349518.000000\n",
       "Name: Num, dtype: float64"
      ]
     },
     "execution_count": 7,
     "metadata": {},
     "output_type": "execute_result"
    }
   ],
   "source": [
    "train['Num'].describe()"
   ]
  },
  {
   "cell_type": "code",
   "execution_count": 8,
   "metadata": {
    "scrolled": true
   },
   "outputs": [
    {
     "data": {
      "text/html": [
       "<div>\n",
       "<style scoped>\n",
       "    .dataframe tbody tr th:only-of-type {\n",
       "        vertical-align: middle;\n",
       "    }\n",
       "\n",
       "    .dataframe tbody tr th {\n",
       "        vertical-align: top;\n",
       "    }\n",
       "\n",
       "    .dataframe thead th {\n",
       "        text-align: right;\n",
       "    }\n",
       "</style>\n",
       "<table border=\"1\" class=\"dataframe\">\n",
       "  <thead>\n",
       "    <tr style=\"text-align: right;\">\n",
       "      <th></th>\n",
       "      <th>Num</th>\n",
       "      <th>y</th>\n",
       "      <th>year</th>\n",
       "      <th>week</th>\n",
       "      <th>shift</th>\n",
       "      <th>item_id</th>\n",
       "      <th>f1</th>\n",
       "      <th>f2</th>\n",
       "      <th>f3</th>\n",
       "      <th>f4</th>\n",
       "      <th>...</th>\n",
       "      <th>f52</th>\n",
       "      <th>f53</th>\n",
       "      <th>f54</th>\n",
       "      <th>f55</th>\n",
       "      <th>f56</th>\n",
       "      <th>f57</th>\n",
       "      <th>f58</th>\n",
       "      <th>f59</th>\n",
       "      <th>f60</th>\n",
       "      <th>is_train</th>\n",
       "    </tr>\n",
       "  </thead>\n",
       "  <tbody>\n",
       "    <tr>\n",
       "      <td>72232</td>\n",
       "      <td>349294</td>\n",
       "      <td>2720</td>\n",
       "      <td>2015</td>\n",
       "      <td>2</td>\n",
       "      <td>1</td>\n",
       "      <td>20447918</td>\n",
       "      <td>820.0</td>\n",
       "      <td>1128.0</td>\n",
       "      <td>1801.0</td>\n",
       "      <td>1045.0</td>\n",
       "      <td>...</td>\n",
       "      <td>969.0</td>\n",
       "      <td>1635.0</td>\n",
       "      <td>895.0</td>\n",
       "      <td>2140.0</td>\n",
       "      <td>1182.0</td>\n",
       "      <td>1020.0</td>\n",
       "      <td>1293.0</td>\n",
       "      <td>1290.0</td>\n",
       "      <td>422.0</td>\n",
       "      <td>1</td>\n",
       "    </tr>\n",
       "    <tr>\n",
       "      <td>72233</td>\n",
       "      <td>349295</td>\n",
       "      <td>33182</td>\n",
       "      <td>2015</td>\n",
       "      <td>2</td>\n",
       "      <td>1</td>\n",
       "      <td>20447902</td>\n",
       "      <td>12585.0</td>\n",
       "      <td>11595.0</td>\n",
       "      <td>9685.0</td>\n",
       "      <td>12917.0</td>\n",
       "      <td>...</td>\n",
       "      <td>21195.0</td>\n",
       "      <td>18280.0</td>\n",
       "      <td>18270.0</td>\n",
       "      <td>15851.0</td>\n",
       "      <td>16920.0</td>\n",
       "      <td>18320.0</td>\n",
       "      <td>24116.0</td>\n",
       "      <td>21307.0</td>\n",
       "      <td>6661.0</td>\n",
       "      <td>1</td>\n",
       "    </tr>\n",
       "    <tr>\n",
       "      <td>72234</td>\n",
       "      <td>349296</td>\n",
       "      <td>275825</td>\n",
       "      <td>2015</td>\n",
       "      <td>2</td>\n",
       "      <td>1</td>\n",
       "      <td>20447732</td>\n",
       "      <td>147287.0</td>\n",
       "      <td>176065.0</td>\n",
       "      <td>143105.0</td>\n",
       "      <td>202069.0</td>\n",
       "      <td>...</td>\n",
       "      <td>221622.0</td>\n",
       "      <td>256605.0</td>\n",
       "      <td>240047.0</td>\n",
       "      <td>236630.0</td>\n",
       "      <td>206697.0</td>\n",
       "      <td>245652.0</td>\n",
       "      <td>286179.0</td>\n",
       "      <td>285904.0</td>\n",
       "      <td>54846.0</td>\n",
       "      <td>1</td>\n",
       "    </tr>\n",
       "    <tr>\n",
       "      <td>72235</td>\n",
       "      <td>349297</td>\n",
       "      <td>32835</td>\n",
       "      <td>2015</td>\n",
       "      <td>2</td>\n",
       "      <td>1</td>\n",
       "      <td>20443951</td>\n",
       "      <td>24420.0</td>\n",
       "      <td>27068.0</td>\n",
       "      <td>20460.0</td>\n",
       "      <td>25580.0</td>\n",
       "      <td>...</td>\n",
       "      <td>22450.0</td>\n",
       "      <td>22093.0</td>\n",
       "      <td>31175.0</td>\n",
       "      <td>23355.0</td>\n",
       "      <td>15358.0</td>\n",
       "      <td>18930.0</td>\n",
       "      <td>29643.0</td>\n",
       "      <td>33970.0</td>\n",
       "      <td>7787.0</td>\n",
       "      <td>1</td>\n",
       "    </tr>\n",
       "    <tr>\n",
       "      <td>72236</td>\n",
       "      <td>349298</td>\n",
       "      <td>16</td>\n",
       "      <td>2015</td>\n",
       "      <td>2</td>\n",
       "      <td>1</td>\n",
       "      <td>20443944</td>\n",
       "      <td>5864.0</td>\n",
       "      <td>3310.0</td>\n",
       "      <td>1853.0</td>\n",
       "      <td>2836.0</td>\n",
       "      <td>...</td>\n",
       "      <td>60.0</td>\n",
       "      <td>30.0</td>\n",
       "      <td>50.0</td>\n",
       "      <td>20.0</td>\n",
       "      <td>20.0</td>\n",
       "      <td>30.0</td>\n",
       "      <td>0.0</td>\n",
       "      <td>0.0</td>\n",
       "      <td>0.0</td>\n",
       "      <td>1</td>\n",
       "    </tr>\n",
       "    <tr>\n",
       "      <td>...</td>\n",
       "      <td>...</td>\n",
       "      <td>...</td>\n",
       "      <td>...</td>\n",
       "      <td>...</td>\n",
       "      <td>...</td>\n",
       "      <td>...</td>\n",
       "      <td>...</td>\n",
       "      <td>...</td>\n",
       "      <td>...</td>\n",
       "      <td>...</td>\n",
       "      <td>...</td>\n",
       "      <td>...</td>\n",
       "      <td>...</td>\n",
       "      <td>...</td>\n",
       "      <td>...</td>\n",
       "      <td>...</td>\n",
       "      <td>...</td>\n",
       "      <td>...</td>\n",
       "      <td>...</td>\n",
       "      <td>...</td>\n",
       "      <td>...</td>\n",
       "    </tr>\n",
       "    <tr>\n",
       "      <td>72452</td>\n",
       "      <td>349514</td>\n",
       "      <td>18978</td>\n",
       "      <td>2015</td>\n",
       "      <td>2</td>\n",
       "      <td>1</td>\n",
       "      <td>20438802</td>\n",
       "      <td>25348.0</td>\n",
       "      <td>28675.0</td>\n",
       "      <td>27643.0</td>\n",
       "      <td>22375.0</td>\n",
       "      <td>...</td>\n",
       "      <td>13358.0</td>\n",
       "      <td>11509.0</td>\n",
       "      <td>15202.0</td>\n",
       "      <td>10888.0</td>\n",
       "      <td>11925.0</td>\n",
       "      <td>14553.0</td>\n",
       "      <td>19053.0</td>\n",
       "      <td>16459.0</td>\n",
       "      <td>3696.0</td>\n",
       "      <td>1</td>\n",
       "    </tr>\n",
       "    <tr>\n",
       "      <td>72453</td>\n",
       "      <td>349515</td>\n",
       "      <td>18236</td>\n",
       "      <td>2015</td>\n",
       "      <td>2</td>\n",
       "      <td>1</td>\n",
       "      <td>20438801</td>\n",
       "      <td>23319.0</td>\n",
       "      <td>23061.0</td>\n",
       "      <td>18436.0</td>\n",
       "      <td>19390.0</td>\n",
       "      <td>...</td>\n",
       "      <td>11264.0</td>\n",
       "      <td>11216.0</td>\n",
       "      <td>11828.0</td>\n",
       "      <td>11922.0</td>\n",
       "      <td>11187.0</td>\n",
       "      <td>11494.0</td>\n",
       "      <td>16690.0</td>\n",
       "      <td>13141.0</td>\n",
       "      <td>3827.0</td>\n",
       "      <td>1</td>\n",
       "    </tr>\n",
       "    <tr>\n",
       "      <td>72454</td>\n",
       "      <td>349516</td>\n",
       "      <td>542</td>\n",
       "      <td>2015</td>\n",
       "      <td>2</td>\n",
       "      <td>1</td>\n",
       "      <td>20438734</td>\n",
       "      <td>515.0</td>\n",
       "      <td>795.0</td>\n",
       "      <td>426.0</td>\n",
       "      <td>745.0</td>\n",
       "      <td>...</td>\n",
       "      <td>135.0</td>\n",
       "      <td>215.0</td>\n",
       "      <td>145.0</td>\n",
       "      <td>390.0</td>\n",
       "      <td>400.0</td>\n",
       "      <td>253.0</td>\n",
       "      <td>268.0</td>\n",
       "      <td>208.0</td>\n",
       "      <td>175.0</td>\n",
       "      <td>1</td>\n",
       "    </tr>\n",
       "    <tr>\n",
       "      <td>72455</td>\n",
       "      <td>349517</td>\n",
       "      <td>4181</td>\n",
       "      <td>2015</td>\n",
       "      <td>2</td>\n",
       "      <td>1</td>\n",
       "      <td>20438733</td>\n",
       "      <td>5597.0</td>\n",
       "      <td>5595.0</td>\n",
       "      <td>4692.0</td>\n",
       "      <td>4753.0</td>\n",
       "      <td>...</td>\n",
       "      <td>2827.0</td>\n",
       "      <td>3108.0</td>\n",
       "      <td>3693.0</td>\n",
       "      <td>3467.0</td>\n",
       "      <td>2941.0</td>\n",
       "      <td>3757.0</td>\n",
       "      <td>6767.0</td>\n",
       "      <td>4491.0</td>\n",
       "      <td>515.0</td>\n",
       "      <td>1</td>\n",
       "    </tr>\n",
       "    <tr>\n",
       "      <td>72456</td>\n",
       "      <td>349518</td>\n",
       "      <td>16</td>\n",
       "      <td>2015</td>\n",
       "      <td>2</td>\n",
       "      <td>1</td>\n",
       "      <td>20438731</td>\n",
       "      <td>10.0</td>\n",
       "      <td>0.0</td>\n",
       "      <td>0.0</td>\n",
       "      <td>0.0</td>\n",
       "      <td>...</td>\n",
       "      <td>0.0</td>\n",
       "      <td>20.0</td>\n",
       "      <td>0.0</td>\n",
       "      <td>40.0</td>\n",
       "      <td>0.0</td>\n",
       "      <td>0.0</td>\n",
       "      <td>0.0</td>\n",
       "      <td>0.0</td>\n",
       "      <td>0.0</td>\n",
       "      <td>1</td>\n",
       "    </tr>\n",
       "  </tbody>\n",
       "</table>\n",
       "<p>225 rows × 67 columns</p>\n",
       "</div>"
      ],
      "text/plain": [
       "          Num       y  year  week  shift   item_id        f1        f2  \\\n",
       "72232  349294    2720  2015     2      1  20447918     820.0    1128.0   \n",
       "72233  349295   33182  2015     2      1  20447902   12585.0   11595.0   \n",
       "72234  349296  275825  2015     2      1  20447732  147287.0  176065.0   \n",
       "72235  349297   32835  2015     2      1  20443951   24420.0   27068.0   \n",
       "72236  349298      16  2015     2      1  20443944    5864.0    3310.0   \n",
       "...       ...     ...   ...   ...    ...       ...       ...       ...   \n",
       "72452  349514   18978  2015     2      1  20438802   25348.0   28675.0   \n",
       "72453  349515   18236  2015     2      1  20438801   23319.0   23061.0   \n",
       "72454  349516     542  2015     2      1  20438734     515.0     795.0   \n",
       "72455  349517    4181  2015     2      1  20438733    5597.0    5595.0   \n",
       "72456  349518      16  2015     2      1  20438731      10.0       0.0   \n",
       "\n",
       "             f3        f4  ...       f52       f53       f54       f55  \\\n",
       "72232    1801.0    1045.0  ...     969.0    1635.0     895.0    2140.0   \n",
       "72233    9685.0   12917.0  ...   21195.0   18280.0   18270.0   15851.0   \n",
       "72234  143105.0  202069.0  ...  221622.0  256605.0  240047.0  236630.0   \n",
       "72235   20460.0   25580.0  ...   22450.0   22093.0   31175.0   23355.0   \n",
       "72236    1853.0    2836.0  ...      60.0      30.0      50.0      20.0   \n",
       "...         ...       ...  ...       ...       ...       ...       ...   \n",
       "72452   27643.0   22375.0  ...   13358.0   11509.0   15202.0   10888.0   \n",
       "72453   18436.0   19390.0  ...   11264.0   11216.0   11828.0   11922.0   \n",
       "72454     426.0     745.0  ...     135.0     215.0     145.0     390.0   \n",
       "72455    4692.0    4753.0  ...    2827.0    3108.0    3693.0    3467.0   \n",
       "72456       0.0       0.0  ...       0.0      20.0       0.0      40.0   \n",
       "\n",
       "            f56       f57       f58       f59      f60  is_train  \n",
       "72232    1182.0    1020.0    1293.0    1290.0    422.0         1  \n",
       "72233   16920.0   18320.0   24116.0   21307.0   6661.0         1  \n",
       "72234  206697.0  245652.0  286179.0  285904.0  54846.0         1  \n",
       "72235   15358.0   18930.0   29643.0   33970.0   7787.0         1  \n",
       "72236      20.0      30.0       0.0       0.0      0.0         1  \n",
       "...         ...       ...       ...       ...      ...       ...  \n",
       "72452   11925.0   14553.0   19053.0   16459.0   3696.0         1  \n",
       "72453   11187.0   11494.0   16690.0   13141.0   3827.0         1  \n",
       "72454     400.0     253.0     268.0     208.0    175.0         1  \n",
       "72455    2941.0    3757.0    6767.0    4491.0    515.0         1  \n",
       "72456       0.0       0.0       0.0       0.0      0.0         1  \n",
       "\n",
       "[225 rows x 67 columns]"
      ]
     },
     "execution_count": 8,
     "metadata": {},
     "output_type": "execute_result"
    }
   ],
   "source": [
    "train.loc[train['Num']>348622]"
   ]
  },
  {
   "cell_type": "code",
   "execution_count": 9,
   "metadata": {},
   "outputs": [
    {
     "data": {
      "text/html": [
       "<div>\n",
       "<style scoped>\n",
       "    .dataframe tbody tr th:only-of-type {\n",
       "        vertical-align: middle;\n",
       "    }\n",
       "\n",
       "    .dataframe tbody tr th {\n",
       "        vertical-align: top;\n",
       "    }\n",
       "\n",
       "    .dataframe thead th {\n",
       "        text-align: right;\n",
       "    }\n",
       "</style>\n",
       "<table border=\"1\" class=\"dataframe\">\n",
       "  <thead>\n",
       "    <tr style=\"text-align: right;\">\n",
       "      <th></th>\n",
       "      <th>Num</th>\n",
       "      <th>y</th>\n",
       "      <th>year</th>\n",
       "      <th>week</th>\n",
       "      <th>shift</th>\n",
       "      <th>item_id</th>\n",
       "      <th>f1</th>\n",
       "      <th>f2</th>\n",
       "      <th>f3</th>\n",
       "      <th>f4</th>\n",
       "      <th>...</th>\n",
       "      <th>f52</th>\n",
       "      <th>f53</th>\n",
       "      <th>f54</th>\n",
       "      <th>f55</th>\n",
       "      <th>f56</th>\n",
       "      <th>f57</th>\n",
       "      <th>f58</th>\n",
       "      <th>f59</th>\n",
       "      <th>f60</th>\n",
       "      <th>is_train</th>\n",
       "    </tr>\n",
       "  </thead>\n",
       "  <tbody>\n",
       "    <tr>\n",
       "      <td>72232</td>\n",
       "      <td>349294</td>\n",
       "      <td>2720</td>\n",
       "      <td>2015</td>\n",
       "      <td>2</td>\n",
       "      <td>1</td>\n",
       "      <td>20447918</td>\n",
       "      <td>820.0</td>\n",
       "      <td>1128.0</td>\n",
       "      <td>1801.0</td>\n",
       "      <td>1045.0</td>\n",
       "      <td>...</td>\n",
       "      <td>969.0</td>\n",
       "      <td>1635.0</td>\n",
       "      <td>895.0</td>\n",
       "      <td>2140.0</td>\n",
       "      <td>1182.0</td>\n",
       "      <td>1020.0</td>\n",
       "      <td>1293.0</td>\n",
       "      <td>1290.0</td>\n",
       "      <td>422.0</td>\n",
       "      <td>1</td>\n",
       "    </tr>\n",
       "    <tr>\n",
       "      <td>72007</td>\n",
       "      <td>348397</td>\n",
       "      <td>2720</td>\n",
       "      <td>2015</td>\n",
       "      <td>2</td>\n",
       "      <td>2</td>\n",
       "      <td>20447918</td>\n",
       "      <td>960.0</td>\n",
       "      <td>820.0</td>\n",
       "      <td>1128.0</td>\n",
       "      <td>1801.0</td>\n",
       "      <td>...</td>\n",
       "      <td>580.0</td>\n",
       "      <td>969.0</td>\n",
       "      <td>1635.0</td>\n",
       "      <td>895.0</td>\n",
       "      <td>2140.0</td>\n",
       "      <td>1182.0</td>\n",
       "      <td>1020.0</td>\n",
       "      <td>1293.0</td>\n",
       "      <td>1290.0</td>\n",
       "      <td>1</td>\n",
       "    </tr>\n",
       "    <tr>\n",
       "      <td>71786</td>\n",
       "      <td>348176</td>\n",
       "      <td>679</td>\n",
       "      <td>2015</td>\n",
       "      <td>1</td>\n",
       "      <td>1</td>\n",
       "      <td>20447918</td>\n",
       "      <td>960.0</td>\n",
       "      <td>820.0</td>\n",
       "      <td>1128.0</td>\n",
       "      <td>1801.0</td>\n",
       "      <td>...</td>\n",
       "      <td>580.0</td>\n",
       "      <td>969.0</td>\n",
       "      <td>1635.0</td>\n",
       "      <td>895.0</td>\n",
       "      <td>2140.0</td>\n",
       "      <td>1182.0</td>\n",
       "      <td>1020.0</td>\n",
       "      <td>1293.0</td>\n",
       "      <td>1290.0</td>\n",
       "      <td>1</td>\n",
       "    </tr>\n",
       "    <tr>\n",
       "      <td>71560</td>\n",
       "      <td>347278</td>\n",
       "      <td>2720</td>\n",
       "      <td>2015</td>\n",
       "      <td>2</td>\n",
       "      <td>3</td>\n",
       "      <td>20447918</td>\n",
       "      <td>961.0</td>\n",
       "      <td>960.0</td>\n",
       "      <td>820.0</td>\n",
       "      <td>1128.0</td>\n",
       "      <td>...</td>\n",
       "      <td>1510.0</td>\n",
       "      <td>580.0</td>\n",
       "      <td>969.0</td>\n",
       "      <td>1635.0</td>\n",
       "      <td>895.0</td>\n",
       "      <td>2140.0</td>\n",
       "      <td>1182.0</td>\n",
       "      <td>1020.0</td>\n",
       "      <td>1293.0</td>\n",
       "      <td>1</td>\n",
       "    </tr>\n",
       "    <tr>\n",
       "      <td>71339</td>\n",
       "      <td>347057</td>\n",
       "      <td>679</td>\n",
       "      <td>2015</td>\n",
       "      <td>1</td>\n",
       "      <td>2</td>\n",
       "      <td>20447918</td>\n",
       "      <td>961.0</td>\n",
       "      <td>960.0</td>\n",
       "      <td>820.0</td>\n",
       "      <td>1128.0</td>\n",
       "      <td>...</td>\n",
       "      <td>1510.0</td>\n",
       "      <td>580.0</td>\n",
       "      <td>969.0</td>\n",
       "      <td>1635.0</td>\n",
       "      <td>895.0</td>\n",
       "      <td>2140.0</td>\n",
       "      <td>1182.0</td>\n",
       "      <td>1020.0</td>\n",
       "      <td>1293.0</td>\n",
       "      <td>1</td>\n",
       "    </tr>\n",
       "  </tbody>\n",
       "</table>\n",
       "<p>5 rows × 67 columns</p>\n",
       "</div>"
      ],
      "text/plain": [
       "          Num     y  year  week  shift   item_id     f1      f2      f3  \\\n",
       "72232  349294  2720  2015     2      1  20447918  820.0  1128.0  1801.0   \n",
       "72007  348397  2720  2015     2      2  20447918  960.0   820.0  1128.0   \n",
       "71786  348176   679  2015     1      1  20447918  960.0   820.0  1128.0   \n",
       "71560  347278  2720  2015     2      3  20447918  961.0   960.0   820.0   \n",
       "71339  347057   679  2015     1      2  20447918  961.0   960.0   820.0   \n",
       "\n",
       "           f4  ...     f52     f53     f54     f55     f56     f57     f58  \\\n",
       "72232  1045.0  ...   969.0  1635.0   895.0  2140.0  1182.0  1020.0  1293.0   \n",
       "72007  1801.0  ...   580.0   969.0  1635.0   895.0  2140.0  1182.0  1020.0   \n",
       "71786  1801.0  ...   580.0   969.0  1635.0   895.0  2140.0  1182.0  1020.0   \n",
       "71560  1128.0  ...  1510.0   580.0   969.0  1635.0   895.0  2140.0  1182.0   \n",
       "71339  1128.0  ...  1510.0   580.0   969.0  1635.0   895.0  2140.0  1182.0   \n",
       "\n",
       "          f59     f60  is_train  \n",
       "72232  1290.0   422.0         1  \n",
       "72007  1293.0  1290.0         1  \n",
       "71786  1293.0  1290.0         1  \n",
       "71560  1020.0  1293.0         1  \n",
       "71339  1020.0  1293.0         1  \n",
       "\n",
       "[5 rows x 67 columns]"
      ]
     },
     "execution_count": 9,
     "metadata": {},
     "output_type": "execute_result"
    }
   ],
   "source": [
    "train.loc[train['item_id'] ==20447918].sort_values(by=['Num'], ascending=False).head()"
   ]
  },
  {
   "cell_type": "code",
   "execution_count": 10,
   "metadata": {},
   "outputs": [
    {
     "name": "stderr",
     "output_type": "stream",
     "text": [
      "C:\\Users\\shcherbakov2-ia\\AppData\\Local\\Continuum\\Anaconda3\\lib\\site-packages\\pandas\\compat\\_optional.py:106: UserWarning: Pandas requires version '2.6.2' or newer of 'numexpr' (version '2.6.1' currently installed).\n",
      "  warnings.warn(msg, UserWarning)\n"
     ]
    },
    {
     "data": {
      "text/plain": [
       "0"
      ]
     },
     "execution_count": 10,
     "metadata": {},
     "output_type": "execute_result"
    }
   ],
   "source": [
    "((test.loc[test['item_id'] ==20447918]==2720).sum()>0).sum()"
   ]
  },
  {
   "cell_type": "code",
   "execution_count": 11,
   "metadata": {},
   "outputs": [
    {
     "data": {
      "text/plain": [
       "Num           351528.0\n",
       "year            2015.0\n",
       "week               5.0\n",
       "shift              3.0\n",
       "item_id     20453563.0\n",
       "               ...    \n",
       "f57          2679487.0\n",
       "f58          2679487.0\n",
       "f59          2679487.0\n",
       "f60          2547676.0\n",
       "is_train           0.0\n",
       "Length: 66, dtype: float64"
      ]
     },
     "execution_count": 11,
     "metadata": {},
     "output_type": "execute_result"
    }
   ],
   "source": [
    "test.max()"
   ]
  },
  {
   "cell_type": "code",
   "execution_count": 12,
   "metadata": {},
   "outputs": [
    {
     "data": {
      "image/png": "[encoded data removed]",
      "text/plain": [
       "<matplotlib.figure.Figure at 0x1809fe80>"
      ]
     },
     "metadata": {},
     "output_type": "display_data"
    }
   ],
   "source": [
    "train['Num'].hist(bins=1000)\n",
    "test['Num'].hist(bins=1000, color='red')\n",
    "plt.show()"
   ]
  },
  {
   "cell_type": "code",
   "execution_count": 17,
   "metadata": {},
   "outputs": [
    {
     "data": {
      "image/png": "[encoded data removed]",
      "text/plain": [
       "<matplotlib.figure.Figure at 0x1b7554e0>"
      ]
     },
     "metadata": {},
     "output_type": "display_data"
    }
   ],
   "source": [
    "train.groupby(by=['year', 'week'])['Num'].count().plot()\n",
    "plt.show()"
   ]
  },
  {
   "cell_type": "code",
   "execution_count": 18,
   "metadata": {},
   "outputs": [
    {
     "data": {
      "image/png": "[encoded data removed]",
      "text/plain": [
       "<matplotlib.figure.Figure at 0x1bdc6908>"
      ]
     },
     "metadata": {},
     "output_type": "display_data"
    }
   ],
   "source": [
    "test.groupby(by=['year', 'week'])['Num'].count().plot()\n",
    "plt.show()"
   ]
  },
  {
   "cell_type": "markdown",
   "metadata": {},
   "source": [
    "# Разбиение на подвыборки"
   ]
  },
  {
   "cell_type": "code",
   "execution_count": 19,
   "metadata": {
    "collapsed": true
   },
   "outputs": [],
   "source": [
    "from sklearn.model_selection import train_test_split\n",
    "\n",
    "dev,valid = train_test_split(full_data.loc[full_data['is_train']==1],test_size=0.3)"
   ]
  },
  {
   "cell_type": "code",
   "execution_count": 20,
   "metadata": {
    "collapsed": true
   },
   "outputs": [],
   "source": [
    "dev_y = dev['y']\n",
    "dev_X = dev.drop(['y', 'is_train'],axis=1)\n",
    "\n",
    "valid_y = valid['y']\n",
    "valid_X = valid.drop(['y', 'is_train'],axis=1)"
   ]
  },
  {
   "cell_type": "code",
   "execution_count": 21,
   "metadata": {
    "collapsed": true
   },
   "outputs": [],
   "source": [
    "test_X = full_data.loc[full_data['is_train']==0].drop(['y', 'is_train'], axis=1)"
   ]
  },
  {
   "cell_type": "markdown",
   "metadata": {},
   "source": [
    "# Построение модели"
   ]
  },
  {
   "cell_type": "code",
   "execution_count": 22,
   "metadata": {
    "collapsed": true
   },
   "outputs": [],
   "source": [
    "import lightgbm as lgbm\n",
    "import numpy as np\n",
    "from sklearn.metrics import mean_absolute_error"
   ]
  },
  {
   "cell_type": "code",
   "execution_count": 24,
   "metadata": {
    "collapsed": true
   },
   "outputs": [],
   "source": [
    "def smape(f,a):\n",
    "    top = np.fabs(f-a)\n",
    "    bot = (np.fabs(f) + np.fabs(a))/2\n",
    "    return np.sum(100/len(a) * top/bot)"
   ]
  },
  {
   "cell_type": "code",
   "execution_count": 25,
   "metadata": {},
   "outputs": [
    {
     "data": {
      "text/plain": [
       "LGBMRegressor(boosting_type='gbdt', class_weight=None, colsample_bytree=1.0,\n",
       "       importance_type='split', learning_rate=0.1, max_depth=-1,\n",
       "       min_child_samples=20, min_child_weight=0.001, min_split_gain=0.0,\n",
       "       n_estimators=200, n_jobs=-1, num_leaves=31, objective='rmse',\n",
       "       random_state=None, reg_alpha=0.0, reg_lambda=0.0, silent=True,\n",
       "       subsample=1.0, subsample_for_bin=200000, subsample_freq=0)"
      ]
     },
     "execution_count": 25,
     "metadata": {},
     "output_type": "execute_result"
    }
   ],
   "source": [
    "reg = lgbm.LGBMRegressor(objective='rmse', n_estimators=200)\n",
    "reg.fit(dev_X, dev_y)"
   ]
  },
  {
   "cell_type": "code",
   "execution_count": 26,
   "metadata": {
    "collapsed": true
   },
   "outputs": [],
   "source": [
    "reg.evals_result_"
   ]
  },
  {
   "cell_type": "code",
   "execution_count": 27,
   "metadata": {},
   "outputs": [
    {
     "name": "stdout",
     "output_type": "stream",
     "text": [
      "39.618924323886134\n",
      "39.576385334596246\n"
     ]
    }
   ],
   "source": [
    "valid_predictions = reg.predict(valid_X)\n",
    "dev_predictions = reg.predict(dev_X)\n",
    "print(smape(valid_predictions, valid_y))\n",
    "print(smape(dev_predictions, dev_y))"
   ]
  },
  {
   "cell_type": "code",
   "execution_count": null,
   "metadata": {
    "collapsed": true
   },
   "outputs": [],
   "source": []
  },
  {
   "cell_type": "code",
   "execution_count": 28,
   "metadata": {
    "collapsed": true
   },
   "outputs": [],
   "source": [
    "test_predictions = reg.predict(test_X)"
   ]
  },
  {
   "cell_type": "code",
   "execution_count": 29,
   "metadata": {
    "collapsed": true
   },
   "outputs": [],
   "source": [
    "sample_submission['y']=test_predictions"
   ]
  },
  {
   "cell_type": "code",
   "execution_count": 36,
   "metadata": {},
   "outputs": [],
   "source": [
    "import datetime\n",
    "sample_submission.to_csv('submissions/submission_{}.csv'.format(datetime.datetime.now().strftime(\"%Y%m%d_%H%M%S\")))"
   ]
  }
 ],
 "metadata": {
  "kernelspec": {
   "display_name": "Python 3",
   "language": "python",
   "name": "python3"
  },
  "language_info": {
   "codemirror_mode": {
    "name": "ipython",
    "version": 3
   },
   "file_extension": ".py",
   "mimetype": "text/x-python",
   "name": "python",
   "nbconvert_exporter": "python",
   "pygments_lexer": "ipython3",
   "version": "3.7.4"
  }
 },
 "nbformat": 4,
 "nbformat_minor": 1
}
