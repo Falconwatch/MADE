{
 "cells": [
  {
   "cell_type": "code",
   "execution_count": 188,
   "metadata": {},
   "outputs": [],
   "source": [
    "import pandas as pd\n",
    "import numpy as np\n",
    "import gzip\n",
    "import seaborn as sns\n",
    "import xgboost as xgb\n",
    "from sklearn.datasets import load_svmlight_file\n",
    "import datetime\n",
    "from hyperopt import hp, tpe\n",
    "from hyperopt.fmin import fmin"
   ]
  },
  {
   "cell_type": "markdown",
   "metadata": {},
   "source": [
    "# Чтение данных"
   ]
  },
  {
   "cell_type": "code",
   "execution_count": 133,
   "metadata": {},
   "outputs": [],
   "source": [
    "full_train_data = load_svmlight_file('data/train.txt.gz', query_id=True, dtype=np.float16)"
   ]
  },
  {
   "cell_type": "code",
   "execution_count": 125,
   "metadata": {},
   "outputs": [],
   "source": [
    "test_data = load_svmlight_file('data/test.txt.gz', query_id=True, dtype=np.float16)"
   ]
  },
  {
   "cell_type": "code",
   "execution_count": 144,
   "metadata": {},
   "outputs": [],
   "source": [
    "# Выделяем трейн и валидацию\n",
    "cut_off = 373134\n",
    "train_data = (full_train_data[0][:cut_off], full_train_data[1][:cut_off], full_train_data[2][:cut_off])\n",
    "valid_data = (full_train_data[0][cut_off:], full_train_data[1][cut_off:], full_train_data[2][cut_off:])"
   ]
  },
  {
   "cell_type": "markdown",
   "metadata": {},
   "source": [
    "# Model"
   ]
  },
  {
   "cell_type": "code",
   "execution_count": 213,
   "metadata": {},
   "outputs": [],
   "source": [
    "#full_train\n",
    "full_train_dataset = xgb.DMatrix(full_train_data[0], label=full_train_data[1], missing=0)\n",
    "full_train_unique, full_train_counts = np.unique(full_train_data[2], return_counts=True)\n",
    "full_train_dataset.set_group(full_train_counts)"
   ]
  },
  {
   "cell_type": "code",
   "execution_count": 4,
   "metadata": {},
   "outputs": [],
   "source": [
    "#train\n",
    "train_dataset = xgb.DMatrix(train_data[0], label=train_data[1], missing=0)\n",
    "train_unique, train_counts = np.unique(train_data[2], return_counts=True)\n",
    "train_dataset.set_group(train_counts)"
   ]
  },
  {
   "cell_type": "code",
   "execution_count": 147,
   "metadata": {},
   "outputs": [],
   "source": [
    "#valid\n",
    "valid_dataset = xgb.DMatrix(valid_data[0], label=valid_data[1], missing=0)\n",
    "valid_unique, valid_counts = np.unique(valid_data[2], return_counts=True)\n",
    "valid_dataset.set_group(valid_counts)"
   ]
  },
  {
   "cell_type": "code",
   "execution_count": 26,
   "metadata": {},
   "outputs": [],
   "source": [
    "#test\n",
    "test_dataset = xgb.DMatrix(test_data[0], label=test_data[1], missing=0)\n",
    "test_unique, test_counts = np.unique(test_data[2], return_counts=True)\n",
    "test_dataset.set_group(test_counts)"
   ]
  },
  {
   "cell_type": "markdown",
   "metadata": {},
   "source": [
    "## подбор параметров"
   ]
  },
  {
   "cell_type": "markdown",
   "metadata": {},
   "source": [
    "#model\n",
    "params = {'objective': 'rank:ndcg', 'eta':0.1, 'gamma':1.0, 'min_child_weight':0.1, 'max_depth': 6}"
   ]
  },
  {
   "cell_type": "code",
   "execution_count": 193,
   "metadata": {},
   "outputs": [],
   "source": [
    "def hyperopt_xgb_score(params):\n",
    "    model = xgb.train(params, train_dataset)\n",
    "    eval_result = model.eval(valid_dataset)\n",
    "    score = float(eval_result[eval_result.index('.')-1:])\n",
    "    return -score"
   ]
  },
  {
   "cell_type": "code",
   "execution_count": 194,
   "metadata": {},
   "outputs": [],
   "source": [
    "simple_space_xgb = {\n",
    "            'objective': 'rank:ndcg', \n",
    "            'gamma':hp.quniform('gamma', 0.025, 2, 0.25),\n",
    "            'min_child_weight':0.1, \n",
    "            'n_estimators': hp.choice('n_estimators', range(100, 1000)),\n",
    "            'eta': hp.quniform('eta', 0.025, 0.5, 0.025),\n",
    "            'max_depth':  hp.choice('max_depth', np.arange(1, 14, dtype=int)),\n",
    "}"
   ]
  },
  {
   "cell_type": "code",
   "execution_count": 195,
   "metadata": {},
   "outputs": [
    {
     "name": "stdout",
     "output_type": "stream",
     "text": [
      "100%|█████████████████████████████████████████████████████████| 10/10 [10:12<00:00, 72.84s/trial, best loss: -0.880678]\n",
      "best:\n",
      "{'eta': 0.4, 'gamma': 0.75, 'max_depth': 9, 'n_estimators': 885}\n"
     ]
    }
   ],
   "source": [
    "best = fmin(fn=hyperopt_xgb_score, space=simple_space_xgb, algo=tpe.suggest, max_evals=10)\n",
    "print('best:')\n",
    "print(best)"
   ]
  },
  {
   "cell_type": "markdown",
   "metadata": {},
   "source": [
    "## final model"
   ]
  },
  {
   "cell_type": "code",
   "execution_count": 211,
   "metadata": {},
   "outputs": [],
   "source": [
    "additional_params = {'objective': 'rank:ndcg', 'min_child_weight':0.1}\n",
    "final_params = dict(best, **additional_params)"
   ]
  },
  {
   "cell_type": "code",
   "execution_count": 221,
   "metadata": {},
   "outputs": [
    {
     "data": {
      "text/plain": [
       "{'eta': 0.4,\n",
       " 'gamma': 0.75,\n",
       " 'max_depth': 9,\n",
       " 'n_estimators': 885,\n",
       " 'objective': 'rank:ndcg',\n",
       " 'min_child_weight': 0.1}"
      ]
     },
     "execution_count": 221,
     "metadata": {},
     "output_type": "execute_result"
    }
   ],
   "source": [
    "final_params"
   ]
  },
  {
   "cell_type": "code",
   "execution_count": 214,
   "metadata": {},
   "outputs": [],
   "source": [
    "final_model = xgb.train(final_params, full_train_dataset)"
   ]
  },
  {
   "cell_type": "code",
   "execution_count": 215,
   "metadata": {},
   "outputs": [],
   "source": [
    "#predictions\n",
    "#full_train_prediction = final_model.predict(full_train_dataset)\n",
    "test_prediction = final_model.predict(test_dataset)"
   ]
  },
  {
   "cell_type": "markdown",
   "metadata": {},
   "source": [
    "# Submission"
   ]
  },
  {
   "cell_type": "code",
   "execution_count": 216,
   "metadata": {},
   "outputs": [],
   "source": [
    "sample_submission = pd.read_csv('data/sample.made.fall.2019')"
   ]
  },
  {
   "cell_type": "code",
   "execution_count": 217,
   "metadata": {},
   "outputs": [],
   "source": [
    "sample_submission['predicted'] = test_prediction"
   ]
  },
  {
   "cell_type": "code",
   "execution_count": 218,
   "metadata": {},
   "outputs": [
    {
     "data": {
      "text/html": [
       "<div>\n",
       "<style scoped>\n",
       "    .dataframe tbody tr th:only-of-type {\n",
       "        vertical-align: middle;\n",
       "    }\n",
       "\n",
       "    .dataframe tbody tr th {\n",
       "        vertical-align: top;\n",
       "    }\n",
       "\n",
       "    .dataframe thead th {\n",
       "        text-align: right;\n",
       "    }\n",
       "</style>\n",
       "<table border=\"1\" class=\"dataframe\">\n",
       "  <thead>\n",
       "    <tr style=\"text-align: right;\">\n",
       "      <th></th>\n",
       "      <th>QueryId</th>\n",
       "      <th>DocumentId</th>\n",
       "      <th>predicted</th>\n",
       "    </tr>\n",
       "  </thead>\n",
       "  <tbody>\n",
       "    <tr>\n",
       "      <th>0</th>\n",
       "      <td>19945</td>\n",
       "      <td>1</td>\n",
       "      <td>0.313466</td>\n",
       "    </tr>\n",
       "    <tr>\n",
       "      <th>1</th>\n",
       "      <td>19945</td>\n",
       "      <td>2</td>\n",
       "      <td>0.464219</td>\n",
       "    </tr>\n",
       "    <tr>\n",
       "      <th>2</th>\n",
       "      <td>19945</td>\n",
       "      <td>3</td>\n",
       "      <td>0.813083</td>\n",
       "    </tr>\n",
       "    <tr>\n",
       "      <th>3</th>\n",
       "      <td>19945</td>\n",
       "      <td>4</td>\n",
       "      <td>1.103751</td>\n",
       "    </tr>\n",
       "    <tr>\n",
       "      <th>4</th>\n",
       "      <td>19945</td>\n",
       "      <td>5</td>\n",
       "      <td>0.724924</td>\n",
       "    </tr>\n",
       "  </tbody>\n",
       "</table>\n",
       "</div>"
      ],
      "text/plain": [
       "   QueryId  DocumentId  predicted\n",
       "0    19945           1   0.313466\n",
       "1    19945           2   0.464219\n",
       "2    19945           3   0.813083\n",
       "3    19945           4   1.103751\n",
       "4    19945           5   0.724924"
      ]
     },
     "execution_count": 218,
     "metadata": {},
     "output_type": "execute_result"
    }
   ],
   "source": [
    "sample_submission.head()"
   ]
  },
  {
   "cell_type": "code",
   "execution_count": 219,
   "metadata": {},
   "outputs": [],
   "source": [
    "# Находим топовые 5 документы для каждого запроса\n",
    "df_agg = sample_submission.groupby(['QueryId', 'DocumentId']).agg({'predicted':'sum'})\n",
    "g = df_agg['predicted'].groupby(level=0, group_keys=False)\n",
    "sorted_g = g.nlargest(5)"
   ]
  },
  {
   "cell_type": "code",
   "execution_count": 220,
   "metadata": {},
   "outputs": [],
   "source": [
    "# Готовим и сохраняем результат\n",
    "result = sorted_g.reset_index().drop(['predicted'], axis=1)\n",
    "result.to_csv('submission/submission_{}'.format(datetime.datetime.today().strftime(\"%y%m%d_%H-%M-%S\")),\n",
    "             index=False)"
   ]
  },
  {
   "cell_type": "code",
   "execution_count": null,
   "metadata": {},
   "outputs": [],
   "source": []
  }
 ],
 "metadata": {
  "kernelspec": {
   "display_name": "Python 3",
   "language": "python",
   "name": "python3"
  },
  "language_info": {
   "codemirror_mode": {
    "name": "ipython",
    "version": 3
   },
   "file_extension": ".py",
   "mimetype": "text/x-python",
   "name": "python",
   "nbconvert_exporter": "python",
   "pygments_lexer": "ipython3",
   "version": "3.7.4"
  }
 },
 "nbformat": 4,
 "nbformat_minor": 2
}
