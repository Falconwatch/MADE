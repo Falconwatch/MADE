{
 "cells": [
  {
   "cell_type": "code",
   "execution_count": 1,
   "metadata": {},
   "outputs": [],
   "source": [
    "import pandas as pd\n",
    "import numpy as np\n",
    "import gzip\n",
    "import seaborn as sns"
   ]
  },
  {
   "cell_type": "code",
   "execution_count": 2,
   "metadata": {},
   "outputs": [],
   "source": [
    "MAX_ROWS=100"
   ]
  },
  {
   "cell_type": "markdown",
   "metadata": {},
   "source": [
    "# Чтение данных\n",
    "## В массив"
   ]
  },
  {
   "cell_type": "code",
   "execution_count": 3,
   "metadata": {},
   "outputs": [],
   "source": [
    "def count_lines(filename):\n",
    "    with gzip.open(filename, mode='rb') as fp:\n",
    "        for i, l in enumerate(fp):\n",
    "                pass\n",
    "        return min(MAX_ROWS, i + 1)"
   ]
  },
  {
   "cell_type": "code",
   "execution_count": 4,
   "metadata": {},
   "outputs": [],
   "source": [
    "#Считаем число строк в файле\n",
    "total_lines = count_lines('data/train.txt.gz')"
   ]
  },
  {
   "cell_type": "code",
   "execution_count": 5,
   "metadata": {},
   "outputs": [],
   "source": [
    "#создаём место для хранения данных\n",
    "data = np.zeros([total_lines, 701], dtype=np.float32)"
   ]
  },
  {
   "cell_type": "code",
   "execution_count": 6,
   "metadata": {},
   "outputs": [],
   "source": [
    "def line_to_data(line, row_num, data):\n",
    "    line_arr = line.split()\n",
    "    row_id = line_arr[0]\n",
    "    qid = line_arr[1][4:]\n",
    "    features = line_arr[2:]\n",
    "    \n",
    "    data[row_num, 0] = row_id\n",
    "    data[row_num, 1] = qid\n",
    "    \n",
    "    for f in features:\n",
    "        f_splited = f.split(':')\n",
    "        f_id = int(f_splited[0])\n",
    "        f_value = float(f_splited[1])\n",
    "        data[row_num, f_id+1] = f_value\n",
    "    \n",
    "    #print(qid)"
   ]
  },
  {
   "cell_type": "code",
   "execution_count": 7,
   "metadata": {},
   "outputs": [],
   "source": [
    "row_num=0\n",
    "with gzip.open('data/train.txt.gz', mode='rb') as fp:\n",
    "    line = fp.readline().decode(\"utf-8\")\n",
    "    while line and row_num<MAX_ROWS:\n",
    "        line_to_data(line,row_num, data)\n",
    "        line = fp.readline().decode(\"utf-8\")\n",
    "        row_num+=1"
   ]
  },
  {
   "cell_type": "code",
   "execution_count": 8,
   "metadata": {},
   "outputs": [],
   "source": [
    "columns_names = ['target', 'qid'] + ['f{}'.format(i) for i in range(1,700)]"
   ]
  },
  {
   "cell_type": "code",
   "execution_count": 9,
   "metadata": {},
   "outputs": [],
   "source": [
    "pd_data = pd.DataFrame(data, columns=columns_names)"
   ]
  },
  {
   "cell_type": "code",
   "execution_count": 33,
   "metadata": {},
   "outputs": [
    {
     "data": {
      "text/html": [
       "<div>\n",
       "<style scoped>\n",
       "    .dataframe tbody tr th:only-of-type {\n",
       "        vertical-align: middle;\n",
       "    }\n",
       "\n",
       "    .dataframe tbody tr th {\n",
       "        vertical-align: top;\n",
       "    }\n",
       "\n",
       "    .dataframe thead th {\n",
       "        text-align: right;\n",
       "    }\n",
       "</style>\n",
       "<table border=\"1\" class=\"dataframe\">\n",
       "  <thead>\n",
       "    <tr style=\"text-align: right;\">\n",
       "      <th></th>\n",
       "      <th>target</th>\n",
       "      <th>qid</th>\n",
       "      <th>f1</th>\n",
       "      <th>f2</th>\n",
       "      <th>f3</th>\n",
       "      <th>f4</th>\n",
       "      <th>f5</th>\n",
       "      <th>f6</th>\n",
       "      <th>f7</th>\n",
       "      <th>f8</th>\n",
       "      <th>...</th>\n",
       "      <th>f690</th>\n",
       "      <th>f691</th>\n",
       "      <th>f692</th>\n",
       "      <th>f693</th>\n",
       "      <th>f694</th>\n",
       "      <th>f695</th>\n",
       "      <th>f696</th>\n",
       "      <th>f697</th>\n",
       "      <th>f698</th>\n",
       "      <th>f699</th>\n",
       "    </tr>\n",
       "  </thead>\n",
       "  <tbody>\n",
       "    <tr>\n",
       "      <th>1</th>\n",
       "      <td>1.0</td>\n",
       "      <td>2.0</td>\n",
       "      <td>0.69466</td>\n",
       "      <td>0.0</td>\n",
       "      <td>0.0</td>\n",
       "      <td>0.0</td>\n",
       "      <td>0.0</td>\n",
       "      <td>0.0</td>\n",
       "      <td>0.00000</td>\n",
       "      <td>0.00000</td>\n",
       "      <td>...</td>\n",
       "      <td>0.436210</td>\n",
       "      <td>0.00000</td>\n",
       "      <td>0.00000</td>\n",
       "      <td>0.56675</td>\n",
       "      <td>0.42868</td>\n",
       "      <td>0.93979</td>\n",
       "      <td>0.0</td>\n",
       "      <td>0.046567</td>\n",
       "      <td>0.00000</td>\n",
       "      <td>0.331660</td>\n",
       "    </tr>\n",
       "    <tr>\n",
       "      <th>2</th>\n",
       "      <td>0.0</td>\n",
       "      <td>2.0</td>\n",
       "      <td>0.69466</td>\n",
       "      <td>0.0</td>\n",
       "      <td>0.0</td>\n",
       "      <td>0.0</td>\n",
       "      <td>0.0</td>\n",
       "      <td>0.0</td>\n",
       "      <td>0.00000</td>\n",
       "      <td>0.00000</td>\n",
       "      <td>...</td>\n",
       "      <td>0.517750</td>\n",
       "      <td>0.00000</td>\n",
       "      <td>0.00000</td>\n",
       "      <td>0.60493</td>\n",
       "      <td>0.61661</td>\n",
       "      <td>0.00000</td>\n",
       "      <td>0.0</td>\n",
       "      <td>0.046567</td>\n",
       "      <td>0.00000</td>\n",
       "      <td>0.054559</td>\n",
       "    </tr>\n",
       "    <tr>\n",
       "      <th>3</th>\n",
       "      <td>1.0</td>\n",
       "      <td>2.0</td>\n",
       "      <td>0.00000</td>\n",
       "      <td>0.0</td>\n",
       "      <td>0.0</td>\n",
       "      <td>0.0</td>\n",
       "      <td>0.0</td>\n",
       "      <td>0.0</td>\n",
       "      <td>0.00000</td>\n",
       "      <td>0.00000</td>\n",
       "      <td>...</td>\n",
       "      <td>0.477390</td>\n",
       "      <td>0.00000</td>\n",
       "      <td>0.00000</td>\n",
       "      <td>0.45516</td>\n",
       "      <td>0.62137</td>\n",
       "      <td>0.00000</td>\n",
       "      <td>0.0</td>\n",
       "      <td>0.046567</td>\n",
       "      <td>0.00000</td>\n",
       "      <td>0.257380</td>\n",
       "    </tr>\n",
       "    <tr>\n",
       "      <th>4</th>\n",
       "      <td>0.0</td>\n",
       "      <td>2.0</td>\n",
       "      <td>0.69466</td>\n",
       "      <td>0.0</td>\n",
       "      <td>0.0</td>\n",
       "      <td>0.0</td>\n",
       "      <td>0.0</td>\n",
       "      <td>0.0</td>\n",
       "      <td>0.72026</td>\n",
       "      <td>0.00000</td>\n",
       "      <td>...</td>\n",
       "      <td>0.233560</td>\n",
       "      <td>0.00000</td>\n",
       "      <td>0.79836</td>\n",
       "      <td>0.74476</td>\n",
       "      <td>0.63885</td>\n",
       "      <td>0.00000</td>\n",
       "      <td>0.0</td>\n",
       "      <td>0.046567</td>\n",
       "      <td>0.95019</td>\n",
       "      <td>0.918180</td>\n",
       "    </tr>\n",
       "    <tr>\n",
       "      <th>5</th>\n",
       "      <td>1.0</td>\n",
       "      <td>2.0</td>\n",
       "      <td>0.69466</td>\n",
       "      <td>0.0</td>\n",
       "      <td>0.0</td>\n",
       "      <td>0.0</td>\n",
       "      <td>0.0</td>\n",
       "      <td>0.0</td>\n",
       "      <td>0.72026</td>\n",
       "      <td>0.00000</td>\n",
       "      <td>...</td>\n",
       "      <td>0.212190</td>\n",
       "      <td>0.00000</td>\n",
       "      <td>0.79836</td>\n",
       "      <td>0.54263</td>\n",
       "      <td>0.83300</td>\n",
       "      <td>0.00000</td>\n",
       "      <td>0.0</td>\n",
       "      <td>0.046567</td>\n",
       "      <td>0.00000</td>\n",
       "      <td>0.580950</td>\n",
       "    </tr>\n",
       "    <tr>\n",
       "      <th>6</th>\n",
       "      <td>0.0</td>\n",
       "      <td>2.0</td>\n",
       "      <td>0.69466</td>\n",
       "      <td>0.0</td>\n",
       "      <td>0.0</td>\n",
       "      <td>0.0</td>\n",
       "      <td>0.0</td>\n",
       "      <td>0.0</td>\n",
       "      <td>0.00000</td>\n",
       "      <td>0.00000</td>\n",
       "      <td>...</td>\n",
       "      <td>0.431110</td>\n",
       "      <td>0.00000</td>\n",
       "      <td>0.00000</td>\n",
       "      <td>0.37610</td>\n",
       "      <td>0.15473</td>\n",
       "      <td>0.00000</td>\n",
       "      <td>0.0</td>\n",
       "      <td>0.046567</td>\n",
       "      <td>0.00000</td>\n",
       "      <td>0.747590</td>\n",
       "    </tr>\n",
       "    <tr>\n",
       "      <th>7</th>\n",
       "      <td>1.0</td>\n",
       "      <td>2.0</td>\n",
       "      <td>0.69466</td>\n",
       "      <td>0.0</td>\n",
       "      <td>0.0</td>\n",
       "      <td>0.0</td>\n",
       "      <td>0.0</td>\n",
       "      <td>0.0</td>\n",
       "      <td>0.00000</td>\n",
       "      <td>0.00000</td>\n",
       "      <td>...</td>\n",
       "      <td>0.091483</td>\n",
       "      <td>0.00000</td>\n",
       "      <td>0.00000</td>\n",
       "      <td>0.66763</td>\n",
       "      <td>0.82181</td>\n",
       "      <td>0.00000</td>\n",
       "      <td>0.0</td>\n",
       "      <td>0.046567</td>\n",
       "      <td>0.00000</td>\n",
       "      <td>0.123190</td>\n",
       "    </tr>\n",
       "    <tr>\n",
       "      <th>8</th>\n",
       "      <td>1.0</td>\n",
       "      <td>2.0</td>\n",
       "      <td>0.69466</td>\n",
       "      <td>0.0</td>\n",
       "      <td>0.0</td>\n",
       "      <td>0.0</td>\n",
       "      <td>0.0</td>\n",
       "      <td>0.0</td>\n",
       "      <td>0.00000</td>\n",
       "      <td>0.00000</td>\n",
       "      <td>...</td>\n",
       "      <td>0.600460</td>\n",
       "      <td>0.00000</td>\n",
       "      <td>0.00000</td>\n",
       "      <td>0.57230</td>\n",
       "      <td>0.51449</td>\n",
       "      <td>0.00000</td>\n",
       "      <td>0.0</td>\n",
       "      <td>0.046567</td>\n",
       "      <td>0.61889</td>\n",
       "      <td>0.538870</td>\n",
       "    </tr>\n",
       "    <tr>\n",
       "      <th>9</th>\n",
       "      <td>0.0</td>\n",
       "      <td>2.0</td>\n",
       "      <td>0.69466</td>\n",
       "      <td>0.0</td>\n",
       "      <td>0.0</td>\n",
       "      <td>0.0</td>\n",
       "      <td>0.0</td>\n",
       "      <td>0.0</td>\n",
       "      <td>0.72026</td>\n",
       "      <td>0.67074</td>\n",
       "      <td>...</td>\n",
       "      <td>0.233770</td>\n",
       "      <td>0.00000</td>\n",
       "      <td>0.79836</td>\n",
       "      <td>0.74476</td>\n",
       "      <td>0.63840</td>\n",
       "      <td>0.00000</td>\n",
       "      <td>0.0</td>\n",
       "      <td>0.046567</td>\n",
       "      <td>0.95019</td>\n",
       "      <td>0.920190</td>\n",
       "    </tr>\n",
       "    <tr>\n",
       "      <th>10</th>\n",
       "      <td>1.0</td>\n",
       "      <td>2.0</td>\n",
       "      <td>0.74142</td>\n",
       "      <td>0.0</td>\n",
       "      <td>0.0</td>\n",
       "      <td>0.0</td>\n",
       "      <td>0.0</td>\n",
       "      <td>0.0</td>\n",
       "      <td>0.00000</td>\n",
       "      <td>0.00000</td>\n",
       "      <td>...</td>\n",
       "      <td>0.308390</td>\n",
       "      <td>0.94150</td>\n",
       "      <td>0.00000</td>\n",
       "      <td>0.67381</td>\n",
       "      <td>0.56087</td>\n",
       "      <td>0.98705</td>\n",
       "      <td>0.0</td>\n",
       "      <td>0.046567</td>\n",
       "      <td>0.61889</td>\n",
       "      <td>0.038934</td>\n",
       "    </tr>\n",
       "    <tr>\n",
       "      <th>11</th>\n",
       "      <td>0.0</td>\n",
       "      <td>2.0</td>\n",
       "      <td>0.00000</td>\n",
       "      <td>0.0</td>\n",
       "      <td>0.0</td>\n",
       "      <td>0.0</td>\n",
       "      <td>0.0</td>\n",
       "      <td>0.0</td>\n",
       "      <td>0.66270</td>\n",
       "      <td>0.00000</td>\n",
       "      <td>...</td>\n",
       "      <td>0.843340</td>\n",
       "      <td>0.00000</td>\n",
       "      <td>0.75096</td>\n",
       "      <td>0.60895</td>\n",
       "      <td>0.61021</td>\n",
       "      <td>0.98705</td>\n",
       "      <td>0.0</td>\n",
       "      <td>0.046567</td>\n",
       "      <td>0.00000</td>\n",
       "      <td>0.351860</td>\n",
       "    </tr>\n",
       "    <tr>\n",
       "      <th>12</th>\n",
       "      <td>1.0</td>\n",
       "      <td>2.0</td>\n",
       "      <td>0.74142</td>\n",
       "      <td>0.0</td>\n",
       "      <td>0.0</td>\n",
       "      <td>0.0</td>\n",
       "      <td>0.0</td>\n",
       "      <td>0.0</td>\n",
       "      <td>0.66270</td>\n",
       "      <td>0.00000</td>\n",
       "      <td>...</td>\n",
       "      <td>0.660680</td>\n",
       "      <td>0.95695</td>\n",
       "      <td>0.75096</td>\n",
       "      <td>0.70145</td>\n",
       "      <td>0.79750</td>\n",
       "      <td>0.87672</td>\n",
       "      <td>0.0</td>\n",
       "      <td>0.046567</td>\n",
       "      <td>0.86567</td>\n",
       "      <td>0.156080</td>\n",
       "    </tr>\n",
       "    <tr>\n",
       "      <th>13</th>\n",
       "      <td>1.0</td>\n",
       "      <td>2.0</td>\n",
       "      <td>0.74142</td>\n",
       "      <td>0.0</td>\n",
       "      <td>0.0</td>\n",
       "      <td>0.0</td>\n",
       "      <td>0.0</td>\n",
       "      <td>0.0</td>\n",
       "      <td>0.66270</td>\n",
       "      <td>0.00000</td>\n",
       "      <td>...</td>\n",
       "      <td>0.728160</td>\n",
       "      <td>0.93891</td>\n",
       "      <td>0.75096</td>\n",
       "      <td>0.71486</td>\n",
       "      <td>0.52387</td>\n",
       "      <td>0.00000</td>\n",
       "      <td>0.0</td>\n",
       "      <td>0.046567</td>\n",
       "      <td>0.86567</td>\n",
       "      <td>0.123190</td>\n",
       "    </tr>\n",
       "  </tbody>\n",
       "</table>\n",
       "<p>13 rows × 701 columns</p>\n",
       "</div>"
      ],
      "text/plain": [
       "    target  qid       f1   f2   f3   f4   f5   f6       f7       f8  ...  \\\n",
       "1      1.0  2.0  0.69466  0.0  0.0  0.0  0.0  0.0  0.00000  0.00000  ...   \n",
       "2      0.0  2.0  0.69466  0.0  0.0  0.0  0.0  0.0  0.00000  0.00000  ...   \n",
       "3      1.0  2.0  0.00000  0.0  0.0  0.0  0.0  0.0  0.00000  0.00000  ...   \n",
       "4      0.0  2.0  0.69466  0.0  0.0  0.0  0.0  0.0  0.72026  0.00000  ...   \n",
       "5      1.0  2.0  0.69466  0.0  0.0  0.0  0.0  0.0  0.72026  0.00000  ...   \n",
       "6      0.0  2.0  0.69466  0.0  0.0  0.0  0.0  0.0  0.00000  0.00000  ...   \n",
       "7      1.0  2.0  0.69466  0.0  0.0  0.0  0.0  0.0  0.00000  0.00000  ...   \n",
       "8      1.0  2.0  0.69466  0.0  0.0  0.0  0.0  0.0  0.00000  0.00000  ...   \n",
       "9      0.0  2.0  0.69466  0.0  0.0  0.0  0.0  0.0  0.72026  0.67074  ...   \n",
       "10     1.0  2.0  0.74142  0.0  0.0  0.0  0.0  0.0  0.00000  0.00000  ...   \n",
       "11     0.0  2.0  0.00000  0.0  0.0  0.0  0.0  0.0  0.66270  0.00000  ...   \n",
       "12     1.0  2.0  0.74142  0.0  0.0  0.0  0.0  0.0  0.66270  0.00000  ...   \n",
       "13     1.0  2.0  0.74142  0.0  0.0  0.0  0.0  0.0  0.66270  0.00000  ...   \n",
       "\n",
       "        f690     f691     f692     f693     f694     f695  f696      f697  \\\n",
       "1   0.436210  0.00000  0.00000  0.56675  0.42868  0.93979   0.0  0.046567   \n",
       "2   0.517750  0.00000  0.00000  0.60493  0.61661  0.00000   0.0  0.046567   \n",
       "3   0.477390  0.00000  0.00000  0.45516  0.62137  0.00000   0.0  0.046567   \n",
       "4   0.233560  0.00000  0.79836  0.74476  0.63885  0.00000   0.0  0.046567   \n",
       "5   0.212190  0.00000  0.79836  0.54263  0.83300  0.00000   0.0  0.046567   \n",
       "6   0.431110  0.00000  0.00000  0.37610  0.15473  0.00000   0.0  0.046567   \n",
       "7   0.091483  0.00000  0.00000  0.66763  0.82181  0.00000   0.0  0.046567   \n",
       "8   0.600460  0.00000  0.00000  0.57230  0.51449  0.00000   0.0  0.046567   \n",
       "9   0.233770  0.00000  0.79836  0.74476  0.63840  0.00000   0.0  0.046567   \n",
       "10  0.308390  0.94150  0.00000  0.67381  0.56087  0.98705   0.0  0.046567   \n",
       "11  0.843340  0.00000  0.75096  0.60895  0.61021  0.98705   0.0  0.046567   \n",
       "12  0.660680  0.95695  0.75096  0.70145  0.79750  0.87672   0.0  0.046567   \n",
       "13  0.728160  0.93891  0.75096  0.71486  0.52387  0.00000   0.0  0.046567   \n",
       "\n",
       "       f698      f699  \n",
       "1   0.00000  0.331660  \n",
       "2   0.00000  0.054559  \n",
       "3   0.00000  0.257380  \n",
       "4   0.95019  0.918180  \n",
       "5   0.00000  0.580950  \n",
       "6   0.00000  0.747590  \n",
       "7   0.00000  0.123190  \n",
       "8   0.61889  0.538870  \n",
       "9   0.95019  0.920190  \n",
       "10  0.61889  0.038934  \n",
       "11  0.00000  0.351860  \n",
       "12  0.86567  0.156080  \n",
       "13  0.86567  0.123190  \n",
       "\n",
       "[13 rows x 701 columns]"
      ]
     },
     "execution_count": 33,
     "metadata": {},
     "output_type": "execute_result"
    }
   ],
   "source": [
    "pd_data[pd_data['qid']==2]"
   ]
  },
  {
   "cell_type": "code",
   "execution_count": 26,
   "metadata": {},
   "outputs": [
    {
     "name": "stdout",
     "output_type": "stream",
     "text": [
      "-1 qid:19945 1:0.74142 6:0.90265 7:0.8087 8:0.79522 9:0.80003 11:0.56756 12:0.064688 17:0.073248 20:0.93213 21:0.12578 27:0.18431 28:0.75984 30:0.75616 32:0.80374 34:0.46928 36:0.51765 37:0.46008 39:0.42788 41:0.9826 43:0.93182 60:0.99684 66:0.18497 69:0.30373 70:0.52142 74:0.94942 77:0.89376 78:0.85719 81:0.77314 83:0.89759 85:0.98183 91:0.74024 96:0.9819 98:0.32739 100:0.87782 101:0.84892 106:0.81369 108:0.78162 111:0.85131 114:0.9235 117:0.85842 120:0.95352 121:0.99884 122:0.56699 123:0.76794 124:0.91751 126:0.5439 127:0.69889 129:0.97271 133:0.91559 135:0.93894 140:0.45073 145:0.77475 146:0.42512 147:0.49064 149:0.95668 150:0.85673 151:0.98853 152:0.88489 153:0.95202 154:0.93017 155:0.66796 158:0.92355 159:0.7989 161:0.57391 162:0.71503 164:0.91417 165:0.88161 167:0.67808 169:0.85342 172:0.61216 173:0.15927 176:0.72929 177:0.37921 179:0.3318 181:0.93793 186:0.85566 187:0.86598 189:0.91859 191:0.82201 192:0.58598 195:0.91437 201:0.74086 202:0.87428 204:0.88737 206:0.81369 208:0.64296 212:0.42076 215:0.84426 216:0.75077 222:0.84324 227:2.6864e-05 230:0.86841 232:0.82201 233:0.75833 235:0.2163 238:0.89518 241:0.5208 242:0.6115 243:0.15693 245:0.81496 246:1.592e-05 247:0.47267 248:0.98077 253:0.98868 255:0.78773 256:0.90503 259:0.21316 260:0.95566 261:0.88441 265:0.35005 266:0.75205 267:0.58909 268:0.90102 271:0.97757 276:0.80338 279:0.8579 282:0.88427 283:0.8173 285:0.61591 287:1.592e-05 290:0.9235 297:0.36042 299:0.9741 300:0.69827 304:0.45073 305:0.29073 309:0.7008 312:0.98368 317:0.92684 320:0.99306 322:0.85719 325:0.49284 326:0.81728 329:0.1479 330:0.92685 331:0.8337 332:0.72552 335:0.90619 337:0.51314 341:0.10517 342:0.76807 344:0.72056 345:0.95889 347:0.14837 348:0.71954 349:0.13472 350:0.48687 355:0.84486 356:0.75552 359:0.78497 362:0.86444 363:0.90429 366:0.94054 372:0.96589 374:2.1889e-05 376:0.96586 377:3.2834e-05 379:0.90963 381:0.62368 382:0.52157 383:0.48098 384:0.29073 385:0.57718 389:0.75439 392:0.81369 393:0.77473 397:0.92368 399:0.63044 400:0.90043 404:0.85138 405:0.91041 408:0.85328 410:0.92146 414:0.89 418:0.48033 421:0.5314 426:0.76414 427:0.53058 432:0.80435 433:0.46958 437:0.28232 438:0.8717 440:0.75329 442:0.77041 444:0.89039 445:0.85825 446:0.56687 447:0.8393 450:0.88989 451:0.24292 456:0.73988 457:0.98368 458:0.65528 461:0.9872 463:0.90391 465:0.56012 468:3.6814e-05 472:0.61592 474:0.79283 475:0.73668 476:0.86119 477:0.84212 478:0.85842 479:0.85842 480:0.70647 481:0.61462 483:0.79078 485:0.87234 486:0.80071 488:3.5819e-05 489:0.83944 492:0.87274 493:0.85842 494:0.87274 497:0.91091 499:0.86363 502:0.8313 504:0.68842 505:0.34733 507:0.63187 508:0.78928 511:0.93047 513:0.93646 514:0.42767 515:0.49254 518:0.83519 521:0.92571 533:0.65104 534:0.91781 535:0.61068 537:0.57992 538:0.30386 540:0.32748 541:0.51183 542:0.57705 548:0.84562 550:0.7735 556:0.86742 558:0.89601 562:0.90936 563:0.86762 570:0.49137 574:0.6252 575:0.48739 578:0.62757 579:0.84066 585:0.34954 586:0.14837 587:0.87049 595:0.95712 596:0.54471 600:0.74838 602:0.9197 603:0.19573 604:0.98406 605:0.92097 606:0.77935 607:0.31399 611:0.70193 614:0.87892 616:0.64438 618:0.90257 620:0.99142 621:0.82696 622:0.95566 629:0.81369 631:0.92518 636:1.6915e-05 637:0.55389 638:0.86347 640:0.23813 641:0.94636 642:0.90398 643:0.96876 644:0.70561 647:0.61399 648:0.0034565 656:0.89241 657:0.8859 659:0.88208 664:0.88409 665:0.37079 669:0.39332 674:0.46194 677:0.82599 687:0.43149 690:0.77653 692:0.88569 693:0.93784 694:0.40828 697:0.046567 698:0.86567 699:0.20164\n",
      "\n"
     ]
    }
   ],
   "source": [
    "with gzip.open('data/test.txt.gz', mode='rb') as fp:\n",
    "    line = fp.readline().decode(\"utf-8\")\n",
    "    print(line)"
   ]
  },
  {
   "cell_type": "code",
   "execution_count": 27,
   "metadata": {},
   "outputs": [
    {
     "data": {
      "text/plain": [
       "<matplotlib.axes._subplots.AxesSubplot at 0x112858f0>"
      ]
     },
     "execution_count": 27,
     "metadata": {},
     "output_type": "execute_result"
    },
    {
     "data": {
      "image/png": "[encoded data removed]",
      "text/plain": [
       "<Figure size 432x288 with 2 Axes>"
      ]
     },
     "metadata": {
      "needs_background": "light"
     },
     "output_type": "display_data"
    }
   ],
   "source": [
    "sns.heatmap(pd_data==0)"
   ]
  },
  {
   "cell_type": "code",
   "execution_count": null,
   "metadata": {},
   "outputs": [],
   "source": [
    "(pd_data>0).sum()"
   ]
  },
  {
   "cell_type": "code",
   "execution_count": null,
   "metadata": {},
   "outputs": [],
   "source": [
    "data"
   ]
  },
  {
   "cell_type": "code",
   "execution_count": null,
   "metadata": {},
   "outputs": [],
   "source": [
    "#Обработать массив фичей\n",
    "def features_to_dict(features):\n",
    "    result = dict()\n",
    "    for f in features:\n",
    "        splited_feature = f.split(':')\n",
    "        result[splited_feature[0]] = splited_feature[1]\n",
    "    return result\n",
    "    \n",
    "#Обработать одну строку из файла   \n",
    "def process_one_line(line):\n",
    "    line_arr = line.split()\n",
    "    obs = dict()\n",
    "    obs['row_id'] = line_arr[0]\n",
    "    obs['qid'] = line_arr[1][4:]\n",
    "    features = features_to_dict(line_arr[2:])\n",
    "    result = dict(obs, **features)\n",
    "    return result"
   ]
  },
  {
   "cell_type": "code",
   "execution_count": null,
   "metadata": {},
   "outputs": [],
   "source": [
    "observations = list()"
   ]
  },
  {
   "cell_type": "code",
   "execution_count": null,
   "metadata": {},
   "outputs": [],
   "source": [
    "len(observations)"
   ]
  },
  {
   "cell_type": "code",
   "execution_count": null,
   "metadata": {},
   "outputs": [],
   "source": [
    "observations[3]"
   ]
  },
  {
   "cell_type": "code",
   "execution_count": null,
   "metadata": {},
   "outputs": [],
   "source": [
    "with gzip.open('data/train.txt.gz', mode='rb') as fp:\n",
    "    line = fp.readline().decode(\"utf-8\")\n",
    "    while line:\n",
    "        observations.append(process_one_line(line))\n",
    "        line = fp.readline().decode(\"utf-8\")"
   ]
  },
  {
   "cell_type": "code",
   "execution_count": null,
   "metadata": {},
   "outputs": [],
   "source": [
    "observations"
   ]
  },
  {
   "cell_type": "code",
   "execution_count": null,
   "metadata": {},
   "outputs": [],
   "source": [
    "pd.read_csv('data/train.txt.gz')"
   ]
  },
  {
   "cell_type": "code",
   "execution_count": null,
   "metadata": {},
   "outputs": [],
   "source": [
    "%pip install --update pandas\n",
    "\n"
   ]
  },
  {
   "cell_type": "code",
   "execution_count": null,
   "metadata": {},
   "outputs": [],
   "source": [
    "train"
   ]
  },
  {
   "cell_type": "code",
   "execution_count": null,
   "metadata": {},
   "outputs": [],
   "source": [
    "train.loc[1]"
   ]
  },
  {
   "cell_type": "code",
   "execution_count": null,
   "metadata": {},
   "outputs": [],
   "source": [
    "train.loc[2000:2010].apply(lambda x: str(x).split(' '), axis=1)"
   ]
  },
  {
   "cell_type": "code",
   "execution_count": null,
   "metadata": {},
   "outputs": [],
   "source": [
    "train.loc[1000:1010].apply(lambda x: str(x).split(' '), axis=1)"
   ]
  },
  {
   "cell_type": "code",
   "execution_count": null,
   "metadata": {},
   "outputs": [],
   "source": [
    "train.loc[100000:100010].apply(lambda x: str(x).split(' '), axis=1)"
   ]
  },
  {
   "cell_type": "code",
   "execution_count": null,
   "metadata": {},
   "outputs": [],
   "source": [
    "train.apply(lambda x: str(x).split(' '), axis=1)"
   ]
  },
  {
   "cell_type": "code",
   "execution_count": null,
   "metadata": {},
   "outputs": [],
   "source": [
    "len(train.loc[0][0])"
   ]
  },
  {
   "cell_type": "code",
   "execution_count": null,
   "metadata": {},
   "outputs": [],
   "source": [
    "len(train.loc[1][0])"
   ]
  },
  {
   "cell_type": "code",
   "execution_count": null,
   "metadata": {},
   "outputs": [],
   "source": [
    "len(train.loc[2][0])"
   ]
  }
 ],
 "metadata": {
  "kernelspec": {
   "display_name": "Python 3",
   "language": "python",
   "name": "python3"
  },
  "language_info": {
   "codemirror_mode": {
    "name": "ipython",
    "version": 3
   },
   "file_extension": ".py",
   "mimetype": "text/x-python",
   "name": "python",
   "nbconvert_exporter": "python",
   "pygments_lexer": "ipython3",
   "version": "3.7.3"
  }
 },
 "nbformat": 4,
 "nbformat_minor": 2
}
