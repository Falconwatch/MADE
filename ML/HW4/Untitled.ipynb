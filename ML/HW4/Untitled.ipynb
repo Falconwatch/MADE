{
 "cells": [
  {
   "cell_type": "code",
   "execution_count": 1,
   "metadata": {},
   "outputs": [],
   "source": [
    "import pandas as pd\n",
    "import json\n",
    "import numpy as np\n",
    "import datetime"
   ]
  },
  {
   "cell_type": "markdown",
   "metadata": {},
   "source": [
    "# Чтение данных"
   ]
  },
  {
   "cell_type": "code",
   "execution_count": 2,
   "metadata": {},
   "outputs": [],
   "source": [
    "# файл с разметкой\n",
    "with open('data/cluster_final_cut_train.json') as f:\n",
    "    train = json.load(f)\n",
    "    \n",
    "train_pd = pd.DataFrame.from_dict(train, orient='index').reset_index()\n",
    "train_pd.columns = ['id', 'label']\n",
    "train_pd['id']=train_pd['id'].astype(np.int64)"
   ]
  },
  {
   "cell_type": "code",
   "execution_count": 3,
   "metadata": {},
   "outputs": [],
   "source": [
    "# файл с документами\n",
    "with open('data/cosmo_content_storage_final_cut.jsonl', 'r', encoding='utf-8') as f:\n",
    "    lines = f.readlines()\n",
    "documents = [json.loads(l) for l in lines]\n",
    "\n",
    "ids = [d['doc_id'] for d in documents]\n",
    "urls = [d['url'] for d in documents]\n",
    "texts = [d.get('description', None) for d in documents]\n",
    "\n",
    "documents_pd = pd.DataFrame()\n",
    "documents_pd['id'] = ids\n",
    "documents_pd['url'] = urls\n",
    "documents_pd['text'] = texts"
   ]
  },
  {
   "cell_type": "code",
   "execution_count": 4,
   "metadata": {},
   "outputs": [],
   "source": [
    "data = pd.merge(documents_pd, train_pd, left_on='id', right_on='id', how='left')\n",
    "data.to_csv('processed_data/data.csv')"
   ]
  },
  {
   "cell_type": "markdown",
   "metadata": {},
   "source": [
    "# Преобразование данных"
   ]
  },
  {
   "cell_type": "code",
   "execution_count": 5,
   "metadata": {},
   "outputs": [],
   "source": [
    "import nltk\n",
    "from nltk.corpus import stopwords\n",
    "from string import punctuation\n",
    "from nltk.stem.snowball import SnowballStemmer"
   ]
  },
  {
   "cell_type": "code",
   "execution_count": 62,
   "metadata": {},
   "outputs": [],
   "source": [
    "punctuation=punctuation+'«»'"
   ]
  },
  {
   "cell_type": "code",
   "execution_count": 65,
   "metadata": {},
   "outputs": [],
   "source": [
    "#Create lemmatizer and stopwords list\n",
    "stemmer = SnowballStemmer(\"russian\") \n",
    "russian_stopwords = stopwords.words(\"russian\")\n",
    "\n",
    "#Preprocess function\n",
    "def preprocess_text(text):\n",
    "    def del_punct(token):\n",
    "        return ''.join([l for l in token if l not in punctuation])\n",
    "    \n",
    "    if not text:\n",
    "        return []\n",
    "    \n",
    "    #в токены\n",
    "    tokens = text.lower().split(' ')\n",
    "    #удалить пунктуацию\n",
    "    tokens = [del_punct(t) for t in tokens]\n",
    "    #удалить стоп-слова\n",
    "    tokens = [t for t in tokens if t not in punctuation]\n",
    "    #стэмминг\n",
    "    tokens = [stemmer.stem(t) for t in tokens]\n",
    "    #удалить стоп-слова\n",
    "    tokens = [t for t in tokens if t not in russian_stopwords]\n",
    "    \n",
    "    return tokens"
   ]
  },
  {
   "cell_type": "code",
   "execution_count": null,
   "metadata": {},
   "outputs": [],
   "source": [
    "# Приведение тектс\n",
    "data['text_arr'] = data['text'].apply(preprocess_text)"
   ]
  },
  {
   "cell_type": "markdown",
   "metadata": {},
   "source": [
    "# Модель"
   ]
  },
  {
   "cell_type": "code",
   "execution_count": null,
   "metadata": {},
   "outputs": [],
   "source": []
  },
  {
   "cell_type": "markdown",
   "metadata": {},
   "source": [
    "# Submission"
   ]
  },
  {
   "cell_type": "code",
   "execution_count": null,
   "metadata": {},
   "outputs": [],
   "source": [
    "sample_submission = pd.read_csv('data/sample.txt')"
   ]
  },
  {
   "cell_type": "code",
   "execution_count": null,
   "metadata": {},
   "outputs": [],
   "source": [
    "##\n",
    "submission = sample_submission"
   ]
  },
  {
   "cell_type": "code",
   "execution_count": null,
   "metadata": {},
   "outputs": [],
   "source": [
    "submission.to_csv('submissions/submission_{}'.format(datetime.datetime.now().strftime('%y%m%d_%H%m%S')), index=False)"
   ]
  }
 ],
 "metadata": {
  "kernelspec": {
   "display_name": "Python 3",
   "language": "python",
   "name": "python3"
  },
  "language_info": {
   "codemirror_mode": {
    "name": "ipython",
    "version": 3
   },
   "file_extension": ".py",
   "mimetype": "text/x-python",
   "name": "python",
   "nbconvert_exporter": "python",
   "pygments_lexer": "ipython3",
   "version": "3.7.3"
  }
 },
 "nbformat": 4,
 "nbformat_minor": 2
}
