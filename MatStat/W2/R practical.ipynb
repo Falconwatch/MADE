{
 "cells": [
  {
   "cell_type": "markdown",
   "metadata": {},
   "source": [
    "# 1"
   ]
  },
  {
   "cell_type": "code",
   "execution_count": 1,
   "metadata": {},
   "outputs": [
    {
     "data": {
      "text/html": [
       "-0.061589823786416"
      ],
      "text/latex": [
       "-0.061589823786416"
      ],
      "text/markdown": [
       "-0.061589823786416"
      ],
      "text/plain": [
       "[1] -0.06158982"
      ]
     },
     "metadata": {},
     "output_type": "display_data"
    },
    {
     "data": {
      "text/html": [
       "0.967871113397149"
      ],
      "text/latex": [
       "0.967871113397149"
      ],
      "text/markdown": [
       "0.967871113397149"
      ],
      "text/plain": [
       "[1] 0.9678711"
      ]
     },
     "metadata": {},
     "output_type": "display_data"
    }
   ],
   "source": [
    "z <- rnorm(100) ; mean(z); sd(z)"
   ]
  },
  {
   "cell_type": "markdown",
   "metadata": {},
   "source": [
    "# 3"
   ]
  },
  {
   "cell_type": "code",
   "execution_count": 4,
   "metadata": {},
   "outputs": [],
   "source": [
    "u = runif(10000)\n",
    "x = ifelse(u<0.5, sqrt((2*u))-1, 1-sqrt(2-2*u))"
   ]
  },
  {
   "cell_type": "code",
   "execution_count": 5,
   "metadata": {},
   "outputs": [
    {
     "data": {
      "text/html": [
       "0.00254960165202579"
      ],
      "text/latex": [
       "0.00254960165202579"
      ],
      "text/markdown": [
       "0.00254960165202579"
      ],
      "text/plain": [
       "[1] 0.002549602"
      ]
     },
     "metadata": {},
     "output_type": "display_data"
    }
   ],
   "source": [
    "mean(x)"
   ]
  },
  {
   "cell_type": "code",
   "execution_count": 6,
   "metadata": {},
   "outputs": [
    {
     "data": {
      "text/html": [
       "0.411296035547794"
      ],
      "text/latex": [
       "0.411296035547794"
      ],
      "text/markdown": [
       "0.411296035547794"
      ],
      "text/plain": [
       "[1] 0.411296"
      ]
     },
     "metadata": {},
     "output_type": "display_data"
    }
   ],
   "source": [
    "sd(x)"
   ]
  },
  {
   "cell_type": "code",
   "execution_count": null,
   "metadata": {},
   "outputs": [],
   "source": []
  },
  {
   "cell_type": "code",
   "execution_count": 7,
   "metadata": {},
   "outputs": [
    {
     "data": {
      "text/html": [
       "0.408248290463863"
      ],
      "text/latex": [
       "0.408248290463863"
      ],
      "text/markdown": [
       "0.408248290463863"
      ],
      "text/plain": [
       "[1] 0.4082483"
      ]
     },
     "metadata": {},
     "output_type": "display_data"
    }
   ],
   "source": [
    "1/sqrt(6)"
   ]
  },
  {
   "cell_type": "code",
   "execution_count": 10,
   "metadata": {},
   "outputs": [],
   "source": [
    "# practical 2"
   ]
  },
  {
   "cell_type": "markdown",
   "metadata": {},
   "source": [
    "## 1"
   ]
  },
  {
   "cell_type": "code",
   "execution_count": 13,
   "metadata": {},
   "outputs": [
    {
     "data": {
      "text/html": [
       "-0.98291739208271"
      ],
      "text/latex": [
       "-0.98291739208271"
      ],
      "text/markdown": [
       "-0.98291739208271"
      ],
      "text/plain": [
       "[1] -0.9829174"
      ]
     },
     "metadata": {},
     "output_type": "display_data"
    },
    {
     "data": {
      "text/html": [
       "0.989645182923252"
      ],
      "text/latex": [
       "0.989645182923252"
      ],
      "text/markdown": [
       "0.989645182923252"
      ],
      "text/plain": [
       "[1] 0.9896452"
      ]
     },
     "metadata": {},
     "output_type": "display_data"
    },
    {
     "data": {
      "text/html": [
       "0.00159728805905501"
      ],
      "text/latex": [
       "0.00159728805905501"
      ],
      "text/markdown": [
       "0.00159728805905501"
      ],
      "text/plain": [
       "[1] 0.001597288"
      ]
     },
     "metadata": {},
     "output_type": "display_data"
    }
   ],
   "source": [
    "min(x); max(x); median(x)"
   ]
  },
  {
   "cell_type": "code",
   "execution_count": 15,
   "metadata": {},
   "outputs": [],
   "source": [
    "?quantile"
   ]
  },
  {
   "cell_type": "code",
   "execution_count": 27,
   "metadata": {},
   "outputs": [
    {
     "data": {
      "text/html": [
       "<dl class=dl-horizontal>\n",
       "\t<dt>0%</dt>\n",
       "\t\t<dd>-0.98291739208271</dd>\n",
       "\t<dt>25%</dt>\n",
       "\t\t<dd>-0.289953556362605</dd>\n",
       "\t<dt>50%</dt>\n",
       "\t\t<dd>0.00159728805905501</dd>\n",
       "\t<dt>75%</dt>\n",
       "\t\t<dd>0.297256426210564</dd>\n",
       "\t<dt>100%</dt>\n",
       "\t\t<dd>0.989645182923252</dd>\n",
       "</dl>\n"
      ],
      "text/latex": [
       "\\begin{description*}\n",
       "\\item[0\\textbackslash{}\\%] -0.98291739208271\n",
       "\\item[25\\textbackslash{}\\%] -0.289953556362605\n",
       "\\item[50\\textbackslash{}\\%] 0.00159728805905501\n",
       "\\item[75\\textbackslash{}\\%] 0.297256426210564\n",
       "\\item[100\\textbackslash{}\\%] 0.989645182923252\n",
       "\\end{description*}\n"
      ],
      "text/markdown": [
       "0%\n",
       ":   -0.9829173920827125%\n",
       ":   -0.28995355636260550%\n",
       ":   0.0015972880590550175%\n",
       ":   0.297256426210564100%\n",
       ":   0.989645182923252\n",
       "\n"
      ],
      "text/plain": [
       "          0%          25%          50%          75%         100% \n",
       "-0.982917392 -0.289953556  0.001597288  0.297256426  0.989645183 "
      ]
     },
     "metadata": {},
     "output_type": "display_data"
    }
   ],
   "source": [
    "quantile(x)"
   ]
  },
  {
   "cell_type": "code",
   "execution_count": 17,
   "metadata": {},
   "outputs": [
    {
     "data": {
      "text/html": [
       "0.587209982573169"
      ],
      "text/latex": [
       "0.587209982573169"
      ],
      "text/markdown": [
       "0.587209982573169"
      ],
      "text/plain": [
       "[1] 0.58721"
      ]
     },
     "metadata": {},
     "output_type": "display_data"
    }
   ],
   "source": [
    "IQR(x)"
   ]
  },
  {
   "cell_type": "markdown",
   "metadata": {},
   "source": [
    "## 2"
   ]
  },
  {
   "cell_type": "code",
   "execution_count": 22,
   "metadata": {},
   "outputs": [],
   "source": [
    "?mean"
   ]
  },
  {
   "cell_type": "code",
   "execution_count": 21,
   "metadata": {},
   "outputs": [
    {
     "data": {
      "text/html": [
       "0.00332500199311561"
      ],
      "text/latex": [
       "0.00332500199311561"
      ],
      "text/markdown": [
       "0.00332500199311561"
      ],
      "text/plain": [
       "[1] 0.003325002"
      ]
     },
     "metadata": {},
     "output_type": "display_data"
    }
   ],
   "source": [
    "mean(x, trim=0.1)"
   ]
  },
  {
   "cell_type": "markdown",
   "metadata": {},
   "source": [
    "## 3"
   ]
  },
  {
   "cell_type": "code",
   "execution_count": null,
   "metadata": {},
   "outputs": [],
   "source": []
  },
  {
   "cell_type": "markdown",
   "metadata": {},
   "source": [
    "## 4"
   ]
  },
  {
   "cell_type": "code",
   "execution_count": 80,
   "metadata": {},
   "outputs": [],
   "source": [
    "y = c(0,1,8,0,472)"
   ]
  },
  {
   "cell_type": "code",
   "execution_count": 81,
   "metadata": {},
   "outputs": [
    {
     "data": {
      "text/html": [
       "98"
      ],
      "text/latex": [
       "98"
      ],
      "text/markdown": [
       "98"
      ],
      "text/plain": [
       "[1] 98"
      ]
     },
     "metadata": {},
     "output_type": "display_data"
    }
   ],
   "source": [
    "mean(y)"
   ]
  },
  {
   "cell_type": "code",
   "execution_count": 82,
   "metadata": {},
   "outputs": [
    {
     "data": {
      "text/html": [
       "8"
      ],
      "text/latex": [
       "8"
      ],
      "text/markdown": [
       "8"
      ],
      "text/plain": [
       "[1] 8"
      ]
     },
     "metadata": {},
     "output_type": "display_data"
    }
   ],
   "source": [
    "median(y)"
   ]
  },
  {
   "cell_type": "code",
   "execution_count": 87,
   "metadata": {},
   "outputs": [
    {
     "data": {
      "text/html": [
       "6"
      ],
      "text/latex": [
       "6"
      ],
      "text/markdown": [
       "6"
      ],
      "text/plain": [
       "[1] 6"
      ]
     },
     "metadata": {},
     "output_type": "display_data"
    }
   ],
   "source": [
    "mean(y, trim=0.2)"
   ]
  }
 ],
 "metadata": {
  "kernelspec": {
   "display_name": "R",
   "language": "R",
   "name": "ir"
  },
  "language_info": {
   "codemirror_mode": "r",
   "file_extension": ".r",
   "mimetype": "text/x-r-source",
   "name": "R",
   "pygments_lexer": "r",
   "version": "3.6.1"
  }
 },
 "nbformat": 4,
 "nbformat_minor": 2
}
