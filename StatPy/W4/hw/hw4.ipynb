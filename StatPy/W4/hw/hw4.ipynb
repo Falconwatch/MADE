{
 "cells": [
  {
   "cell_type": "markdown",
   "metadata": {},
   "source": [
    "# Статистический анализ данных / Python\n",
    "## Задание 4\n",
    "\n",
    "**Правила:**\n",
    "\n",
    "* Дедлайн **8 декаюря 23:59**.\n",
    "* Выполненную работу нужно отправить на почту ` mipt.stats@yandex.ru`, указав тему письма `\"[MADE19] Фамилия Имя - задание 4\"`. Квадратные скобки обязательны. Если письмо дошло, придет ответ от автоответчика.\n",
    "* Прислать нужно ноутбук и его pdf-версию (без архивов), которую можно сделать с помощью печати в файл через инструменты браузера.\n",
    "* Для выполнения задания используйте этот ноутбук в качествие основы, ничего не удаляя из него. \n",
    "* Разделяйте код вычислений и отрисовки графиков. Так будет удобнее вам и проверяющим.\n"
   ]
  },
  {
   "cell_type": "code",
   "execution_count": 1,
   "metadata": {},
   "outputs": [],
   "source": [
    "import numpy as np\n",
    "import pandas as pd\n",
    "import scipy.stats as sps\n",
    "import matplotlib.pyplot as plt\n",
    "import seaborn as sns\n",
    "from statsmodels.sandbox.stats.multicomp import multipletests\n",
    "from tqdm import tqdm_notebook"
   ]
  },
  {
   "cell_type": "markdown",
   "metadata": {},
   "source": [
    "\n",
    "__________________\n",
    "### Задача 1. (3 балла)\n",
    "\n",
    "С помощью критерия хи-квадрат проверьте, действительно ли код `sps.poisson(mu=5).rvs(size=1000)` генерирует выборку размера 1000 из пуассоновского распределения с параметром 5. \n",
    "\n",
    "*Указания*\n",
    "1. Не забудьте учесть условия применимости критерия хи-квадрат;\n",
    "2. Для вычисления плотности воспользуйтесь `sps.poisson(mu=5).pmf`;\n",
    "3. Для подсчета количества элементов в разбиении на множества воспользуйтесь `np.unique(sample, return_counts=True)`;\n",
    "4. Не нужно писать сколь-либо универсальный код, который одним нажатием кнопки проверяет гипотезу с учетом всех условий применимости критерия. Расписывайте код поэтапно, на каждый логический этап свой код для *конкретной* реализации выборки. Так проще реализовать, и проще проверять."
   ]
  },
  {
   "cell_type": "code",
   "execution_count": 2,
   "metadata": {},
   "outputs": [],
   "source": [
    "n=1000"
   ]
  },
  {
   "cell_type": "code",
   "execution_count": 3,
   "metadata": {},
   "outputs": [],
   "source": [
    "#генерим выборку\n",
    "x = sps.poisson(mu=5).rvs(size=n)\n",
    "\n",
    "#считаем частоты значений\n",
    "unique_values, freq = np.unique(x, return_counts=True)\n",
    "\n",
    "#оцениваем ожидаемые частоты\n",
    "expected_freq = [sps.poisson(mu=5).pmf(k)*n for k in unique_values]\n",
    "\n",
    "sample = pd.DataFrame()\n",
    "sample['value'] = unique_values\n",
    "sample['freq'] = freq\n",
    "sample['expected_freq'] = expected_freq"
   ]
  },
  {
   "cell_type": "code",
   "execution_count": 4,
   "metadata": {},
   "outputs": [
    {
     "data": {
      "text/html": [
       "<div>\n",
       "<style scoped>\n",
       "    .dataframe tbody tr th:only-of-type {\n",
       "        vertical-align: middle;\n",
       "    }\n",
       "\n",
       "    .dataframe tbody tr th {\n",
       "        vertical-align: top;\n",
       "    }\n",
       "\n",
       "    .dataframe thead th {\n",
       "        text-align: right;\n",
       "    }\n",
       "</style>\n",
       "<table border=\"1\" class=\"dataframe\">\n",
       "  <thead>\n",
       "    <tr style=\"text-align: right;\">\n",
       "      <th></th>\n",
       "      <th>value</th>\n",
       "      <th>freq</th>\n",
       "      <th>expected_freq</th>\n",
       "    </tr>\n",
       "  </thead>\n",
       "  <tbody>\n",
       "    <tr>\n",
       "      <th>0</th>\n",
       "      <td>0</td>\n",
       "      <td>8</td>\n",
       "      <td>6.737947</td>\n",
       "    </tr>\n",
       "    <tr>\n",
       "      <th>1</th>\n",
       "      <td>1</td>\n",
       "      <td>44</td>\n",
       "      <td>33.689735</td>\n",
       "    </tr>\n",
       "    <tr>\n",
       "      <th>2</th>\n",
       "      <td>2</td>\n",
       "      <td>79</td>\n",
       "      <td>84.224337</td>\n",
       "    </tr>\n",
       "    <tr>\n",
       "      <th>3</th>\n",
       "      <td>3</td>\n",
       "      <td>136</td>\n",
       "      <td>140.373896</td>\n",
       "    </tr>\n",
       "    <tr>\n",
       "      <th>4</th>\n",
       "      <td>4</td>\n",
       "      <td>200</td>\n",
       "      <td>175.467370</td>\n",
       "    </tr>\n",
       "    <tr>\n",
       "      <th>5</th>\n",
       "      <td>5</td>\n",
       "      <td>178</td>\n",
       "      <td>175.467370</td>\n",
       "    </tr>\n",
       "    <tr>\n",
       "      <th>6</th>\n",
       "      <td>6</td>\n",
       "      <td>126</td>\n",
       "      <td>146.222808</td>\n",
       "    </tr>\n",
       "    <tr>\n",
       "      <th>7</th>\n",
       "      <td>7</td>\n",
       "      <td>90</td>\n",
       "      <td>104.444863</td>\n",
       "    </tr>\n",
       "    <tr>\n",
       "      <th>8</th>\n",
       "      <td>8</td>\n",
       "      <td>63</td>\n",
       "      <td>65.278039</td>\n",
       "    </tr>\n",
       "    <tr>\n",
       "      <th>9</th>\n",
       "      <td>9</td>\n",
       "      <td>43</td>\n",
       "      <td>36.265577</td>\n",
       "    </tr>\n",
       "    <tr>\n",
       "      <th>10</th>\n",
       "      <td>10</td>\n",
       "      <td>15</td>\n",
       "      <td>18.132789</td>\n",
       "    </tr>\n",
       "    <tr>\n",
       "      <th>11</th>\n",
       "      <td>11</td>\n",
       "      <td>11</td>\n",
       "      <td>8.242177</td>\n",
       "    </tr>\n",
       "    <tr>\n",
       "      <th>12</th>\n",
       "      <td>12</td>\n",
       "      <td>3</td>\n",
       "      <td>3.434240</td>\n",
       "    </tr>\n",
       "    <tr>\n",
       "      <th>13</th>\n",
       "      <td>13</td>\n",
       "      <td>3</td>\n",
       "      <td>1.320862</td>\n",
       "    </tr>\n",
       "    <tr>\n",
       "      <th>14</th>\n",
       "      <td>14</td>\n",
       "      <td>1</td>\n",
       "      <td>0.471736</td>\n",
       "    </tr>\n",
       "  </tbody>\n",
       "</table>\n",
       "</div>"
      ],
      "text/plain": [
       "    value  freq  expected_freq\n",
       "0       0     8       6.737947\n",
       "1       1    44      33.689735\n",
       "2       2    79      84.224337\n",
       "3       3   136     140.373896\n",
       "4       4   200     175.467370\n",
       "5       5   178     175.467370\n",
       "6       6   126     146.222808\n",
       "7       7    90     104.444863\n",
       "8       8    63      65.278039\n",
       "9       9    43      36.265577\n",
       "10     10    15      18.132789\n",
       "11     11    11       8.242177\n",
       "12     12     3       3.434240\n",
       "13     13     3       1.320862\n",
       "14     14     1       0.471736"
      ]
     },
     "execution_count": 4,
     "metadata": {},
     "output_type": "execute_result"
    }
   ],
   "source": [
    "sample"
   ]
  },
  {
   "cell_type": "code",
   "execution_count": 5,
   "metadata": {},
   "outputs": [],
   "source": [
    "#Значения больше 10 объединямв один бакет\n",
    "critical = 11"
   ]
  },
  {
   "cell_type": "code",
   "execution_count": 6,
   "metadata": {},
   "outputs": [],
   "source": [
    "#статистика по объединённом бакету\n",
    "new_expected_freq = sample.loc[sample['value']>=critical, 'expected_freq'].sum()\n",
    "new_freq = sample.loc[sample['value']>=critical, 'freq'].sum()\n",
    "new_value='{}+'.format(critical)\n",
    "\n",
    "additional_sample = pd.DataFrame({'value': [new_value], 'freq':[new_freq], 'expected_freq':[new_expected_freq]})\n",
    "\n",
    "#выкидываем из старого сэмпла исключаемые редкие значения\n",
    "ok_sample = sample.loc[sample['value']<critical]\n",
    "\n",
    "#добавляем новый баке в сэмлп\n",
    "new_sample = ok_sample.append(additional_sample, ignore_index=True)"
   ]
  },
  {
   "cell_type": "code",
   "execution_count": 7,
   "metadata": {},
   "outputs": [
    {
     "data": {
      "text/html": [
       "<div>\n",
       "<style scoped>\n",
       "    .dataframe tbody tr th:only-of-type {\n",
       "        vertical-align: middle;\n",
       "    }\n",
       "\n",
       "    .dataframe tbody tr th {\n",
       "        vertical-align: top;\n",
       "    }\n",
       "\n",
       "    .dataframe thead th {\n",
       "        text-align: right;\n",
       "    }\n",
       "</style>\n",
       "<table border=\"1\" class=\"dataframe\">\n",
       "  <thead>\n",
       "    <tr style=\"text-align: right;\">\n",
       "      <th></th>\n",
       "      <th>value</th>\n",
       "      <th>freq</th>\n",
       "      <th>expected_freq</th>\n",
       "    </tr>\n",
       "  </thead>\n",
       "  <tbody>\n",
       "    <tr>\n",
       "      <th>0</th>\n",
       "      <td>0</td>\n",
       "      <td>8</td>\n",
       "      <td>6.737947</td>\n",
       "    </tr>\n",
       "    <tr>\n",
       "      <th>1</th>\n",
       "      <td>1</td>\n",
       "      <td>44</td>\n",
       "      <td>33.689735</td>\n",
       "    </tr>\n",
       "    <tr>\n",
       "      <th>2</th>\n",
       "      <td>2</td>\n",
       "      <td>79</td>\n",
       "      <td>84.224337</td>\n",
       "    </tr>\n",
       "    <tr>\n",
       "      <th>3</th>\n",
       "      <td>3</td>\n",
       "      <td>136</td>\n",
       "      <td>140.373896</td>\n",
       "    </tr>\n",
       "    <tr>\n",
       "      <th>4</th>\n",
       "      <td>4</td>\n",
       "      <td>200</td>\n",
       "      <td>175.467370</td>\n",
       "    </tr>\n",
       "    <tr>\n",
       "      <th>5</th>\n",
       "      <td>5</td>\n",
       "      <td>178</td>\n",
       "      <td>175.467370</td>\n",
       "    </tr>\n",
       "    <tr>\n",
       "      <th>6</th>\n",
       "      <td>6</td>\n",
       "      <td>126</td>\n",
       "      <td>146.222808</td>\n",
       "    </tr>\n",
       "    <tr>\n",
       "      <th>7</th>\n",
       "      <td>7</td>\n",
       "      <td>90</td>\n",
       "      <td>104.444863</td>\n",
       "    </tr>\n",
       "    <tr>\n",
       "      <th>8</th>\n",
       "      <td>8</td>\n",
       "      <td>63</td>\n",
       "      <td>65.278039</td>\n",
       "    </tr>\n",
       "    <tr>\n",
       "      <th>9</th>\n",
       "      <td>9</td>\n",
       "      <td>43</td>\n",
       "      <td>36.265577</td>\n",
       "    </tr>\n",
       "    <tr>\n",
       "      <th>10</th>\n",
       "      <td>10</td>\n",
       "      <td>15</td>\n",
       "      <td>18.132789</td>\n",
       "    </tr>\n",
       "    <tr>\n",
       "      <th>11</th>\n",
       "      <td>11+</td>\n",
       "      <td>18</td>\n",
       "      <td>13.469015</td>\n",
       "    </tr>\n",
       "  </tbody>\n",
       "</table>\n",
       "</div>"
      ],
      "text/plain": [
       "   value  freq  expected_freq\n",
       "0      0     8       6.737947\n",
       "1      1    44      33.689735\n",
       "2      2    79      84.224337\n",
       "3      3   136     140.373896\n",
       "4      4   200     175.467370\n",
       "5      5   178     175.467370\n",
       "6      6   126     146.222808\n",
       "7      7    90     104.444863\n",
       "8      8    63      65.278039\n",
       "9      9    43      36.265577\n",
       "10    10    15      18.132789\n",
       "11   11+    18      13.469015"
      ]
     },
     "execution_count": 7,
     "metadata": {},
     "output_type": "execute_result"
    }
   ],
   "source": [
    "new_sample"
   ]
  },
  {
   "cell_type": "code",
   "execution_count": 8,
   "metadata": {},
   "outputs": [],
   "source": [
    "#Подстраховка\n",
    "if np.min(new_sample['expected_freq'])<5:\n",
    "    raise BaseException('Не выполнен критерий применимости')"
   ]
  },
  {
   "cell_type": "code",
   "execution_count": 9,
   "metadata": {},
   "outputs": [
    {
     "data": {
      "text/plain": [
       "Power_divergenceResult(statistic=15.508705055596348, pvalue=0.16037199940778676)"
      ]
     },
     "execution_count": 9,
     "metadata": {},
     "output_type": "execute_result"
    }
   ],
   "source": [
    "#проверка критерия хи-вадрат\n",
    "sps.chisquare(new_sample['freq'], new_sample['expected_freq'])"
   ]
  },
  {
   "cell_type": "markdown",
   "metadata": {},
   "source": [
    "**Вывод:**"
   ]
  },
  {
   "cell_type": "markdown",
   "metadata": {},
   "source": [
    "Значение p-value высокое, оснований отвергать нулевую гипотезу о принадлежности полученной выборки распределению Пуассона с параметром 5 нет"
   ]
  },
  {
   "cell_type": "markdown",
   "metadata": {},
   "source": [
    "__________________\n",
    "### Задача 2. (5 баллов)\n",
    "\n",
    "\n",
    "Cкачайте данные <a href=\"http://archive.ics.uci.edu/ml/datasets/wine\">`wine dataset`</a>, взяв все колонки, кроме `Class`."
   ]
  },
  {
   "cell_type": "code",
   "execution_count": 10,
   "metadata": {},
   "outputs": [],
   "source": [
    "columns_ = ['class', 'Alcohol', 'Malic acid', 'Ash', 'Alcalinity of ash', 'Magnesium', 'Total phenols', 'Flavanoids', \n",
    "           'Nonflavanoid phenols', 'Proanthocyanins', 'Color intensity', 'Hue', 'OD280/OD315 of diluted wines', 'Proline' ]\n",
    "\n",
    "data = pd.read_csv('data/wine.data', header=None, names = columns_).drop(['class'], axis=1)"
   ]
  },
  {
   "cell_type": "code",
   "execution_count": 11,
   "metadata": {},
   "outputs": [
    {
     "data": {
      "text/html": [
       "<div>\n",
       "<style scoped>\n",
       "    .dataframe tbody tr th:only-of-type {\n",
       "        vertical-align: middle;\n",
       "    }\n",
       "\n",
       "    .dataframe tbody tr th {\n",
       "        vertical-align: top;\n",
       "    }\n",
       "\n",
       "    .dataframe thead th {\n",
       "        text-align: right;\n",
       "    }\n",
       "</style>\n",
       "<table border=\"1\" class=\"dataframe\">\n",
       "  <thead>\n",
       "    <tr style=\"text-align: right;\">\n",
       "      <th></th>\n",
       "      <th>Alcohol</th>\n",
       "      <th>Malic acid</th>\n",
       "      <th>Ash</th>\n",
       "      <th>Alcalinity of ash</th>\n",
       "      <th>Magnesium</th>\n",
       "      <th>Total phenols</th>\n",
       "      <th>Flavanoids</th>\n",
       "      <th>Nonflavanoid phenols</th>\n",
       "      <th>Proanthocyanins</th>\n",
       "      <th>Color intensity</th>\n",
       "      <th>Hue</th>\n",
       "      <th>OD280/OD315 of diluted wines</th>\n",
       "      <th>Proline</th>\n",
       "    </tr>\n",
       "  </thead>\n",
       "  <tbody>\n",
       "    <tr>\n",
       "      <th>0</th>\n",
       "      <td>14.23</td>\n",
       "      <td>1.71</td>\n",
       "      <td>2.43</td>\n",
       "      <td>15.6</td>\n",
       "      <td>127</td>\n",
       "      <td>2.80</td>\n",
       "      <td>3.06</td>\n",
       "      <td>0.28</td>\n",
       "      <td>2.29</td>\n",
       "      <td>5.64</td>\n",
       "      <td>1.04</td>\n",
       "      <td>3.92</td>\n",
       "      <td>1065</td>\n",
       "    </tr>\n",
       "    <tr>\n",
       "      <th>1</th>\n",
       "      <td>13.20</td>\n",
       "      <td>1.78</td>\n",
       "      <td>2.14</td>\n",
       "      <td>11.2</td>\n",
       "      <td>100</td>\n",
       "      <td>2.65</td>\n",
       "      <td>2.76</td>\n",
       "      <td>0.26</td>\n",
       "      <td>1.28</td>\n",
       "      <td>4.38</td>\n",
       "      <td>1.05</td>\n",
       "      <td>3.40</td>\n",
       "      <td>1050</td>\n",
       "    </tr>\n",
       "    <tr>\n",
       "      <th>2</th>\n",
       "      <td>13.16</td>\n",
       "      <td>2.36</td>\n",
       "      <td>2.67</td>\n",
       "      <td>18.6</td>\n",
       "      <td>101</td>\n",
       "      <td>2.80</td>\n",
       "      <td>3.24</td>\n",
       "      <td>0.30</td>\n",
       "      <td>2.81</td>\n",
       "      <td>5.68</td>\n",
       "      <td>1.03</td>\n",
       "      <td>3.17</td>\n",
       "      <td>1185</td>\n",
       "    </tr>\n",
       "    <tr>\n",
       "      <th>3</th>\n",
       "      <td>14.37</td>\n",
       "      <td>1.95</td>\n",
       "      <td>2.50</td>\n",
       "      <td>16.8</td>\n",
       "      <td>113</td>\n",
       "      <td>3.85</td>\n",
       "      <td>3.49</td>\n",
       "      <td>0.24</td>\n",
       "      <td>2.18</td>\n",
       "      <td>7.80</td>\n",
       "      <td>0.86</td>\n",
       "      <td>3.45</td>\n",
       "      <td>1480</td>\n",
       "    </tr>\n",
       "    <tr>\n",
       "      <th>4</th>\n",
       "      <td>13.24</td>\n",
       "      <td>2.59</td>\n",
       "      <td>2.87</td>\n",
       "      <td>21.0</td>\n",
       "      <td>118</td>\n",
       "      <td>2.80</td>\n",
       "      <td>2.69</td>\n",
       "      <td>0.39</td>\n",
       "      <td>1.82</td>\n",
       "      <td>4.32</td>\n",
       "      <td>1.04</td>\n",
       "      <td>2.93</td>\n",
       "      <td>735</td>\n",
       "    </tr>\n",
       "  </tbody>\n",
       "</table>\n",
       "</div>"
      ],
      "text/plain": [
       "   Alcohol  Malic acid   Ash  Alcalinity of ash  Magnesium  Total phenols  \\\n",
       "0    14.23        1.71  2.43               15.6        127           2.80   \n",
       "1    13.20        1.78  2.14               11.2        100           2.65   \n",
       "2    13.16        2.36  2.67               18.6        101           2.80   \n",
       "3    14.37        1.95  2.50               16.8        113           3.85   \n",
       "4    13.24        2.59  2.87               21.0        118           2.80   \n",
       "\n",
       "   Flavanoids  Nonflavanoid phenols  Proanthocyanins  Color intensity   Hue  \\\n",
       "0        3.06                  0.28             2.29             5.64  1.04   \n",
       "1        2.76                  0.26             1.28             4.38  1.05   \n",
       "2        3.24                  0.30             2.81             5.68  1.03   \n",
       "3        3.49                  0.24             2.18             7.80  0.86   \n",
       "4        2.69                  0.39             1.82             4.32  1.04   \n",
       "\n",
       "   OD280/OD315 of diluted wines  Proline  \n",
       "0                          3.92     1065  \n",
       "1                          3.40     1050  \n",
       "2                          3.17     1185  \n",
       "3                          3.45     1480  \n",
       "4                          2.93      735  "
      ]
     },
     "execution_count": 11,
     "metadata": {},
     "output_type": "execute_result"
    }
   ],
   "source": [
    "data.head()"
   ]
  },
  {
   "cell_type": "markdown",
   "metadata": {},
   "source": [
    "Для каждого параметра нарисуте Q-Q plot. Для наглядности и экономии места рисуйте графики в несколько столбцов, используя `plt.subplot`."
   ]
  },
  {
   "cell_type": "code",
   "execution_count": 12,
   "metadata": {},
   "outputs": [
    {
     "data": {
      "text/plain": [
       "(178, 13)"
      ]
     },
     "execution_count": 12,
     "metadata": {},
     "output_type": "execute_result"
    }
   ],
   "source": [
    "data.shape"
   ]
  },
  {
   "cell_type": "code",
   "execution_count": 13,
   "metadata": {},
   "outputs": [
    {
     "data": {
      "image/png": "[encoded data removed]",
      "text/plain": [
       "<Figure size 720x2160 with 14 Axes>"
      ]
     },
     "metadata": {
      "needs_background": "light"
     },
     "output_type": "display_data"
    }
   ],
   "source": [
    "fig, axes = plt.subplots(7,2, figsize=[10,30], gridspec_kw={'wspace':0.2, 'hspace':0.5} )\n",
    "for i in range(len(data.columns)):\n",
    "    col = i//7\n",
    "    row = i%7\n",
    "    #print(row, col)\n",
    "    sps.probplot(data[data.columns[i]], plot=axes[row, col])\n",
    "    axes[row, col].set_title(data.columns[i])\n",
    "    \n",
    "plt.show()   "
   ]
  },
  {
   "cell_type": "markdown",
   "metadata": {},
   "source": [
    "Для каких параметров можно говорить об их нормальности и почему?"
   ]
  },
  {
   "cell_type": "markdown",
   "metadata": {},
   "source": [
    "**Ответ:** Судя по графикам Q-Q почти нормально распределены (эмпирические квантили совпадают с теоретическими) переменные Alcanity of ash, Hue, Ash, Total phenols, Proanthocyanins, Alcohol, Nonflavanoid phenols"
   ]
  },
  {
   "cell_type": "markdown",
   "metadata": {},
   "source": [
    "Проверьте нормальность каждого параметра статистическими критериями. Прежде чем выполнить следующую часть задачи, ответьте на вопросы.\n",
    "\n",
    "Для каждого параметра используйте несколько критериев проверки нормальности. Какие критерии вы будете использовать?"
   ]
  },
  {
   "cell_type": "markdown",
   "metadata": {},
   "source": [
    "**Ответ:** Критерий Шапиро-Уилка, Критерий хи-квадрат, критерий Колмогорова-Смирнова"
   ]
  },
  {
   "cell_type": "markdown",
   "metadata": {},
   "source": [
    "Результаты критериев нужно обработать с помощью *одной* процедуры множественной проверки гипотез для всех параметров и всех критериев сразу. Почему так нужно делать?"
   ]
  },
  {
   "cell_type": "markdown",
   "metadata": {},
   "source": [
    "**Ответ:** различные критерии могут оценивать схожесть распределений по различным свойствам, поэтому нужно проверять по нескольким критериям и проводить множественную проверку гипотез"
   ]
  },
  {
   "cell_type": "markdown",
   "metadata": {},
   "source": [
    "Какой метод для контроля FWER стоит применить и почему?"
   ]
  },
  {
   "cell_type": "markdown",
   "metadata": {},
   "source": [
    "**Ответ:** Методы Бонферрони и Холма, т.к. они универсальны и не зависят от связей между статистиками. Так же попробую метод Шидака для интереса"
   ]
  },
  {
   "cell_type": "markdown",
   "metadata": {},
   "source": [
    "Как понять из результата процедуры множественной проверки гипотез, нормальность каких параметров следует отклонить?"
   ]
  },
  {
   "cell_type": "markdown",
   "metadata": {},
   "source": [
    "**Ответ:** Отклонить гипотезу о нормальности тех параметров, где хотя бы по одному критерию гипотеза была отклонена"
   ]
  },
  {
   "cell_type": "markdown",
   "metadata": {},
   "source": [
    "Если нормальность не отклоняется, что можно сказать про выборку (ответ в презентации с лекции)? "
   ]
  },
  {
   "cell_type": "markdown",
   "metadata": {},
   "source": [
    "**Ответ:** Выборка согласуется с основной гипотезой"
   ]
  },
  {
   "cell_type": "markdown",
   "metadata": {},
   "source": [
    "Реализуйте данную схему. Предварительно соберите p-value всех критериев в таблицу. \n",
    "\n",
    "Функция `multipletests` принимает только одномерные массивы, поэтому для полученной `numpy`-таблицы нужно воспользоваться методом `ravel`. Результат нужно собрать обратно в таблицу с помощью метода `reshape`, которому нужно передать размерности таблицы. Для наглядности сделайте таблицу с помощью `pandas.DataFrame`. В качестве названий строк используйте названия переменных, а названий столбцов --- используемые критерии."
   ]
  },
  {
   "cell_type": "code",
   "execution_count": 14,
   "metadata": {},
   "outputs": [],
   "source": [
    "def test_nomality(x):\n",
    "    shapiro_stat = sps.shapiro(x)\n",
    "    ks_stat = sps.kstest(x, sps.norm.cdf, args=(np.mean(x), np.std(x)))\n",
    "    chi2_stat = sps.normaltest(x)\n",
    "    return [shapiro_stat[1], ks_stat[1], chi2_stat[1]]"
   ]
  },
  {
   "cell_type": "code",
   "execution_count": 15,
   "metadata": {},
   "outputs": [
    {
     "data": {
      "text/html": [
       "<div>\n",
       "<style scoped>\n",
       "    .dataframe tbody tr th:only-of-type {\n",
       "        vertical-align: middle;\n",
       "    }\n",
       "\n",
       "    .dataframe tbody tr th {\n",
       "        vertical-align: top;\n",
       "    }\n",
       "\n",
       "    .dataframe thead th {\n",
       "        text-align: right;\n",
       "    }\n",
       "</style>\n",
       "<table border=\"1\" class=\"dataframe\">\n",
       "  <thead>\n",
       "    <tr style=\"text-align: right;\">\n",
       "      <th></th>\n",
       "      <th>variable</th>\n",
       "      <th>Shapiro</th>\n",
       "      <th>KS</th>\n",
       "      <th>Chi2</th>\n",
       "    </tr>\n",
       "  </thead>\n",
       "  <tbody>\n",
       "    <tr>\n",
       "      <th>0</th>\n",
       "      <td>Alcohol</td>\n",
       "      <td>2.005172e-02</td>\n",
       "      <td>0.358903</td>\n",
       "      <td>3.416320e-04</td>\n",
       "    </tr>\n",
       "    <tr>\n",
       "      <th>1</th>\n",
       "      <td>Malic acid</td>\n",
       "      <td>2.945930e-10</td>\n",
       "      <td>0.000003</td>\n",
       "      <td>3.174217e-06</td>\n",
       "    </tr>\n",
       "    <tr>\n",
       "      <th>2</th>\n",
       "      <td>Ash</td>\n",
       "      <td>3.868526e-02</td>\n",
       "      <td>0.584057</td>\n",
       "      <td>3.631602e-02</td>\n",
       "    </tr>\n",
       "    <tr>\n",
       "      <th>3</th>\n",
       "      <td>Alcalinity of ash</td>\n",
       "      <td>2.638694e-01</td>\n",
       "      <td>0.460216</td>\n",
       "      <td>2.100427e-01</td>\n",
       "    </tr>\n",
       "    <tr>\n",
       "      <th>4</th>\n",
       "      <td>Magnesium</td>\n",
       "      <td>6.345416e-07</td>\n",
       "      <td>0.110088</td>\n",
       "      <td>4.658885e-09</td>\n",
       "    </tr>\n",
       "  </tbody>\n",
       "</table>\n",
       "</div>"
      ],
      "text/plain": [
       "            variable       Shapiro        KS          Chi2\n",
       "0            Alcohol  2.005172e-02  0.358903  3.416320e-04\n",
       "1         Malic acid  2.945930e-10  0.000003  3.174217e-06\n",
       "2                Ash  3.868526e-02  0.584057  3.631602e-02\n",
       "3  Alcalinity of ash  2.638694e-01  0.460216  2.100427e-01\n",
       "4          Magnesium  6.345416e-07  0.110088  4.658885e-09"
      ]
     },
     "execution_count": 15,
     "metadata": {},
     "output_type": "execute_result"
    }
   ],
   "source": [
    "# расчёт критериев\n",
    "p_values=list()\n",
    "for c in data.columns:\n",
    "    p_values.append([c]+test_nomality(data[c]))\n",
    "    \n",
    "#критерии в датафреймах\n",
    "p_values_df = pd.DataFrame(columns = ['variable', 'Shapiro', 'KS', 'Chi2'], data=p_values)\n",
    "p_values_df.head()"
   ]
  },
  {
   "cell_type": "code",
   "execution_count": 16,
   "metadata": {},
   "outputs": [],
   "source": [
    "def multiTest(p_values, method='bonferroni'):\n",
    "    #вычисление скорректированных p-value\n",
    "    corrected_p_values = np.apply_along_axis(lambda x: multipletests(x, method=method)[1], \n",
    "                                             axis=0, arr=p_values.values[:,1:])\n",
    "    #вычисление решений по скорректированных p-value\n",
    "    corrected_rejections = np.apply_along_axis(lambda x: multipletests(x, method=method)[0], \n",
    "                                               axis=0, arr=p_values.values[:,1:])\n",
    "    #сохраняем скорректированные p-value в датафрейм\n",
    "    corrected_p_values_df = pd.DataFrame(corrected_p_values, \n",
    "                                     columns=p_values_df.columns[1:].values+'_{}'.format(method))\n",
    "    #сохраняем решения по скорректированным p-value в датафрейм\n",
    "    corrected_rejections_df = pd.DataFrame(corrected_rejections, \n",
    "                                       columns=p_values_df.columns[1:].values+'_{}_reject'.format(method))\n",
    "    #добавляем финальное решение - хотя бы один отказ - отказ\n",
    "    corrected_rejections_df['{}_final_reject'.format(method)] = corrected_rejections_df.max(axis=1)\n",
    "    \n",
    "    #собираем в итоговый датафрейм скорректированные p-value и решения по ним\n",
    "    multi_test_result = pd.concat([p_values_df, corrected_p_values_df, corrected_rejections_df], axis=1)\n",
    "    \n",
    "    \n",
    "    return multi_test_result"
   ]
  },
  {
   "cell_type": "code",
   "execution_count": 17,
   "metadata": {},
   "outputs": [
    {
     "data": {
      "text/html": [
       "<div>\n",
       "<style scoped>\n",
       "    .dataframe tbody tr th:only-of-type {\n",
       "        vertical-align: middle;\n",
       "    }\n",
       "\n",
       "    .dataframe tbody tr th {\n",
       "        vertical-align: top;\n",
       "    }\n",
       "\n",
       "    .dataframe thead th {\n",
       "        text-align: right;\n",
       "    }\n",
       "</style>\n",
       "<table border=\"1\" class=\"dataframe\">\n",
       "  <thead>\n",
       "    <tr style=\"text-align: right;\">\n",
       "      <th></th>\n",
       "      <th>variable</th>\n",
       "      <th>Shapiro</th>\n",
       "      <th>KS</th>\n",
       "      <th>Chi2</th>\n",
       "      <th>Shapiro_bonferroni</th>\n",
       "      <th>KS_bonferroni</th>\n",
       "      <th>Chi2_bonferroni</th>\n",
       "      <th>Shapiro_bonferroni_reject</th>\n",
       "      <th>KS_bonferroni_reject</th>\n",
       "      <th>Chi2_bonferroni_reject</th>\n",
       "      <th>bonferroni_final_reject</th>\n",
       "    </tr>\n",
       "  </thead>\n",
       "  <tbody>\n",
       "    <tr>\n",
       "      <th>0</th>\n",
       "      <td>Alcohol</td>\n",
       "      <td>2.005172e-02</td>\n",
       "      <td>0.358903</td>\n",
       "      <td>3.416320e-04</td>\n",
       "      <td>0.260672</td>\n",
       "      <td>1</td>\n",
       "      <td>0.00444122</td>\n",
       "      <td>False</td>\n",
       "      <td>False</td>\n",
       "      <td>True</td>\n",
       "      <td>True</td>\n",
       "    </tr>\n",
       "    <tr>\n",
       "      <th>1</th>\n",
       "      <td>Malic acid</td>\n",
       "      <td>2.945930e-10</td>\n",
       "      <td>0.000003</td>\n",
       "      <td>3.174217e-06</td>\n",
       "      <td>3.82971e-09</td>\n",
       "      <td>4.34574e-05</td>\n",
       "      <td>4.12648e-05</td>\n",
       "      <td>True</td>\n",
       "      <td>True</td>\n",
       "      <td>True</td>\n",
       "      <td>True</td>\n",
       "    </tr>\n",
       "    <tr>\n",
       "      <th>2</th>\n",
       "      <td>Ash</td>\n",
       "      <td>3.868526e-02</td>\n",
       "      <td>0.584057</td>\n",
       "      <td>3.631602e-02</td>\n",
       "      <td>0.502908</td>\n",
       "      <td>1</td>\n",
       "      <td>0.472108</td>\n",
       "      <td>False</td>\n",
       "      <td>False</td>\n",
       "      <td>False</td>\n",
       "      <td>False</td>\n",
       "    </tr>\n",
       "    <tr>\n",
       "      <th>3</th>\n",
       "      <td>Alcalinity of ash</td>\n",
       "      <td>2.638694e-01</td>\n",
       "      <td>0.460216</td>\n",
       "      <td>2.100427e-01</td>\n",
       "      <td>1</td>\n",
       "      <td>1</td>\n",
       "      <td>1</td>\n",
       "      <td>False</td>\n",
       "      <td>False</td>\n",
       "      <td>False</td>\n",
       "      <td>False</td>\n",
       "    </tr>\n",
       "    <tr>\n",
       "      <th>4</th>\n",
       "      <td>Magnesium</td>\n",
       "      <td>6.345416e-07</td>\n",
       "      <td>0.110088</td>\n",
       "      <td>4.658885e-09</td>\n",
       "      <td>8.24904e-06</td>\n",
       "      <td>1</td>\n",
       "      <td>6.05655e-08</td>\n",
       "      <td>True</td>\n",
       "      <td>False</td>\n",
       "      <td>True</td>\n",
       "      <td>True</td>\n",
       "    </tr>\n",
       "  </tbody>\n",
       "</table>\n",
       "</div>"
      ],
      "text/plain": [
       "            variable       Shapiro        KS          Chi2 Shapiro_bonferroni  \\\n",
       "0            Alcohol  2.005172e-02  0.358903  3.416320e-04           0.260672   \n",
       "1         Malic acid  2.945930e-10  0.000003  3.174217e-06        3.82971e-09   \n",
       "2                Ash  3.868526e-02  0.584057  3.631602e-02           0.502908   \n",
       "3  Alcalinity of ash  2.638694e-01  0.460216  2.100427e-01                  1   \n",
       "4          Magnesium  6.345416e-07  0.110088  4.658885e-09        8.24904e-06   \n",
       "\n",
       "  KS_bonferroni Chi2_bonferroni  Shapiro_bonferroni_reject  \\\n",
       "0             1      0.00444122                      False   \n",
       "1   4.34574e-05     4.12648e-05                       True   \n",
       "2             1        0.472108                      False   \n",
       "3             1               1                      False   \n",
       "4             1     6.05655e-08                       True   \n",
       "\n",
       "   KS_bonferroni_reject  Chi2_bonferroni_reject  bonferroni_final_reject  \n",
       "0                 False                    True                     True  \n",
       "1                  True                    True                     True  \n",
       "2                 False                   False                    False  \n",
       "3                 False                   False                    False  \n",
       "4                 False                    True                     True  "
      ]
     },
     "execution_count": 17,
     "metadata": {},
     "output_type": "execute_result"
    }
   ],
   "source": [
    "bonferroni_multitest = multiTest(p_values_df)\n",
    "bonferroni_multitest.head()"
   ]
  },
  {
   "cell_type": "code",
   "execution_count": 18,
   "metadata": {},
   "outputs": [
    {
     "data": {
      "text/html": [
       "<div>\n",
       "<style scoped>\n",
       "    .dataframe tbody tr th:only-of-type {\n",
       "        vertical-align: middle;\n",
       "    }\n",
       "\n",
       "    .dataframe tbody tr th {\n",
       "        vertical-align: top;\n",
       "    }\n",
       "\n",
       "    .dataframe thead th {\n",
       "        text-align: right;\n",
       "    }\n",
       "</style>\n",
       "<table border=\"1\" class=\"dataframe\">\n",
       "  <thead>\n",
       "    <tr style=\"text-align: right;\">\n",
       "      <th></th>\n",
       "      <th>variable</th>\n",
       "      <th>Shapiro</th>\n",
       "      <th>KS</th>\n",
       "      <th>Chi2</th>\n",
       "      <th>Shapiro_holm</th>\n",
       "      <th>KS_holm</th>\n",
       "      <th>Chi2_holm</th>\n",
       "      <th>Shapiro_holm_reject</th>\n",
       "      <th>KS_holm_reject</th>\n",
       "      <th>Chi2_holm_reject</th>\n",
       "      <th>holm_final_reject</th>\n",
       "    </tr>\n",
       "  </thead>\n",
       "  <tbody>\n",
       "    <tr>\n",
       "      <th>0</th>\n",
       "      <td>Alcohol</td>\n",
       "      <td>2.005172e-02</td>\n",
       "      <td>0.358903</td>\n",
       "      <td>3.416320e-04</td>\n",
       "      <td>0.0722669</td>\n",
       "      <td>1</td>\n",
       "      <td>0.00273306</td>\n",
       "      <td>False</td>\n",
       "      <td>False</td>\n",
       "      <td>True</td>\n",
       "      <td>True</td>\n",
       "    </tr>\n",
       "    <tr>\n",
       "      <th>1</th>\n",
       "      <td>Malic acid</td>\n",
       "      <td>2.945930e-10</td>\n",
       "      <td>0.000003</td>\n",
       "      <td>3.174217e-06</td>\n",
       "      <td>3.82971e-09</td>\n",
       "      <td>4.34574e-05</td>\n",
       "      <td>3.49164e-05</td>\n",
       "      <td>True</td>\n",
       "      <td>True</td>\n",
       "      <td>True</td>\n",
       "      <td>True</td>\n",
       "    </tr>\n",
       "    <tr>\n",
       "      <th>2</th>\n",
       "      <td>Ash</td>\n",
       "      <td>3.868526e-02</td>\n",
       "      <td>0.584057</td>\n",
       "      <td>3.631602e-02</td>\n",
       "      <td>0.0773705</td>\n",
       "      <td>1</td>\n",
       "      <td>0.108948</td>\n",
       "      <td>False</td>\n",
       "      <td>False</td>\n",
       "      <td>False</td>\n",
       "      <td>False</td>\n",
       "    </tr>\n",
       "    <tr>\n",
       "      <th>3</th>\n",
       "      <td>Alcalinity of ash</td>\n",
       "      <td>2.638694e-01</td>\n",
       "      <td>0.460216</td>\n",
       "      <td>2.100427e-01</td>\n",
       "      <td>0.263869</td>\n",
       "      <td>1</td>\n",
       "      <td>0.420085</td>\n",
       "      <td>False</td>\n",
       "      <td>False</td>\n",
       "      <td>False</td>\n",
       "      <td>False</td>\n",
       "    </tr>\n",
       "    <tr>\n",
       "      <th>4</th>\n",
       "      <td>Magnesium</td>\n",
       "      <td>6.345416e-07</td>\n",
       "      <td>0.110088</td>\n",
       "      <td>4.658885e-09</td>\n",
       "      <td>6.97996e-06</td>\n",
       "      <td>0.933052</td>\n",
       "      <td>5.59066e-08</td>\n",
       "      <td>True</td>\n",
       "      <td>False</td>\n",
       "      <td>True</td>\n",
       "      <td>True</td>\n",
       "    </tr>\n",
       "  </tbody>\n",
       "</table>\n",
       "</div>"
      ],
      "text/plain": [
       "            variable       Shapiro        KS          Chi2 Shapiro_holm  \\\n",
       "0            Alcohol  2.005172e-02  0.358903  3.416320e-04    0.0722669   \n",
       "1         Malic acid  2.945930e-10  0.000003  3.174217e-06  3.82971e-09   \n",
       "2                Ash  3.868526e-02  0.584057  3.631602e-02    0.0773705   \n",
       "3  Alcalinity of ash  2.638694e-01  0.460216  2.100427e-01     0.263869   \n",
       "4          Magnesium  6.345416e-07  0.110088  4.658885e-09  6.97996e-06   \n",
       "\n",
       "       KS_holm    Chi2_holm  Shapiro_holm_reject  KS_holm_reject  \\\n",
       "0            1   0.00273306                False           False   \n",
       "1  4.34574e-05  3.49164e-05                 True            True   \n",
       "2            1     0.108948                False           False   \n",
       "3            1     0.420085                False           False   \n",
       "4     0.933052  5.59066e-08                 True           False   \n",
       "\n",
       "   Chi2_holm_reject  holm_final_reject  \n",
       "0              True               True  \n",
       "1              True               True  \n",
       "2             False              False  \n",
       "3             False              False  \n",
       "4              True               True  "
      ]
     },
     "execution_count": 18,
     "metadata": {},
     "output_type": "execute_result"
    }
   ],
   "source": [
    "holm_multitest = multiTest(p_values_df, 'holm')\n",
    "holm_multitest.head()"
   ]
  },
  {
   "cell_type": "code",
   "execution_count": 19,
   "metadata": {},
   "outputs": [
    {
     "data": {
      "text/plain": [
       "2                   Ash\n",
       "3     Alcalinity of ash\n",
       "8       Proanthocyanins\n",
       "10                  Hue\n",
       "Name: variable, dtype: object"
      ]
     },
     "execution_count": 19,
     "metadata": {},
     "output_type": "execute_result"
    }
   ],
   "source": [
    "# нормальные по бонферони\n",
    "bonferroni_multitest.loc[bonferroni_multitest['bonferroni_final_reject']==False, 'variable']"
   ]
  },
  {
   "cell_type": "code",
   "execution_count": 20,
   "metadata": {},
   "outputs": [
    {
     "data": {
      "text/plain": [
       "2                   Ash\n",
       "3     Alcalinity of ash\n",
       "10                  Hue\n",
       "Name: variable, dtype: object"
      ]
     },
     "execution_count": 20,
     "metadata": {},
     "output_type": "execute_result"
    }
   ],
   "source": [
    "# нормальные по холму\n",
    "holm_multitest.loc[holm_multitest['holm_final_reject']==False, 'variable']"
   ]
  },
  {
   "cell_type": "markdown",
   "metadata": {},
   "source": [
    "Для каких параметров нормальность не отвергается?"
   ]
  },
  {
   "cell_type": "markdown",
   "metadata": {},
   "source": [
    "**Ответ:** Ash, Alcanity of Ash, Hue"
   ]
  }
 ],
 "metadata": {
  "kernelspec": {
   "display_name": "Python 3",
   "language": "python",
   "name": "python3"
  },
  "language_info": {
   "codemirror_mode": {
    "name": "ipython",
    "version": 3
   },
   "file_extension": ".py",
   "mimetype": "text/x-python",
   "name": "python",
   "nbconvert_exporter": "python",
   "pygments_lexer": "ipython3",
   "version": "3.7.4"
  }
 },
 "nbformat": 4,
 "nbformat_minor": 2
}
