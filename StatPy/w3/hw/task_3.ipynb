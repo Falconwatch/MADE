{
 "cells": [
  {
   "cell_type": "markdown",
   "metadata": {},
   "source": [
    "# Статистический анализ данных / Python\n",
    "## Задание 3\n",
    "\n",
    "**Правила:**\n",
    "\n",
    "* Дедлайн **1 декаюря 23:59**.\n",
    "* Выполненную работу нужно отправить на почту ` mipt.stats@yandex.ru`, указав тему письма `\"[MADE19] Фамилия Имя - задание 3\"`. Квадратные скобки обязательны. Если письмо дошло, придет ответ от автоответчика.\n",
    "* Прислать нужно ноутбук и его pdf-версию (без архивов), которую можно сделать с помощью печати в файл через инструменты браузера.\n",
    "* Для выполнения задания используйте этот ноутбук в качествие основы, ничего не удаляя из него. \n",
    "* Разделяйте код вычислений и отрисовки графиков. Так будет удобнее вам и проверяющим.\n",
    "* Задание стоит **7 баллов**."
   ]
  },
  {
   "cell_type": "code",
   "execution_count": 1,
   "metadata": {},
   "outputs": [],
   "source": [
    "import numpy as np\n",
    "import scipy.stats as sps\n",
    "import matplotlib.pyplot as plt\n",
    "import seaborn as sns\n",
    "import pandas as pd\n",
    "%matplotlib inline"
   ]
  },
  {
   "cell_type": "markdown",
   "metadata": {},
   "source": [
    "\n",
    "### Задача.\n",
    "Существует примета, что если перед вами дорогу перебегает черный кот, то скоро случится неудача. \n",
    "Вы же уже достаточно хорошо знаете статистику и хотите проверить данную примету. \n",
    "Сформулируем задачу на математическом языке. \n",
    "\n",
    "Пусть $X_1, ..., X_n \\sim Bern(p)$ --- проведенные наблюдения, где $X_i = 1$, если в $i$-м испытании случилась неудача после того, как черный кот перебежал дорогу, а $p$ --- неизвестная вероятность такого события. \n",
    "Вы хотите проверить гипотезу $\\mathsf{H}_0\\colon p=1/2$ (отсутствие связи между черным котом и неудачей) против альтернативы $\\mathsf{H}_1\\colon p>1/2$ (неудача происходит чаще если черный кот перебегает дорогу).\n",
    "\n",
    "Известно, что $S = \\left\\{T(X) \\geqslant c_\\alpha\\right\\}$, где $T(X) = \\sum X_i$, является равномерно наиболее мощным критерием для проверки этих гипотез. \n",
    "Чему при этом равно $c_\\alpha$ и как определяется p-value?"
   ]
  },
  {
   "cell_type": "markdown",
   "metadata": {},
   "source": [
    "**Ответ:**  $c_\\alpha$ - критическое значение статистики Т(Х), соответсвующее уровню доверия  $\\alpha$. По сути - количество \"единиц\" в выборке, при достижении которого вероятность того, что нулевая гипотеза верна, меньше либо равна $\\alpha$. P-value в таком случае не превышает $\\alpha$"
   ]
  },
  {
   "cell_type": "markdown",
   "metadata": {},
   "source": [
    "Для начала проверьте, что критерий работает.\n",
    "Возьмите несколько значений $n$ и реализаций статистики $T(X)$.\n",
    "В каждом случае найдите значение $c_\\alpha$ и p-value.\n",
    "Оформите это в виде таблицы (можно через `pandas.DataFrame`).\n",
    "\n",
    "Пользуйтесь функциями из `scipy.stats`. Внимательно проверьте правильность строгих и нестрогих знаков."
   ]
  },
  {
   "cell_type": "code",
   "execution_count": 2,
   "metadata": {},
   "outputs": [
    {
     "name": "stdout",
     "output_type": "stream",
     "text": [
      "59\n",
      "58.0\n",
      "0.4602053813064103\n"
     ]
    }
   ],
   "source": [
    "#Генерирует выбокру и считает по ней статистику\n",
    "def GetT(n , p):\n",
    "    X = sps.bernoulli(p=p).rvs(size=n)\n",
    "    T = np.sum(X)\n",
    "    return T\n",
    "\n",
    "#возвращает критическое значение статистики, соответствующее заданному уровню доверия alpha (правостороння альтернатива)\n",
    "#при вероятнсти p\n",
    "def GetCa(alpha, n, p):\n",
    "    ca = sps.binom.ppf(1-alpha, n=n, p = p)\n",
    "    return ca\n",
    "\n",
    "# возвращает p-value для заданной статистики Т, при вероятности в нулевой гипотезе p\n",
    "def getPvalue(T, n, p):\n",
    "    p_value = 1 - sps.binom.cdf(n = n , p = p, k = T)\n",
    "    return p_value\n",
    "\n",
    "print(GetT(100 , 0.5))\n",
    "print(GetCa(0.05, 100 , 0.5))\n",
    "print(getPvalue(50, 100 , 0.5))"
   ]
  },
  {
   "cell_type": "code",
   "execution_count": 3,
   "metadata": {},
   "outputs": [
    {
     "data": {
      "text/html": [
       "<div>\n",
       "<style scoped>\n",
       "    .dataframe tbody tr th:only-of-type {\n",
       "        vertical-align: middle;\n",
       "    }\n",
       "\n",
       "    .dataframe tbody tr th {\n",
       "        vertical-align: top;\n",
       "    }\n",
       "\n",
       "    .dataframe thead th {\n",
       "        text-align: right;\n",
       "    }\n",
       "</style>\n",
       "<table border=\"1\" class=\"dataframe\">\n",
       "  <thead>\n",
       "    <tr style=\"text-align: right;\">\n",
       "      <th></th>\n",
       "      <th>n</th>\n",
       "      <th>T(X)</th>\n",
       "      <th>ca (a=0.1)</th>\n",
       "      <th>p-value</th>\n",
       "    </tr>\n",
       "  </thead>\n",
       "  <tbody>\n",
       "    <tr>\n",
       "      <th>0</th>\n",
       "      <td>100</td>\n",
       "      <td>59</td>\n",
       "      <td>56.0</td>\n",
       "      <td>0.028444</td>\n",
       "    </tr>\n",
       "    <tr>\n",
       "      <th>1</th>\n",
       "      <td>1000</td>\n",
       "      <td>508</td>\n",
       "      <td>520.0</td>\n",
       "      <td>0.295442</td>\n",
       "    </tr>\n",
       "    <tr>\n",
       "      <th>2</th>\n",
       "      <td>10000</td>\n",
       "      <td>5077</td>\n",
       "      <td>5064.0</td>\n",
       "      <td>0.060569</td>\n",
       "    </tr>\n",
       "    <tr>\n",
       "      <th>3</th>\n",
       "      <td>100000</td>\n",
       "      <td>50069</td>\n",
       "      <td>50203.0</td>\n",
       "      <td>0.330129</td>\n",
       "    </tr>\n",
       "  </tbody>\n",
       "</table>\n",
       "</div>"
      ],
      "text/plain": [
       "        n   T(X)  ca (a=0.1)   p-value\n",
       "0     100     59        56.0  0.028444\n",
       "1    1000    508       520.0  0.295442\n",
       "2   10000   5077      5064.0  0.060569\n",
       "3  100000  50069     50203.0  0.330129"
      ]
     },
     "execution_count": 3,
     "metadata": {},
     "output_type": "execute_result"
    }
   ],
   "source": [
    "ns = [100, 1000, 10000, 100000]\n",
    "t_list = list()\n",
    "ca_list = list()\n",
    "p_value_list = list()\n",
    "data = pd.DataFrame()\n",
    "for n in ns:\n",
    "    T = GetT(n , 0.5)\n",
    "    ca = GetCa(0.1, n, 0.5)\n",
    "    p_value = getPvalue(T, n, 0.5)\n",
    "\n",
    "    t_list.append(T)\n",
    "    ca_list.append(ca)\n",
    "    p_value_list.append(p_value)\n",
    "    \n",
    "data['n'] = ns\n",
    "data['T(X)'] = t_list\n",
    "data['ca (a=0.1)'] = ca_list\n",
    "data['p-value'] = p_value_list\n",
    "data"
   ]
  },
  {
   "cell_type": "markdown",
   "metadata": {},
   "source": [
    "Для каких истинных значений $p$ с точки зрения практики можно считать, что связь между черным котом и неудачей есть? "
   ]
  },
  {
   "cell_type": "markdown",
   "metadata": {},
   "source": [
    "**Ответ:** для $p$ большего вероятности $p$, соответствующей случаям, когда кота мы не встречали"
   ]
  },
  {
   "cell_type": "markdown",
   "metadata": {},
   "source": [
    "Теперь сгенерируйте 10 выборок для двух случаев: 1). $n=5, p=0.75$; 2). $n=10^5, p=0.51$. \n",
    "В каждом случае в виде таблицы выведите реализацию статистики $T(X)$, соответствующее p-value и 0/1 -- отвергается ли $\\mathsf{H}_0$ (выводите 1, если отвергается)."
   ]
  },
  {
   "cell_type": "code",
   "execution_count": 4,
   "metadata": {},
   "outputs": [],
   "source": [
    "def get_table(n, p):\n",
    "    result_table = pd.DataFrame()\n",
    "    t_list = list()\n",
    "    ca_list = list()\n",
    "    p_value_list = list()\n",
    "    decision = list()\n",
    "    \n",
    "    result = pd.DataFrame()\n",
    "\n",
    "    for i in range(10):\n",
    "        T = GetT(n , p)\n",
    "        ca = GetCa(0.1, n, 0.5)\n",
    "        p_value = getPvalue(T, n, 0.5)\n",
    "\n",
    "        t_list.append(T)\n",
    "        ca_list.append(ca)\n",
    "        p_value_list.append(p_value)\n",
    "        decision.append(1 if T>=ca else 0)\n",
    "\n",
    "\n",
    "    result['n'] = [n]*10\n",
    "    result['T(X)'] = t_list\n",
    "    result['ca (a=0.1)'] = ca_list\n",
    "    result['p-value'] = p_value_list\n",
    "    result['decision'] = decision\n",
    "    return result"
   ]
  },
  {
   "cell_type": "code",
   "execution_count": 5,
   "metadata": {},
   "outputs": [
    {
     "data": {
      "text/html": [
       "<div>\n",
       "<style scoped>\n",
       "    .dataframe tbody tr th:only-of-type {\n",
       "        vertical-align: middle;\n",
       "    }\n",
       "\n",
       "    .dataframe tbody tr th {\n",
       "        vertical-align: top;\n",
       "    }\n",
       "\n",
       "    .dataframe thead th {\n",
       "        text-align: right;\n",
       "    }\n",
       "</style>\n",
       "<table border=\"1\" class=\"dataframe\">\n",
       "  <thead>\n",
       "    <tr style=\"text-align: right;\">\n",
       "      <th></th>\n",
       "      <th>n</th>\n",
       "      <th>T(X)</th>\n",
       "      <th>ca (a=0.1)</th>\n",
       "      <th>p-value</th>\n",
       "      <th>decision</th>\n",
       "    </tr>\n",
       "  </thead>\n",
       "  <tbody>\n",
       "    <tr>\n",
       "      <th>0</th>\n",
       "      <td>5</td>\n",
       "      <td>3</td>\n",
       "      <td>4.0</td>\n",
       "      <td>0.18750</td>\n",
       "      <td>0</td>\n",
       "    </tr>\n",
       "    <tr>\n",
       "      <th>1</th>\n",
       "      <td>5</td>\n",
       "      <td>3</td>\n",
       "      <td>4.0</td>\n",
       "      <td>0.18750</td>\n",
       "      <td>0</td>\n",
       "    </tr>\n",
       "    <tr>\n",
       "      <th>2</th>\n",
       "      <td>5</td>\n",
       "      <td>3</td>\n",
       "      <td>4.0</td>\n",
       "      <td>0.18750</td>\n",
       "      <td>0</td>\n",
       "    </tr>\n",
       "    <tr>\n",
       "      <th>3</th>\n",
       "      <td>5</td>\n",
       "      <td>4</td>\n",
       "      <td>4.0</td>\n",
       "      <td>0.03125</td>\n",
       "      <td>1</td>\n",
       "    </tr>\n",
       "    <tr>\n",
       "      <th>4</th>\n",
       "      <td>5</td>\n",
       "      <td>3</td>\n",
       "      <td>4.0</td>\n",
       "      <td>0.18750</td>\n",
       "      <td>0</td>\n",
       "    </tr>\n",
       "    <tr>\n",
       "      <th>5</th>\n",
       "      <td>5</td>\n",
       "      <td>3</td>\n",
       "      <td>4.0</td>\n",
       "      <td>0.18750</td>\n",
       "      <td>0</td>\n",
       "    </tr>\n",
       "    <tr>\n",
       "      <th>6</th>\n",
       "      <td>5</td>\n",
       "      <td>5</td>\n",
       "      <td>4.0</td>\n",
       "      <td>0.00000</td>\n",
       "      <td>1</td>\n",
       "    </tr>\n",
       "    <tr>\n",
       "      <th>7</th>\n",
       "      <td>5</td>\n",
       "      <td>4</td>\n",
       "      <td>4.0</td>\n",
       "      <td>0.03125</td>\n",
       "      <td>1</td>\n",
       "    </tr>\n",
       "    <tr>\n",
       "      <th>8</th>\n",
       "      <td>5</td>\n",
       "      <td>5</td>\n",
       "      <td>4.0</td>\n",
       "      <td>0.00000</td>\n",
       "      <td>1</td>\n",
       "    </tr>\n",
       "    <tr>\n",
       "      <th>9</th>\n",
       "      <td>5</td>\n",
       "      <td>3</td>\n",
       "      <td>4.0</td>\n",
       "      <td>0.18750</td>\n",
       "      <td>0</td>\n",
       "    </tr>\n",
       "  </tbody>\n",
       "</table>\n",
       "</div>"
      ],
      "text/plain": [
       "   n  T(X)  ca (a=0.1)  p-value  decision\n",
       "0  5     3         4.0  0.18750         0\n",
       "1  5     3         4.0  0.18750         0\n",
       "2  5     3         4.0  0.18750         0\n",
       "3  5     4         4.0  0.03125         1\n",
       "4  5     3         4.0  0.18750         0\n",
       "5  5     3         4.0  0.18750         0\n",
       "6  5     5         4.0  0.00000         1\n",
       "7  5     4         4.0  0.03125         1\n",
       "8  5     5         4.0  0.00000         1\n",
       "9  5     3         4.0  0.18750         0"
      ]
     },
     "execution_count": 5,
     "metadata": {},
     "output_type": "execute_result"
    }
   ],
   "source": [
    "n1 = 5\n",
    "p1 = 0.75\n",
    "get_table(n1, p1)"
   ]
  },
  {
   "cell_type": "code",
   "execution_count": 6,
   "metadata": {},
   "outputs": [
    {
     "data": {
      "text/html": [
       "<div>\n",
       "<style scoped>\n",
       "    .dataframe tbody tr th:only-of-type {\n",
       "        vertical-align: middle;\n",
       "    }\n",
       "\n",
       "    .dataframe tbody tr th {\n",
       "        vertical-align: top;\n",
       "    }\n",
       "\n",
       "    .dataframe thead th {\n",
       "        text-align: right;\n",
       "    }\n",
       "</style>\n",
       "<table border=\"1\" class=\"dataframe\">\n",
       "  <thead>\n",
       "    <tr style=\"text-align: right;\">\n",
       "      <th></th>\n",
       "      <th>n</th>\n",
       "      <th>T(X)</th>\n",
       "      <th>ca (a=0.1)</th>\n",
       "      <th>p-value</th>\n",
       "      <th>decision</th>\n",
       "    </tr>\n",
       "  </thead>\n",
       "  <tbody>\n",
       "    <tr>\n",
       "      <th>0</th>\n",
       "      <td>100000</td>\n",
       "      <td>51158</td>\n",
       "      <td>50203.0</td>\n",
       "      <td>1.173506e-13</td>\n",
       "      <td>1</td>\n",
       "    </tr>\n",
       "    <tr>\n",
       "      <th>1</th>\n",
       "      <td>100000</td>\n",
       "      <td>51025</td>\n",
       "      <td>50203.0</td>\n",
       "      <td>4.405698e-11</td>\n",
       "      <td>1</td>\n",
       "    </tr>\n",
       "    <tr>\n",
       "      <th>2</th>\n",
       "      <td>100000</td>\n",
       "      <td>50881</td>\n",
       "      <td>50203.0</td>\n",
       "      <td>1.235978e-08</td>\n",
       "      <td>1</td>\n",
       "    </tr>\n",
       "    <tr>\n",
       "      <th>3</th>\n",
       "      <td>100000</td>\n",
       "      <td>50903</td>\n",
       "      <td>50203.0</td>\n",
       "      <td>5.505026e-09</td>\n",
       "      <td>1</td>\n",
       "    </tr>\n",
       "    <tr>\n",
       "      <th>4</th>\n",
       "      <td>100000</td>\n",
       "      <td>51245</td>\n",
       "      <td>50203.0</td>\n",
       "      <td>1.665335e-15</td>\n",
       "      <td>1</td>\n",
       "    </tr>\n",
       "    <tr>\n",
       "      <th>5</th>\n",
       "      <td>100000</td>\n",
       "      <td>50890</td>\n",
       "      <td>50203.0</td>\n",
       "      <td>8.898286e-09</td>\n",
       "      <td>1</td>\n",
       "    </tr>\n",
       "    <tr>\n",
       "      <th>6</th>\n",
       "      <td>100000</td>\n",
       "      <td>50874</td>\n",
       "      <td>50203.0</td>\n",
       "      <td>1.592415e-08</td>\n",
       "      <td>1</td>\n",
       "    </tr>\n",
       "    <tr>\n",
       "      <th>7</th>\n",
       "      <td>100000</td>\n",
       "      <td>50988</td>\n",
       "      <td>50203.0</td>\n",
       "      <td>2.025869e-10</td>\n",
       "      <td>1</td>\n",
       "    </tr>\n",
       "    <tr>\n",
       "      <th>8</th>\n",
       "      <td>100000</td>\n",
       "      <td>50867</td>\n",
       "      <td>50203.0</td>\n",
       "      <td>2.047735e-08</td>\n",
       "      <td>1</td>\n",
       "    </tr>\n",
       "    <tr>\n",
       "      <th>9</th>\n",
       "      <td>100000</td>\n",
       "      <td>51097</td>\n",
       "      <td>50203.0</td>\n",
       "      <td>1.940115e-12</td>\n",
       "      <td>1</td>\n",
       "    </tr>\n",
       "  </tbody>\n",
       "</table>\n",
       "</div>"
      ],
      "text/plain": [
       "        n   T(X)  ca (a=0.1)       p-value  decision\n",
       "0  100000  51158     50203.0  1.173506e-13         1\n",
       "1  100000  51025     50203.0  4.405698e-11         1\n",
       "2  100000  50881     50203.0  1.235978e-08         1\n",
       "3  100000  50903     50203.0  5.505026e-09         1\n",
       "4  100000  51245     50203.0  1.665335e-15         1\n",
       "5  100000  50890     50203.0  8.898286e-09         1\n",
       "6  100000  50874     50203.0  1.592415e-08         1\n",
       "7  100000  50988     50203.0  2.025869e-10         1\n",
       "8  100000  50867     50203.0  2.047735e-08         1\n",
       "9  100000  51097     50203.0  1.940115e-12         1"
      ]
     },
     "execution_count": 6,
     "metadata": {},
     "output_type": "execute_result"
    }
   ],
   "source": [
    "n2 = 10**5\n",
    "p2 = 0.51\n",
    "get_table(n2, p2)"
   ]
  },
  {
   "cell_type": "markdown",
   "metadata": {},
   "source": [
    "**Вывод:** При малом количестве наблюдений несмотря на высокую вероятность возникновения события нулевая гипотеза отвергается не всегда. При большом количестве наблюдений достаточно небольшого отклонения вероятности от 0.5 для отвержения нулевой гипотезы"
   ]
  },
  {
   "cell_type": "markdown",
   "metadata": {},
   "source": [
    "Возникает задача подбора оптимального размера выборки.\n",
    "\n",
    "Для этого сначала зафиксируйте значение $p^* > 1/2$, которое будет обладать следующим свойством.\n",
    "Если истинное $p > p^*$, то такое отклонение от $1/2$ с практической точки зрения признается существенным, то есть действительно чаще случается неудача после того, как черный кот перебегает дорогу.\n",
    "В противном случае отклонение с практической точки зрения признается несущественным.\n",
    "\n",
    "Теперь для некоторых $n$ постройте графики функции мощности критерия при $1/2 < p < 1$ и уровне значимости 0.05.\n",
    "Выберите такое $n^*$, для которого функция мощности дает значение 0.8 при $p^*$."
   ]
  },
  {
   "cell_type": "code",
   "execution_count": 7,
   "metadata": {},
   "outputs": [],
   "source": [
    "p_star = 0.6"
   ]
  },
  {
   "cell_type": "code",
   "execution_count": 8,
   "metadata": {},
   "outputs": [],
   "source": [
    "#вычисляет мощность критерия при заданном количестве наблюдений (n) и вероятности (p)\n",
    "def getPower(n, p):\n",
    "    Ca = GetCa(0.05, n, 0.5)\n",
    "    #вычисялю бетту. Для этого считаю какая доля распределения лежит правее полученного значени Т в распределении\n",
    "    # свойственном критерию при верной альтернативной гипотезе\n",
    "    betta = sps.binom.cdf(k=Ca, n=n, p=p)   \n",
    "    power = 1-betta\n",
    "    return power"
   ]
  },
  {
   "cell_type": "code",
   "execution_count": 9,
   "metadata": {},
   "outputs": [],
   "source": [
    "def plotPower(n):\n",
    "    p_space = np.linspace(0.5, 1, 50, endpoint=False)\n",
    "    power_list = list()\n",
    "    for p in p_space:\n",
    "        power = getPower(n, p)\n",
    "        power_list.append(power)\n",
    "    return power_list, p_space     "
   ]
  },
  {
   "cell_type": "code",
   "execution_count": 10,
   "metadata": {},
   "outputs": [
    {
     "data": {
      "text/plain": [
       "<matplotlib.legend.Legend at 0x20654231c88>"
      ]
     },
     "execution_count": 10,
     "metadata": {},
     "output_type": "execute_result"
    },
    {
     "data": {
      "image/png": "[encoded data removed]",
      "text/plain": [
       "<Figure size 1080x720 with 1 Axes>"
      ]
     },
     "metadata": {
      "needs_background": "light"
     },
     "output_type": "display_data"
    }
   ],
   "source": [
    "plt.figure(figsize=(15,10))\n",
    "for n in [10, 50, 100, 1000, 5000]:\n",
    "    powers, ps = plotPower(n)\n",
    "    plt.plot(ps,powers, label = n)\n",
    "plt.legend()"
   ]
  },
  {
   "cell_type": "code",
   "execution_count": 11,
   "metadata": {},
   "outputs": [
    {
     "name": "stdout",
     "output_type": "stream",
     "text": [
      "0.7867185377483619\n",
      "0.8129001664096127\n"
     ]
    }
   ],
   "source": [
    "print(getPower(159, p_star))\n",
    "print(getPower(160, p_star))"
   ]
  },
  {
   "cell_type": "markdown",
   "metadata": {},
   "source": [
    "**Ответ:** Количество наблюдений необходимое для мощности 0.8 = 160"
   ]
  },
  {
   "cell_type": "markdown",
   "metadata": {},
   "source": [
    "Для выбранного $n^*$ проведите эксперимент, аналогичный проведенным ранее экспериментам, сгенерировав выборки для следующих истинных значений $p$: 1). $1/2 < p < p^*$; 2). $p > p^*$."
   ]
  },
  {
   "cell_type": "code",
   "execution_count": 12,
   "metadata": {},
   "outputs": [],
   "source": [
    "n_star = 160"
   ]
  },
  {
   "cell_type": "code",
   "execution_count": 13,
   "metadata": {},
   "outputs": [
    {
     "data": {
      "text/plain": [
       "[<matplotlib.lines.Line2D at 0x2065429df88>]"
      ]
     },
     "execution_count": 13,
     "metadata": {},
     "output_type": "execute_result"
    },
    {
     "data": {
      "image/png": "[encoded data removed]",
      "text/plain": [
       "<Figure size 432x288 with 1 Axes>"
      ]
     },
     "metadata": {
      "needs_background": "light"
     },
     "output_type": "display_data"
    }
   ],
   "source": [
    "#1\n",
    "ps = np.linspace(0.5, p_star, 50, endpoint=False)\n",
    "power_list = list()\n",
    "\n",
    "for p in ps:\n",
    "    power = getPower(n_star, p)\n",
    "    power_list.append(power)\n",
    "        \n",
    "plt.plot(ps,power_list)"
   ]
  },
  {
   "cell_type": "code",
   "execution_count": 14,
   "metadata": {},
   "outputs": [
    {
     "data": {
      "text/plain": [
       "[<matplotlib.lines.Line2D at 0x2065430c508>]"
      ]
     },
     "execution_count": 14,
     "metadata": {},
     "output_type": "execute_result"
    },
    {
     "data": {
      "image/png": "[encoded data removed]",
      "text/plain": [
       "<Figure size 432x288 with 1 Axes>"
      ]
     },
     "metadata": {
      "needs_background": "light"
     },
     "output_type": "display_data"
    }
   ],
   "source": [
    "#2\n",
    "ps = np.linspace(p_star, 1, 50, endpoint=False)\n",
    "power_list = list()\n",
    "\n",
    "for p in ps:\n",
    "    power = getPower(n_star, p)\n",
    "    power_list.append(power)\n",
    "        \n",
    "plt.plot(ps,power_list)"
   ]
  },
  {
   "cell_type": "markdown",
   "metadata": {},
   "source": [
    "**Вывод:**"
   ]
  },
  {
   "cell_type": "markdown",
   "metadata": {},
   "source": [
    "После преодоления порогового значения вероятности, соответствующего мощности критерия 0.8, мощность критерия начинает быстро возрастать"
   ]
  }
 ],
 "metadata": {
  "kernelspec": {
   "display_name": "Python 3",
   "language": "python",
   "name": "python3"
  },
  "language_info": {
   "codemirror_mode": {
    "name": "ipython",
    "version": 3
   },
   "file_extension": ".py",
   "mimetype": "text/x-python",
   "name": "python",
   "nbconvert_exporter": "python",
   "pygments_lexer": "ipython3",
   "version": "3.7.4"
  }
 },
 "nbformat": 4,
 "nbformat_minor": 2
}
