{
 "cells": [
  {
   "cell_type": "markdown",
   "metadata": {},
   "source": [
    "# Рост певцов хора\n",
    "В 1979 году было опрошено 235 членов нью-йоркской ассоциации хорового пения, для каждого из них известен рост и регистр голоса. Меняется ли средний рост вместе с регистром?"
   ]
  },
  {
   "cell_type": "code",
   "execution_count": 4,
   "metadata": {},
   "outputs": [],
   "source": [
    "import numpy as np\n",
    "import pandas as pd\n",
    "import matplotlib.pyplot as plt\n",
    "import seaborn as sns\n",
    "sns.set_style('darkgrid')"
   ]
  },
  {
   "cell_type": "code",
   "execution_count": 5,
   "metadata": {},
   "outputs": [
    {
     "data": {
      "text/html": [
       "<div>\n",
       "<style scoped>\n",
       "    .dataframe tbody tr th:only-of-type {\n",
       "        vertical-align: middle;\n",
       "    }\n",
       "\n",
       "    .dataframe tbody tr th {\n",
       "        vertical-align: top;\n",
       "    }\n",
       "\n",
       "    .dataframe thead th {\n",
       "        text-align: right;\n",
       "    }\n",
       "</style>\n",
       "<table border=\"1\" class=\"dataframe\">\n",
       "  <thead>\n",
       "    <tr style=\"text-align: right;\">\n",
       "      <th></th>\n",
       "      <th>height</th>\n",
       "      <th>voice_part</th>\n",
       "    </tr>\n",
       "  </thead>\n",
       "  <tbody>\n",
       "    <tr>\n",
       "      <th>0</th>\n",
       "      <td>64</td>\n",
       "      <td>Soprano 1</td>\n",
       "    </tr>\n",
       "    <tr>\n",
       "      <th>1</th>\n",
       "      <td>62</td>\n",
       "      <td>Soprano 1</td>\n",
       "    </tr>\n",
       "    <tr>\n",
       "      <th>2</th>\n",
       "      <td>66</td>\n",
       "      <td>Soprano 1</td>\n",
       "    </tr>\n",
       "    <tr>\n",
       "      <th>3</th>\n",
       "      <td>65</td>\n",
       "      <td>Soprano 1</td>\n",
       "    </tr>\n",
       "    <tr>\n",
       "      <th>4</th>\n",
       "      <td>60</td>\n",
       "      <td>Soprano 1</td>\n",
       "    </tr>\n",
       "  </tbody>\n",
       "</table>\n",
       "</div>"
      ],
      "text/plain": [
       "   height voice_part\n",
       "0      64  Soprano 1\n",
       "1      62  Soprano 1\n",
       "2      66  Soprano 1\n",
       "3      65  Soprano 1\n",
       "4      60  Soprano 1"
      ]
     },
     "execution_count": 5,
     "metadata": {},
     "output_type": "execute_result"
    }
   ],
   "source": [
    "df = pd.read_csv('singers.tsv', sep='\\t')\n",
    "df.head()"
   ]
  },
  {
   "cell_type": "code",
   "execution_count": 6,
   "metadata": {},
   "outputs": [],
   "source": [
    "df = df.assign(height=df.height * 2.54)"
   ]
  },
  {
   "cell_type": "code",
   "execution_count": 7,
   "metadata": {},
   "outputs": [
    {
     "data": {
      "text/html": [
       "<div>\n",
       "<style scoped>\n",
       "    .dataframe tbody tr th:only-of-type {\n",
       "        vertical-align: middle;\n",
       "    }\n",
       "\n",
       "    .dataframe tbody tr th {\n",
       "        vertical-align: top;\n",
       "    }\n",
       "\n",
       "    .dataframe thead th {\n",
       "        text-align: right;\n",
       "    }\n",
       "</style>\n",
       "<table border=\"1\" class=\"dataframe\">\n",
       "  <thead>\n",
       "    <tr style=\"text-align: right;\">\n",
       "      <th></th>\n",
       "      <th>height</th>\n",
       "      <th>voice_part</th>\n",
       "    </tr>\n",
       "  </thead>\n",
       "  <tbody>\n",
       "    <tr>\n",
       "      <th>0</th>\n",
       "      <td>162.56</td>\n",
       "      <td>Soprano 1</td>\n",
       "    </tr>\n",
       "    <tr>\n",
       "      <th>1</th>\n",
       "      <td>157.48</td>\n",
       "      <td>Soprano 1</td>\n",
       "    </tr>\n",
       "    <tr>\n",
       "      <th>2</th>\n",
       "      <td>167.64</td>\n",
       "      <td>Soprano 1</td>\n",
       "    </tr>\n",
       "    <tr>\n",
       "      <th>3</th>\n",
       "      <td>165.10</td>\n",
       "      <td>Soprano 1</td>\n",
       "    </tr>\n",
       "    <tr>\n",
       "      <th>4</th>\n",
       "      <td>152.40</td>\n",
       "      <td>Soprano 1</td>\n",
       "    </tr>\n",
       "  </tbody>\n",
       "</table>\n",
       "</div>"
      ],
      "text/plain": [
       "   height voice_part\n",
       "0  162.56  Soprano 1\n",
       "1  157.48  Soprano 1\n",
       "2  167.64  Soprano 1\n",
       "3  165.10  Soprano 1\n",
       "4  152.40  Soprano 1"
      ]
     },
     "execution_count": 7,
     "metadata": {},
     "output_type": "execute_result"
    }
   ],
   "source": [
    "df.head()"
   ]
  },
  {
   "cell_type": "markdown",
   "metadata": {},
   "source": [
    "### Визуализируем данные!\n",
    "Проверим, достаточно ли певцов в каждой группе и есть ли аномалии в выборке"
   ]
  },
  {
   "cell_type": "code",
   "execution_count": 8,
   "metadata": {},
   "outputs": [
    {
     "data": {
      "text/plain": [
       "Bass 1       39\n",
       "Soprano 1    36\n",
       "Alto 1       35\n",
       "Soprano 2    30\n",
       "Alto 2       27\n",
       "Bass 2       26\n",
       "Tenor 2      21\n",
       "Tenor 1      21\n",
       "Name: voice_part, dtype: int64"
      ]
     },
     "execution_count": 8,
     "metadata": {},
     "output_type": "execute_result"
    }
   ],
   "source": [
    "df.voice_part.value_counts()"
   ]
  },
  {
   "cell_type": "code",
   "execution_count": 9,
   "metadata": {},
   "outputs": [
    {
     "data": {
      "text/plain": [
       "<matplotlib.axes._subplots.AxesSubplot at 0x12971b748>"
      ]
     },
     "execution_count": 9,
     "metadata": {},
     "output_type": "execute_result"
    },
    {
     "data": {
      "image/png": "[encoded data removed]",
      "text/plain": [
       "<Figure size 1152x432 with 1 Axes>"
      ]
     },
     "metadata": {
      "needs_background": "light"
     },
     "output_type": "display_data"
    }
   ],
   "source": [
    "plt.figure(figsize=(16, 6))\n",
    "sns.boxplot('voice_part',  'height',  data=df)"
   ]
  },
  {
   "cell_type": "code",
   "execution_count": 10,
   "metadata": {},
   "outputs": [
    {
     "data": {
      "text/plain": [
       "<matplotlib.axes._subplots.AxesSubplot at 0x12971b668>"
      ]
     },
     "execution_count": 10,
     "metadata": {},
     "output_type": "execute_result"
    },
    {
     "data": {
      "image/png": "[encoded data removed]",
      "text/plain": [
       "<Figure size 1152x432 with 1 Axes>"
      ]
     },
     "metadata": {
      "needs_background": "light"
     },
     "output_type": "display_data"
    }
   ],
   "source": [
    "plt.figure(figsize=(16, 6))\n",
    "sns.violinplot('voice_part',  'height',  data=df)"
   ]
  },
  {
   "cell_type": "markdown",
   "metadata": {},
   "source": [
    "**Разобьём данные на выборки и проверим гипотезу о равенстве средних при помощи критерия Крускалла-Уоллиса**"
   ]
  },
  {
   "cell_type": "code",
   "execution_count": 11,
   "metadata": {},
   "outputs": [],
   "source": [
    "heights_groups = list(cur_df.height for _, cur_df in df.groupby('voice_part'))"
   ]
  },
  {
   "cell_type": "code",
   "execution_count": 12,
   "metadata": {},
   "outputs": [
    {
     "data": {
      "text/plain": [
       "KruskalResult(statistic=141.8362211682088, pvalue=2.095721187194668e-27)"
      ]
     },
     "execution_count": 12,
     "metadata": {},
     "output_type": "execute_result"
    }
   ],
   "source": [
    "from scipy.stats import kruskal\n",
    "kruskal(*heights_groups)"
   ]
  },
  {
   "cell_type": "markdown",
   "metadata": {},
   "source": [
    "**Гипотетза о равенстве средних во всех группах отвергается. Можно ли воспользоваться более точным критерием Фишера? Проверим равенство дисперсий**"
   ]
  },
  {
   "cell_type": "code",
   "execution_count": 13,
   "metadata": {},
   "outputs": [
    {
     "data": {
      "text/plain": [
       "BartlettResult(statistic=11.736455812487739, pvalue=0.10956559358742156)"
      ]
     },
     "execution_count": 13,
     "metadata": {},
     "output_type": "execute_result"
    }
   ],
   "source": [
    "from scipy.stats import bartlett\n",
    "bartlett(*heights_groups)"
   ]
  },
  {
   "cell_type": "markdown",
   "metadata": {},
   "source": [
    "**Да. Критерий Фишера**"
   ]
  },
  {
   "cell_type": "code",
   "execution_count": 15,
   "metadata": {},
   "outputs": [
    {
     "data": {
      "text/plain": [
       "F_onewayResult(statistic=45.6418910588508, pvalue=5.617049546739561e-40)"
      ]
     },
     "execution_count": 15,
     "metadata": {},
     "output_type": "execute_result"
    }
   ],
   "source": [
    "from scipy.stats import f_oneway\n",
    "f_oneway(*heights_groups)"
   ]
  },
  {
   "cell_type": "markdown",
   "metadata": {},
   "source": [
    "**Для оценки эффекта воспользуемся реализацией ANOVA из пакета `statsmodels`.**"
   ]
  },
  {
   "cell_type": "code",
   "execution_count": 21,
   "metadata": {},
   "outputs": [
    {
     "data": {
      "text/html": [
       "<div>\n",
       "<style scoped>\n",
       "    .dataframe tbody tr th:only-of-type {\n",
       "        vertical-align: middle;\n",
       "    }\n",
       "\n",
       "    .dataframe tbody tr th {\n",
       "        vertical-align: top;\n",
       "    }\n",
       "\n",
       "    .dataframe thead th {\n",
       "        text-align: right;\n",
       "    }\n",
       "</style>\n",
       "<table border=\"1\" class=\"dataframe\">\n",
       "  <thead>\n",
       "    <tr style=\"text-align: right;\">\n",
       "      <th></th>\n",
       "      <th>df</th>\n",
       "      <th>sum_sq</th>\n",
       "      <th>mean_sq</th>\n",
       "      <th>F</th>\n",
       "      <th>PR(&gt;F)</th>\n",
       "    </tr>\n",
       "  </thead>\n",
       "  <tbody>\n",
       "    <tr>\n",
       "      <th>C(voice_part)</th>\n",
       "      <td>7.0</td>\n",
       "      <td>12911.303982</td>\n",
       "      <td>1844.471997</td>\n",
       "      <td>45.641891</td>\n",
       "      <td>5.617050e-40</td>\n",
       "    </tr>\n",
       "    <tr>\n",
       "      <th>Residual</th>\n",
       "      <td>227.0</td>\n",
       "      <td>9173.483695</td>\n",
       "      <td>40.411822</td>\n",
       "      <td>NaN</td>\n",
       "      <td>NaN</td>\n",
       "    </tr>\n",
       "  </tbody>\n",
       "</table>\n",
       "</div>"
      ],
      "text/plain": [
       "                  df        sum_sq      mean_sq          F        PR(>F)\n",
       "C(voice_part)    7.0  12911.303982  1844.471997  45.641891  5.617050e-40\n",
       "Residual       227.0   9173.483695    40.411822        NaN           NaN"
      ]
     },
     "execution_count": 21,
     "metadata": {},
     "output_type": "execute_result"
    }
   ],
   "source": [
    "import statsmodels.api as sm\n",
    "from statsmodels.formula.api import ols\n",
    "from statsmodels.stats.anova import anova_lm\n",
    "\n",
    "model = ols('height ~ C(voice_part)', data=df).fit()\n",
    "aov = anova_lm(model)\n",
    "aov"
   ]
  },
  {
   "cell_type": "markdown",
   "metadata": {},
   "source": [
    "**Посчитаем коэффициент $\\eta^2$**"
   ]
  },
  {
   "cell_type": "code",
   "execution_count": 20,
   "metadata": {},
   "outputs": [
    {
     "data": {
      "text/html": [
       "<div>\n",
       "<style scoped>\n",
       "    .dataframe tbody tr th:only-of-type {\n",
       "        vertical-align: middle;\n",
       "    }\n",
       "\n",
       "    .dataframe tbody tr th {\n",
       "        vertical-align: top;\n",
       "    }\n",
       "\n",
       "    .dataframe thead th {\n",
       "        text-align: right;\n",
       "    }\n",
       "</style>\n",
       "<table border=\"1\" class=\"dataframe\">\n",
       "  <thead>\n",
       "    <tr style=\"text-align: right;\">\n",
       "      <th></th>\n",
       "      <th>df</th>\n",
       "      <th>sum_sq</th>\n",
       "      <th>mean_sq</th>\n",
       "      <th>F</th>\n",
       "      <th>PR(&gt;F)</th>\n",
       "      <th>eta_sq</th>\n",
       "    </tr>\n",
       "  </thead>\n",
       "  <tbody>\n",
       "    <tr>\n",
       "      <th>C(voice_part)</th>\n",
       "      <td>7.0</td>\n",
       "      <td>12911.303982</td>\n",
       "      <td>1844.471997</td>\n",
       "      <td>45.641891</td>\n",
       "      <td>5.617050e-40</td>\n",
       "      <td>0.584624</td>\n",
       "    </tr>\n",
       "    <tr>\n",
       "      <th>Residual</th>\n",
       "      <td>227.0</td>\n",
       "      <td>9173.483695</td>\n",
       "      <td>40.411822</td>\n",
       "      <td>NaN</td>\n",
       "      <td>NaN</td>\n",
       "      <td>NaN</td>\n",
       "    </tr>\n",
       "  </tbody>\n",
       "</table>\n",
       "</div>"
      ],
      "text/plain": [
       "                  df        sum_sq      mean_sq          F        PR(>F)  \\\n",
       "C(voice_part)    7.0  12911.303982  1844.471997  45.641891  5.617050e-40   \n",
       "Residual       227.0   9173.483695    40.411822        NaN           NaN   \n",
       "\n",
       "                 eta_sq  \n",
       "C(voice_part)  0.584624  \n",
       "Residual            NaN  "
      ]
     },
     "execution_count": 20,
     "metadata": {},
     "output_type": "execute_result"
    }
   ],
   "source": [
    "aov['eta_sq'] = aov[:-1]['sum_sq'] / aov['sum_sq'].sum()\n",
    "aov"
   ]
  },
  {
   "cell_type": "markdown",
   "metadata": {},
   "source": [
    "**Средние значения в группах**"
   ]
  },
  {
   "cell_type": "code",
   "execution_count": 27,
   "metadata": {},
   "outputs": [
    {
     "data": {
      "text/plain": [
       "height    164.809714\n",
       "dtype: float64"
      ]
     },
     "execution_count": 27,
     "metadata": {},
     "output_type": "execute_result"
    }
   ],
   "source": [
    "cur_df.mean()"
   ]
  },
  {
   "cell_type": "code",
   "execution_count": 35,
   "metadata": {},
   "outputs": [
    {
     "name": "stdout",
     "output_type": "stream",
     "text": [
      "    Alto 1:\tAverage height: 164.81\n",
      "    Alto 2:\tAverage height: 167.73\n",
      "    Bass 1:\tAverage height: 179.62\n",
      "    Bass 2:\tAverage height: 181.32\n",
      " Soprano 1:\tAverage height: 163.20\n",
      " Soprano 2:\tAverage height: 162.48\n",
      "   Tenor 1:\tAverage height: 175.02\n",
      "   Tenor 2:\tAverage height: 177.56\n"
     ]
    }
   ],
   "source": [
    "for voice_part, cur_df in df.groupby('voice_part'):\n",
    "    print('{:>10}:\\tAverage height: {:.2f}'.format(voice_part, cur_df['height'].mean()))"
   ]
  },
  {
   "cell_type": "code",
   "execution_count": 36,
   "metadata": {},
   "outputs": [
    {
     "name": "stdout",
     "output_type": "stream",
     "text": [
      "    Multiple Comparison of Means - Tukey HSD, FWER=0.05     \n",
      "============================================================\n",
      "  group1    group2  meandiff p-adj   lower    upper   reject\n",
      "------------------------------------------------------------\n",
      "   Alto 1    Alto 2   2.9244 0.6065  -2.0572   7.9059  False\n",
      "   Alto 1    Bass 1  14.8139  0.001  10.2856  19.3422   True\n",
      "   Alto 1    Bass 2  16.5072  0.001  11.4718  21.5426   True\n",
      "   Alto 1 Soprano 1  -1.6147    0.9  -6.2314    3.002  False\n",
      "   Alto 1 Soprano 2  -2.3344 0.7959  -7.1733   2.5046  False\n",
      "   Alto 1   Tenor 1  10.2084  0.001   4.8401  15.5767   True\n",
      "   Alto 1   Tenor 2  12.7484  0.001   7.3801  18.1167   True\n",
      "   Alto 2    Bass 1  11.8895  0.001   7.0205  16.7586   True\n",
      "   Alto 2    Bass 2  13.5828  0.001    8.239  18.9267   True\n",
      "   Alto 2 Soprano 1  -4.5391 0.0989  -9.4904   0.4123  False\n",
      "   Alto 2 Soprano 2  -5.2587 0.0423 -10.4179  -0.0995   True\n",
      "   Alto 2   Tenor 1    7.284 0.0027   1.6253  12.9427   True\n",
      "   Alto 2   Tenor 2    9.824  0.001   4.1653  15.4827   True\n",
      "   Bass 1    Bass 2   1.6933    0.9  -3.2307   6.6174  False\n",
      "   Bass 1 Soprano 1 -16.4286  0.001 -20.9236 -11.9335   True\n",
      "   Bass 1 Soprano 2 -17.1483  0.001 -21.8713 -12.4252   True\n",
      "   Bass 1   Tenor 1  -4.6055 0.1348  -9.8696   0.6586  False\n",
      "   Bass 1   Tenor 2  -2.0655    0.9  -7.3296   3.1986  False\n",
      "   Bass 2 Soprano 1 -18.1219  0.001 -23.1274 -13.1164   True\n",
      "   Bass 2 Soprano 2 -18.8416  0.001 -24.0527 -13.6304   True\n",
      "   Bass 2   Tenor 1  -6.2988 0.0192 -12.0049  -0.5927   True\n",
      "   Bass 2   Tenor 2  -3.7588 0.4754  -9.4649   1.9473  False\n",
      "Soprano 1 Soprano 2  -0.7197    0.9  -5.5275   4.0881  False\n",
      "Soprano 1   Tenor 1  11.8231  0.001   6.4828  17.1634   True\n",
      "Soprano 1   Tenor 2  14.3631  0.001   9.0228  19.7034   True\n",
      "Soprano 2   Tenor 1  12.5428  0.001   7.0092  18.0763   True\n",
      "Soprano 2   Tenor 2  15.0828  0.001   9.5492  20.6163   True\n",
      "  Tenor 1   Tenor 2     2.54    0.9   -3.462    8.542  False\n",
      "------------------------------------------------------------\n"
     ]
    }
   ],
   "source": [
    "from statsmodels.stats.multicomp import pairwise_tukeyhsd\n",
    "from statsmodels.stats.multicomp import MultiComparison\n",
    "\n",
    "mc = MultiComparison(df['height'], df['voice_part'])\n",
    "mc_results = mc.tukeyhsd()\n",
    "\n",
    "print(mc_results)"
   ]
  },
  {
   "cell_type": "markdown",
   "metadata": {},
   "source": [
    "### Вывод\n",
    "Регистр голоса действительно статистически связан с высотой певца и объясняет 58% дисперсии в выборке.  \n",
    "Средний рост певцов по типу голоса: \n",
    "\n",
    "* Alto 1: 164.81см\n",
    "* Alto 2: 167.73см\n",
    "* Bass 1: 179.62см\n",
    "* Bass 2: 181.32см\n",
    "* Soprano 1: 163.20см\n",
    "* Soprano 2: 162.48см\n",
    "* Tenor 1: 175.02см\n",
    "* Tenor 2: 177.56см"
   ]
  },
  {
   "cell_type": "code",
   "execution_count": null,
   "metadata": {},
   "outputs": [],
   "source": []
  }
 ],
 "metadata": {
  "kernelspec": {
   "display_name": "Python 3",
   "language": "python",
   "name": "python3"
  },
  "language_info": {
   "codemirror_mode": {
    "name": "ipython",
    "version": 3
   },
   "file_extension": ".py",
   "mimetype": "text/x-python",
   "name": "python",
   "nbconvert_exporter": "python",
   "pygments_lexer": "ipython3",
   "version": "3.6.1"
  }
 },
 "nbformat": 4,
 "nbformat_minor": 2
}
