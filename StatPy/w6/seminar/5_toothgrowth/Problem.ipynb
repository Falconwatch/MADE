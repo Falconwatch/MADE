{
 "cells": [
  {
   "cell_type": "markdown",
   "metadata": {},
   "source": [
    "# Влияние витамина C на рост зубов морских свинок\n",
    "В эксперименте изучалось влияние витамина C на рост одонтобластов морских свинок. \n",
    "\n",
    "<img src=\"https://upload.wikimedia.org/wikipedia/commons/1/1c/Enamelmineralization11-17-05.jpg\" alt=\"Drawing\" style=\"width: 300px;\"/>\n",
    "\n",
    "Рассматривалось три дозы витамина (0.5, 1 и 2 мг) и два способа его приёма (апельсиновый сок и аскорбиновая кислота). В каждой из 6 групп по уровням двух факторов были произведены измерения для 10 морских свинок."
   ]
  },
  {
   "cell_type": "code",
   "execution_count": 2,
   "metadata": {},
   "outputs": [],
   "source": [
    "import pandas as pd\n",
    "import seaborn as sns\n",
    "sns.set_style('darkgrid')"
   ]
  },
  {
   "cell_type": "code",
   "execution_count": 3,
   "metadata": {},
   "outputs": [],
   "source": [
    "import statsmodels.api as sm\n",
    "from statsmodels.formula.api import ols\n",
    "from statsmodels.stats.anova import anova_lm\n",
    "from statsmodels.graphics.factorplots import interaction_plot"
   ]
  },
  {
   "cell_type": "code",
   "execution_count": 5,
   "metadata": {},
   "outputs": [],
   "source": [
    "df = pd.read_csv('ToothGrowth.csv')"
   ]
  },
  {
   "cell_type": "code",
   "execution_count": 11,
   "metadata": {},
   "outputs": [
    {
     "data": {
      "text/html": [
       "<div>\n",
       "<style scoped>\n",
       "    .dataframe tbody tr th:only-of-type {\n",
       "        vertical-align: middle;\n",
       "    }\n",
       "\n",
       "    .dataframe tbody tr th {\n",
       "        vertical-align: top;\n",
       "    }\n",
       "\n",
       "    .dataframe thead th {\n",
       "        text-align: right;\n",
       "    }\n",
       "</style>\n",
       "<table border=\"1\" class=\"dataframe\">\n",
       "  <thead>\n",
       "    <tr style=\"text-align: right;\">\n",
       "      <th></th>\n",
       "      <th>df</th>\n",
       "      <th>sum_sq</th>\n",
       "      <th>mean_sq</th>\n",
       "      <th>F</th>\n",
       "      <th>PR(&gt;F)</th>\n",
       "      <th>eta_sq</th>\n",
       "    </tr>\n",
       "  </thead>\n",
       "  <tbody>\n",
       "    <tr>\n",
       "      <th>C(supp)</th>\n",
       "      <td>1.0</td>\n",
       "      <td>205.3500</td>\n",
       "      <td>205.3500</td>\n",
       "      <td>15.572</td>\n",
       "      <td>0.0002</td>\n",
       "      <td>0.0595</td>\n",
       "    </tr>\n",
       "    <tr>\n",
       "      <th>C(dose)</th>\n",
       "      <td>2.0</td>\n",
       "      <td>2426.4343</td>\n",
       "      <td>1213.2172</td>\n",
       "      <td>92.000</td>\n",
       "      <td>0.0000</td>\n",
       "      <td>0.7029</td>\n",
       "    </tr>\n",
       "    <tr>\n",
       "      <th>C(dose):C(supp)</th>\n",
       "      <td>2.0</td>\n",
       "      <td>108.3190</td>\n",
       "      <td>54.1595</td>\n",
       "      <td>4.107</td>\n",
       "      <td>0.0219</td>\n",
       "      <td>0.0314</td>\n",
       "    </tr>\n",
       "    <tr>\n",
       "      <th>Residual</th>\n",
       "      <td>54.0</td>\n",
       "      <td>712.1060</td>\n",
       "      <td>13.1871</td>\n",
       "      <td>NaN</td>\n",
       "      <td>NaN</td>\n",
       "      <td>NaN</td>\n",
       "    </tr>\n",
       "  </tbody>\n",
       "</table>\n",
       "</div>"
      ],
      "text/plain": [
       "                   df     sum_sq    mean_sq       F  PR(>F)  eta_sq\n",
       "C(supp)           1.0   205.3500   205.3500  15.572  0.0002  0.0595\n",
       "C(dose)           2.0  2426.4343  1213.2172  92.000  0.0000  0.7029\n",
       "C(dose):C(supp)   2.0   108.3190    54.1595   4.107  0.0219  0.0314\n",
       "Residual         54.0   712.1060    13.1871     NaN     NaN     NaN"
      ]
     },
     "execution_count": 11,
     "metadata": {},
     "output_type": "execute_result"
    }
   ],
   "source": [
    "model = ols('len ~ C(supp) + C(dose) + C(dose):C(supp)', df).fit()\n",
    "aov = anova_lm(model)\n",
    "aov['eta_sq'] = aov[:-1]['sum_sq'] / aov['sum_sq'].sum()   \n",
    "aov.round(4)"
   ]
  },
  {
   "cell_type": "code",
   "execution_count": null,
   "metadata": {},
   "outputs": [],
   "source": []
  }
 ],
 "metadata": {
  "kernelspec": {
   "display_name": "Python 3",
   "language": "python",
   "name": "python3"
  },
  "language_info": {
   "codemirror_mode": {
    "name": "ipython",
    "version": 3
   },
   "file_extension": ".py",
   "mimetype": "text/x-python",
   "name": "python",
   "nbconvert_exporter": "python",
   "pygments_lexer": "ipython3",
   "version": "3.6.1"
  }
 },
 "nbformat": 4,
 "nbformat_minor": 2
}
